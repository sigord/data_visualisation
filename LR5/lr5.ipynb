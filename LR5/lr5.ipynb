{
 "cells": [
  {
   "cell_type": "markdown",
   "metadata": {},
   "source": [
    "# Lab 5 Data Visualisation on Python with Plotly"
   ]
  },
  {
   "cell_type": "markdown",
   "metadata": {},
   "source": [
    "## 1. Import data"
   ]
  },
  {
   "cell_type": "code",
   "execution_count": 1,
   "metadata": {},
   "outputs": [],
   "source": [
    "import plotly.express as px\n",
    "import plotly.graph_objects as go\n",
    "import plotly.subplots as sp\n",
    "import plotly.figure_factory as ff\n",
    "import pandas as pd\n",
    "# to run in colab\n",
    "# !git clone https://github.com/sigord/data_visualisation\n",
    "# %cd /content/data_visualisation/LR5\n",
    "df = pd.read_excel('lab5.xlsx')"
   ]
  },
  {
   "cell_type": "markdown",
   "metadata": {},
   "source": [
    "## 2. Using plotly.express, construct a pie chart showing the proportion of respondents with different social status (status field)."
   ]
  },
  {
   "cell_type": "code",
   "execution_count": 2,
   "metadata": {},
   "outputs": [
    {
     "data": {
      "application/vnd.plotly.v1+json": {
       "config": {
        "plotlyServerURL": "https://plot.ly"
       },
       "data": [
        {
         "domain": {
          "x": [
           0,
           1
          ],
          "y": [
           0,
           1
          ]
         },
         "hovertemplate": "index=%{label}<br>status=%{value}<extra></extra>",
         "labels": [
          "divorced",
          "married",
          "single",
          "widow"
         ],
         "legendgroup": "",
         "name": "",
         "showlegend": true,
         "type": "pie",
         "values": [
          229,
          323,
          396,
          52
         ]
        }
       ],
       "layout": {
        "legend": {
         "tracegroupgap": 0
        },
        "template": {
         "data": {
          "bar": [
           {
            "error_x": {
             "color": "#2a3f5f"
            },
            "error_y": {
             "color": "#2a3f5f"
            },
            "marker": {
             "line": {
              "color": "#E5ECF6",
              "width": 0.5
             },
             "pattern": {
              "fillmode": "overlay",
              "size": 10,
              "solidity": 0.2
             }
            },
            "type": "bar"
           }
          ],
          "barpolar": [
           {
            "marker": {
             "line": {
              "color": "#E5ECF6",
              "width": 0.5
             },
             "pattern": {
              "fillmode": "overlay",
              "size": 10,
              "solidity": 0.2
             }
            },
            "type": "barpolar"
           }
          ],
          "carpet": [
           {
            "aaxis": {
             "endlinecolor": "#2a3f5f",
             "gridcolor": "white",
             "linecolor": "white",
             "minorgridcolor": "white",
             "startlinecolor": "#2a3f5f"
            },
            "baxis": {
             "endlinecolor": "#2a3f5f",
             "gridcolor": "white",
             "linecolor": "white",
             "minorgridcolor": "white",
             "startlinecolor": "#2a3f5f"
            },
            "type": "carpet"
           }
          ],
          "choropleth": [
           {
            "colorbar": {
             "outlinewidth": 0,
             "ticks": ""
            },
            "type": "choropleth"
           }
          ],
          "contour": [
           {
            "colorbar": {
             "outlinewidth": 0,
             "ticks": ""
            },
            "colorscale": [
             [
              0,
              "#0d0887"
             ],
             [
              0.1111111111111111,
              "#46039f"
             ],
             [
              0.2222222222222222,
              "#7201a8"
             ],
             [
              0.3333333333333333,
              "#9c179e"
             ],
             [
              0.4444444444444444,
              "#bd3786"
             ],
             [
              0.5555555555555556,
              "#d8576b"
             ],
             [
              0.6666666666666666,
              "#ed7953"
             ],
             [
              0.7777777777777778,
              "#fb9f3a"
             ],
             [
              0.8888888888888888,
              "#fdca26"
             ],
             [
              1,
              "#f0f921"
             ]
            ],
            "type": "contour"
           }
          ],
          "contourcarpet": [
           {
            "colorbar": {
             "outlinewidth": 0,
             "ticks": ""
            },
            "type": "contourcarpet"
           }
          ],
          "heatmap": [
           {
            "colorbar": {
             "outlinewidth": 0,
             "ticks": ""
            },
            "colorscale": [
             [
              0,
              "#0d0887"
             ],
             [
              0.1111111111111111,
              "#46039f"
             ],
             [
              0.2222222222222222,
              "#7201a8"
             ],
             [
              0.3333333333333333,
              "#9c179e"
             ],
             [
              0.4444444444444444,
              "#bd3786"
             ],
             [
              0.5555555555555556,
              "#d8576b"
             ],
             [
              0.6666666666666666,
              "#ed7953"
             ],
             [
              0.7777777777777778,
              "#fb9f3a"
             ],
             [
              0.8888888888888888,
              "#fdca26"
             ],
             [
              1,
              "#f0f921"
             ]
            ],
            "type": "heatmap"
           }
          ],
          "heatmapgl": [
           {
            "colorbar": {
             "outlinewidth": 0,
             "ticks": ""
            },
            "colorscale": [
             [
              0,
              "#0d0887"
             ],
             [
              0.1111111111111111,
              "#46039f"
             ],
             [
              0.2222222222222222,
              "#7201a8"
             ],
             [
              0.3333333333333333,
              "#9c179e"
             ],
             [
              0.4444444444444444,
              "#bd3786"
             ],
             [
              0.5555555555555556,
              "#d8576b"
             ],
             [
              0.6666666666666666,
              "#ed7953"
             ],
             [
              0.7777777777777778,
              "#fb9f3a"
             ],
             [
              0.8888888888888888,
              "#fdca26"
             ],
             [
              1,
              "#f0f921"
             ]
            ],
            "type": "heatmapgl"
           }
          ],
          "histogram": [
           {
            "marker": {
             "pattern": {
              "fillmode": "overlay",
              "size": 10,
              "solidity": 0.2
             }
            },
            "type": "histogram"
           }
          ],
          "histogram2d": [
           {
            "colorbar": {
             "outlinewidth": 0,
             "ticks": ""
            },
            "colorscale": [
             [
              0,
              "#0d0887"
             ],
             [
              0.1111111111111111,
              "#46039f"
             ],
             [
              0.2222222222222222,
              "#7201a8"
             ],
             [
              0.3333333333333333,
              "#9c179e"
             ],
             [
              0.4444444444444444,
              "#bd3786"
             ],
             [
              0.5555555555555556,
              "#d8576b"
             ],
             [
              0.6666666666666666,
              "#ed7953"
             ],
             [
              0.7777777777777778,
              "#fb9f3a"
             ],
             [
              0.8888888888888888,
              "#fdca26"
             ],
             [
              1,
              "#f0f921"
             ]
            ],
            "type": "histogram2d"
           }
          ],
          "histogram2dcontour": [
           {
            "colorbar": {
             "outlinewidth": 0,
             "ticks": ""
            },
            "colorscale": [
             [
              0,
              "#0d0887"
             ],
             [
              0.1111111111111111,
              "#46039f"
             ],
             [
              0.2222222222222222,
              "#7201a8"
             ],
             [
              0.3333333333333333,
              "#9c179e"
             ],
             [
              0.4444444444444444,
              "#bd3786"
             ],
             [
              0.5555555555555556,
              "#d8576b"
             ],
             [
              0.6666666666666666,
              "#ed7953"
             ],
             [
              0.7777777777777778,
              "#fb9f3a"
             ],
             [
              0.8888888888888888,
              "#fdca26"
             ],
             [
              1,
              "#f0f921"
             ]
            ],
            "type": "histogram2dcontour"
           }
          ],
          "mesh3d": [
           {
            "colorbar": {
             "outlinewidth": 0,
             "ticks": ""
            },
            "type": "mesh3d"
           }
          ],
          "parcoords": [
           {
            "line": {
             "colorbar": {
              "outlinewidth": 0,
              "ticks": ""
             }
            },
            "type": "parcoords"
           }
          ],
          "pie": [
           {
            "automargin": true,
            "type": "pie"
           }
          ],
          "scatter": [
           {
            "fillpattern": {
             "fillmode": "overlay",
             "size": 10,
             "solidity": 0.2
            },
            "type": "scatter"
           }
          ],
          "scatter3d": [
           {
            "line": {
             "colorbar": {
              "outlinewidth": 0,
              "ticks": ""
             }
            },
            "marker": {
             "colorbar": {
              "outlinewidth": 0,
              "ticks": ""
             }
            },
            "type": "scatter3d"
           }
          ],
          "scattercarpet": [
           {
            "marker": {
             "colorbar": {
              "outlinewidth": 0,
              "ticks": ""
             }
            },
            "type": "scattercarpet"
           }
          ],
          "scattergeo": [
           {
            "marker": {
             "colorbar": {
              "outlinewidth": 0,
              "ticks": ""
             }
            },
            "type": "scattergeo"
           }
          ],
          "scattergl": [
           {
            "marker": {
             "colorbar": {
              "outlinewidth": 0,
              "ticks": ""
             }
            },
            "type": "scattergl"
           }
          ],
          "scattermapbox": [
           {
            "marker": {
             "colorbar": {
              "outlinewidth": 0,
              "ticks": ""
             }
            },
            "type": "scattermapbox"
           }
          ],
          "scatterpolar": [
           {
            "marker": {
             "colorbar": {
              "outlinewidth": 0,
              "ticks": ""
             }
            },
            "type": "scatterpolar"
           }
          ],
          "scatterpolargl": [
           {
            "marker": {
             "colorbar": {
              "outlinewidth": 0,
              "ticks": ""
             }
            },
            "type": "scatterpolargl"
           }
          ],
          "scatterternary": [
           {
            "marker": {
             "colorbar": {
              "outlinewidth": 0,
              "ticks": ""
             }
            },
            "type": "scatterternary"
           }
          ],
          "surface": [
           {
            "colorbar": {
             "outlinewidth": 0,
             "ticks": ""
            },
            "colorscale": [
             [
              0,
              "#0d0887"
             ],
             [
              0.1111111111111111,
              "#46039f"
             ],
             [
              0.2222222222222222,
              "#7201a8"
             ],
             [
              0.3333333333333333,
              "#9c179e"
             ],
             [
              0.4444444444444444,
              "#bd3786"
             ],
             [
              0.5555555555555556,
              "#d8576b"
             ],
             [
              0.6666666666666666,
              "#ed7953"
             ],
             [
              0.7777777777777778,
              "#fb9f3a"
             ],
             [
              0.8888888888888888,
              "#fdca26"
             ],
             [
              1,
              "#f0f921"
             ]
            ],
            "type": "surface"
           }
          ],
          "table": [
           {
            "cells": {
             "fill": {
              "color": "#EBF0F8"
             },
             "line": {
              "color": "white"
             }
            },
            "header": {
             "fill": {
              "color": "#C8D4E3"
             },
             "line": {
              "color": "white"
             }
            },
            "type": "table"
           }
          ]
         },
         "layout": {
          "annotationdefaults": {
           "arrowcolor": "#2a3f5f",
           "arrowhead": 0,
           "arrowwidth": 1
          },
          "autotypenumbers": "strict",
          "coloraxis": {
           "colorbar": {
            "outlinewidth": 0,
            "ticks": ""
           }
          },
          "colorscale": {
           "diverging": [
            [
             0,
             "#8e0152"
            ],
            [
             0.1,
             "#c51b7d"
            ],
            [
             0.2,
             "#de77ae"
            ],
            [
             0.3,
             "#f1b6da"
            ],
            [
             0.4,
             "#fde0ef"
            ],
            [
             0.5,
             "#f7f7f7"
            ],
            [
             0.6,
             "#e6f5d0"
            ],
            [
             0.7,
             "#b8e186"
            ],
            [
             0.8,
             "#7fbc41"
            ],
            [
             0.9,
             "#4d9221"
            ],
            [
             1,
             "#276419"
            ]
           ],
           "sequential": [
            [
             0,
             "#0d0887"
            ],
            [
             0.1111111111111111,
             "#46039f"
            ],
            [
             0.2222222222222222,
             "#7201a8"
            ],
            [
             0.3333333333333333,
             "#9c179e"
            ],
            [
             0.4444444444444444,
             "#bd3786"
            ],
            [
             0.5555555555555556,
             "#d8576b"
            ],
            [
             0.6666666666666666,
             "#ed7953"
            ],
            [
             0.7777777777777778,
             "#fb9f3a"
            ],
            [
             0.8888888888888888,
             "#fdca26"
            ],
            [
             1,
             "#f0f921"
            ]
           ],
           "sequentialminus": [
            [
             0,
             "#0d0887"
            ],
            [
             0.1111111111111111,
             "#46039f"
            ],
            [
             0.2222222222222222,
             "#7201a8"
            ],
            [
             0.3333333333333333,
             "#9c179e"
            ],
            [
             0.4444444444444444,
             "#bd3786"
            ],
            [
             0.5555555555555556,
             "#d8576b"
            ],
            [
             0.6666666666666666,
             "#ed7953"
            ],
            [
             0.7777777777777778,
             "#fb9f3a"
            ],
            [
             0.8888888888888888,
             "#fdca26"
            ],
            [
             1,
             "#f0f921"
            ]
           ]
          },
          "colorway": [
           "#636efa",
           "#EF553B",
           "#00cc96",
           "#ab63fa",
           "#FFA15A",
           "#19d3f3",
           "#FF6692",
           "#B6E880",
           "#FF97FF",
           "#FECB52"
          ],
          "font": {
           "color": "#2a3f5f"
          },
          "geo": {
           "bgcolor": "white",
           "lakecolor": "white",
           "landcolor": "#E5ECF6",
           "showlakes": true,
           "showland": true,
           "subunitcolor": "white"
          },
          "hoverlabel": {
           "align": "left"
          },
          "hovermode": "closest",
          "mapbox": {
           "style": "light"
          },
          "paper_bgcolor": "white",
          "plot_bgcolor": "#E5ECF6",
          "polar": {
           "angularaxis": {
            "gridcolor": "white",
            "linecolor": "white",
            "ticks": ""
           },
           "bgcolor": "#E5ECF6",
           "radialaxis": {
            "gridcolor": "white",
            "linecolor": "white",
            "ticks": ""
           }
          },
          "scene": {
           "xaxis": {
            "backgroundcolor": "#E5ECF6",
            "gridcolor": "white",
            "gridwidth": 2,
            "linecolor": "white",
            "showbackground": true,
            "ticks": "",
            "zerolinecolor": "white"
           },
           "yaxis": {
            "backgroundcolor": "#E5ECF6",
            "gridcolor": "white",
            "gridwidth": 2,
            "linecolor": "white",
            "showbackground": true,
            "ticks": "",
            "zerolinecolor": "white"
           },
           "zaxis": {
            "backgroundcolor": "#E5ECF6",
            "gridcolor": "white",
            "gridwidth": 2,
            "linecolor": "white",
            "showbackground": true,
            "ticks": "",
            "zerolinecolor": "white"
           }
          },
          "shapedefaults": {
           "line": {
            "color": "#2a3f5f"
           }
          },
          "ternary": {
           "aaxis": {
            "gridcolor": "white",
            "linecolor": "white",
            "ticks": ""
           },
           "baxis": {
            "gridcolor": "white",
            "linecolor": "white",
            "ticks": ""
           },
           "bgcolor": "#E5ECF6",
           "caxis": {
            "gridcolor": "white",
            "linecolor": "white",
            "ticks": ""
           }
          },
          "title": {
           "x": 0.05
          },
          "xaxis": {
           "automargin": true,
           "gridcolor": "white",
           "linecolor": "white",
           "ticks": "",
           "title": {
            "standoff": 15
           },
           "zerolinecolor": "white",
           "zerolinewidth": 2
          },
          "yaxis": {
           "automargin": true,
           "gridcolor": "white",
           "linecolor": "white",
           "ticks": "",
           "title": {
            "standoff": 15
           },
           "zerolinecolor": "white",
           "zerolinewidth": 2
          }
         }
        },
        "title": {
         "text": "Social status"
        }
       }
      }
     },
     "metadata": {},
     "output_type": "display_data"
    }
   ],
   "source": [
    "s1 = df['status'].groupby(df['status']).count()\n",
    "px.pie(s1, values='status', names=s1.index, title='Social status')"
   ]
  },
  {
   "cell_type": "markdown",
   "metadata": {},
   "source": [
    "## 3. Using plotly.express, construct a scatter plot showing the respondent's income in relation to their age.\n",
    "3.1. Change the name of the X-axis to \"Age, full number of years\"."
   ]
  },
  {
   "cell_type": "code",
   "execution_count": 3,
   "metadata": {},
   "outputs": [
    {
     "data": {
      "application/vnd.plotly.v1+json": {
       "config": {
        "plotlyServerURL": "https://plot.ly"
       },
       "data": [
        {
         "hovertemplate": "sex=female<br>Age, full number of years=%{x}<br>income=%{y}<extra></extra>",
         "legendgroup": "female",
         "marker": {
          "color": "#636efa",
          "symbol": "circle"
         },
         "mode": "markers",
         "name": "female",
         "orientation": "v",
         "showlegend": true,
         "type": "scatter",
         "x": [
          47,
          35,
          50,
          44,
          44,
          41,
          41,
          30,
          30,
          58,
          33,
          34,
          49,
          43,
          45,
          55,
          37,
          35,
          44,
          41,
          52,
          54,
          41,
          52,
          57,
          42,
          38,
          44,
          47,
          27,
          37,
          26,
          41,
          50,
          57,
          40,
          47,
          42,
          53,
          33,
          52,
          46,
          35,
          49,
          46,
          49,
          53,
          45,
          57,
          43,
          31,
          51,
          32,
          49,
          51,
          42,
          55,
          46,
          51,
          42,
          48,
          55,
          46,
          45,
          33,
          34,
          48,
          42,
          43,
          57,
          44,
          47,
          49,
          47,
          45,
          37,
          51,
          44,
          37,
          20,
          59,
          34,
          38,
          55,
          52,
          44,
          43,
          52,
          48,
          48,
          47,
          52,
          41,
          48,
          49,
          38,
          42,
          45,
          56,
          47,
          49,
          60,
          44,
          46,
          37,
          29,
          40,
          35,
          38,
          37,
          52,
          49,
          40,
          51,
          48,
          50,
          52,
          34,
          36,
          46,
          45,
          38,
          33,
          32,
          49,
          61,
          64,
          42,
          54,
          44,
          45,
          52,
          52,
          43,
          42,
          44,
          31,
          44,
          42,
          46,
          36,
          45,
          44,
          46,
          49,
          42,
          38,
          55,
          49,
          44,
          47,
          55,
          48,
          44,
          56,
          51,
          41,
          39,
          40,
          45,
          45,
          48,
          45,
          45,
          55,
          42,
          57,
          46,
          50,
          41,
          51,
          29,
          36,
          34,
          42,
          38,
          39,
          54,
          52,
          40,
          41,
          40,
          45,
          37,
          40,
          56,
          39,
          51,
          55,
          46,
          60,
          54,
          46,
          54,
          43,
          55,
          48,
          59,
          54,
          36,
          53,
          38,
          54,
          59,
          52,
          52,
          38,
          56,
          51,
          48,
          55,
          51,
          43,
          60,
          54,
          51,
          33,
          45,
          50,
          48,
          50,
          36,
          44,
          32,
          43,
          32,
          35,
          50,
          33,
          47,
          38,
          37,
          49,
          55,
          45,
          42,
          47,
          42,
          46,
          39,
          61,
          42,
          51,
          61,
          67,
          47,
          40,
          50,
          48,
          34,
          31,
          47,
          50,
          33,
          43,
          48,
          48,
          40,
          50,
          43,
          49,
          47,
          47,
          36,
          58,
          43,
          38,
          43,
          50,
          52,
          46,
          46,
          40,
          50,
          40,
          44,
          49,
          62,
          41,
          46,
          48,
          59,
          53,
          44,
          43,
          49,
          46,
          42,
          51,
          44,
          33,
          35,
          42,
          57,
          40,
          40,
          35,
          33,
          63,
          39,
          45,
          33,
          50,
          41,
          43,
          49,
          42,
          56,
          47,
          34,
          46,
          33,
          55,
          41,
          38,
          44,
          46,
          55,
          42,
          42,
          50,
          50,
          29,
          54,
          43,
          35,
          53,
          41,
          59,
          48,
          35,
          48,
          40,
          40,
          45,
          34,
          47,
          53,
          45,
          51,
          29,
          39,
          41,
          38,
          56,
          27,
          43,
          43,
          40,
          44,
          52,
          51,
          46,
          49,
          41,
          52,
          29,
          39,
          55,
          46,
          58,
          33,
          24,
          42,
          45,
          36,
          44,
          42,
          46,
          26,
          48,
          44,
          49,
          51,
          56,
          46,
          31,
          54,
          42,
          45,
          41,
          46,
          44,
          62,
          52,
          52,
          37,
          30,
          47,
          34,
          41,
          45,
          33,
          47,
          48,
          52,
          47,
          44,
          48,
          44,
          46,
          45,
          49,
          43,
          39,
          54,
          27,
          46,
          54,
          44,
          47,
          54,
          53,
          52,
          42,
          27,
          38,
          43,
          48,
          43,
          56,
          54,
          40,
          46,
          50,
          38,
          55,
          49,
          21,
          43,
          32,
          57,
          58,
          42,
          29,
          52,
          39,
          42,
          27,
          49,
          53,
          32,
          52,
          55,
          37,
          45,
          58,
          35,
          30,
          53,
          53,
          37,
          47,
          43,
          32,
          53,
          51,
          49,
          44,
          48,
          51,
          43,
          29,
          32,
          32,
          52,
          40,
          42,
          37,
          48,
          54,
          39,
          37,
          45,
          30,
          44,
          44,
          38,
          45,
          55,
          66,
          53,
          60,
          53,
          30,
          51,
          26,
          50,
          56,
          44,
          56,
          52,
          32,
          42,
          37,
          30,
          43,
          48,
          55,
          43,
          52,
          66,
          51,
          42,
          39,
          47,
          48,
          42,
          52,
          42,
          35,
          38,
          50,
          54,
          52,
          49,
          52,
          51,
          40,
          42,
          50,
          26,
          54,
          43,
          54,
          60,
          48,
          45,
          30,
          50,
          34,
          44,
          48,
          47,
          44,
          56,
          39,
          38,
          49,
          65,
          60,
          50,
          34,
          60,
          51,
          40,
          54,
          48,
          53,
          54,
          50,
          43,
          41,
          47,
          38,
          39,
          31,
          40,
          44,
          40,
          46,
          43,
          49,
          40,
          43,
          40,
          37,
          41,
          41,
          63,
          47,
          51,
          34,
          36,
          32,
          45,
          54,
          30,
          38,
          48,
          52,
          52,
          43,
          48,
          54,
          39,
          56,
          49,
          39,
          43,
          51,
          54,
          36,
          55,
          51,
          41,
          47,
          35,
          41,
          43,
          51,
          45,
          50,
          54,
          36,
          42,
          55,
          35,
          45,
          37,
          41,
          47,
          34,
          49,
          45,
          25,
          41,
          50,
          58,
          33,
          46,
          40,
          57,
          33,
          36,
          48,
          24,
          32,
          43,
          64,
          40,
          33,
          46,
          59
         ],
         "xaxis": "x",
         "y": [
          66888,
          57517,
          83789,
          75878,
          84700,
          74680,
          71707,
          46795,
          46445,
          79194,
          41715,
          37472,
          70467,
          79385,
          72190,
          87337,
          48702,
          42437,
          76381,
          74940,
          82314,
          72961,
          72109,
          83531,
          78237,
          85248,
          46248,
          72111,
          78948,
          63559,
          48083,
          39890,
          68071,
          76970,
          73323,
          79917,
          86783,
          86723,
          73919,
          35874,
          80392,
          79473,
          47731,
          77492,
          78119,
          81469,
          81885,
          84567,
          72031,
          78582,
          36657,
          85136,
          53469,
          84316,
          83906,
          79376,
          85557,
          76771,
          79050,
          82547,
          76236,
          76894,
          82017,
          73691,
          51115,
          63488,
          81613,
          81644,
          83711,
          67550,
          79312,
          78183,
          80775,
          84547,
          74637,
          64176,
          74002,
          81119,
          41362,
          40798,
          87845,
          41740,
          53908,
          82491,
          87401,
          80844,
          83970,
          77845,
          72776,
          77043,
          80859,
          87261,
          88166,
          70471,
          81433,
          45184,
          71073,
          82200,
          87808,
          75861,
          83902,
          80338,
          83627,
          85926,
          49091,
          63514,
          82861,
          45831,
          63611,
          31475,
          73159,
          73104,
          92767,
          76274,
          83307,
          72215,
          88535,
          44293,
          42217,
          72841,
          80649,
          34251,
          70046,
          46960,
          78135,
          81019,
          80844,
          82298,
          71094,
          82532,
          75339,
          79385,
          74584,
          79626,
          86022,
          77809,
          44443,
          75519,
          83872,
          77712,
          48227,
          79224,
          81795,
          72900,
          86262,
          80376,
          50547,
          83939,
          79805,
          73658,
          79441,
          73983,
          76014,
          83583,
          77883,
          78477,
          79295,
          61132,
          74561,
          75011,
          77806,
          84161,
          81621,
          91252,
          79878,
          78213,
          78454,
          85963,
          73422,
          81700,
          68966,
          59703,
          64184,
          52074,
          86745,
          39968,
          54178,
          77214,
          82590,
          83863,
          78917,
          84871,
          79239,
          56732,
          80521,
          77237,
          30484,
          79106,
          72866,
          74777,
          80568,
          84604,
          82675,
          81673,
          79172,
          81699,
          82337,
          79781,
          82918,
          46541,
          80174,
          28903,
          87503,
          88863,
          72643,
          83681,
          66446,
          80602,
          76852,
          75622,
          76663,
          85666,
          75562,
          76506,
          77403,
          76437,
          51210,
          78377,
          76326,
          85125,
          80260,
          54465,
          95387,
          39484,
          84551,
          45866,
          69866,
          73066,
          50523,
          79231,
          35258,
          58957,
          76344,
          81853,
          75065,
          66942,
          80962,
          81251,
          82677,
          55678,
          83129,
          77388,
          73913,
          85207,
          30950,
          85110,
          83305,
          81371,
          73167,
          57435,
          53655,
          84506,
          80311,
          62826,
          87201,
          91109,
          75449,
          71692,
          83980,
          82733,
          72688,
          90447,
          80994,
          47612,
          87281,
          87659,
          46922,
          92921,
          77400,
          80144,
          71604,
          78959,
          75055,
          79427,
          81190,
          77662,
          74302,
          82866,
          85769,
          76018,
          80188,
          83548,
          82238,
          78673,
          77746,
          86719,
          73957,
          83649,
          79533,
          79577,
          37723,
          65276,
          72170,
          77899,
          84188,
          83174,
          42662,
          52575,
          79842,
          62453,
          81923,
          29564,
          81170,
          79172,
          81483,
          73545,
          91664,
          73211,
          86317,
          51289,
          67789,
          37796,
          80369,
          77090,
          69861,
          84159,
          84362,
          68965,
          85710,
          78301,
          72311,
          86132,
          26613,
          84271,
          77852,
          49811,
          77393,
          86620,
          82458,
          77908,
          69511,
          77806,
          71921,
          77014,
          76030,
          47144,
          78907,
          82782,
          82332,
          72715,
          40188,
          51624,
          86061,
          62209,
          81599,
          61668,
          80583,
          74431,
          71906,
          82211,
          80821,
          76050,
          66957,
          76808,
          72575,
          79966,
          59226,
          55479,
          79006,
          89924,
          74063,
          54508,
          54916,
          85817,
          78778,
          53754,
          72843,
          78310,
          79767,
          61639,
          83495,
          79080,
          83862,
          75914,
          71907,
          83797,
          50773,
          71349,
          81503,
          77183,
          74003,
          78876,
          77392,
          87020,
          73078,
          94398,
          58677,
          50077,
          74607,
          56794,
          77377,
          77382,
          47578,
          89226,
          77905,
          71802,
          69376,
          73339,
          79019,
          76706,
          78530,
          84169,
          83448,
          79818,
          41367,
          83831,
          37668,
          83098,
          82663,
          82801,
          77576,
          68589,
          83782,
          83251,
          73910,
          38865,
          39974,
          79481,
          84309,
          78942,
          85357,
          87349,
          76409,
          84786,
          79798,
          49479,
          78739,
          80958,
          52801,
          78745,
          57952,
          84413,
          86385,
          78614,
          48842,
          75411,
          50718,
          81375,
          42228,
          85177,
          75763,
          60753,
          90377,
          76337,
          52414,
          78425,
          74165,
          56871,
          47988,
          78252,
          79756,
          39708,
          78546,
          82917,
          55476,
          78491,
          78463,
          89538,
          86758,
          82672,
          75347,
          75502,
          57971,
          31981,
          58770,
          76172,
          82714,
          76849,
          54413,
          87943,
          83239,
          36136,
          31454,
          83106,
          54609,
          79237,
          69294,
          62530,
          75091,
          75254,
          31127,
          68896,
          91896,
          81489,
          55476,
          82304,
          32682,
          78199,
          84845,
          79990,
          81726,
          78414,
          43840,
          77751,
          50293,
          49870,
          84348,
          85098,
          84268,
          76528,
          80287,
          30231,
          82686,
          86469,
          37134,
          81993,
          76804,
          83089,
          78303,
          82049,
          61266,
          43362,
          70912,
          70747,
          80618,
          81891,
          88927,
          79777,
          72820,
          80131,
          77062,
          63450,
          81927,
          87007,
          81770,
          81872,
          80652,
          78736,
          41599,
          81514,
          59152,
          79278,
          78393,
          79558,
          81396,
          84138,
          52953,
          67241,
          82833,
          75416,
          83270,
          72200,
          57281,
          87723,
          84019,
          85594,
          83076,
          91006,
          86822,
          78872,
          83226,
          81023,
          79325,
          82670,
          62269,
          50663,
          45049,
          74292,
          73836,
          84149,
          75653,
          81047,
          76442,
          86335,
          83810,
          81294,
          58971,
          78701,
          76161,
          79271,
          79873,
          81711,
          49873,
          56947,
          58817,
          75879,
          89066,
          49197,
          56918,
          82058,
          81637,
          73545,
          82096,
          81055,
          78420,
          55850,
          76681,
          81521,
          50431,
          74678,
          79853,
          79164,
          43033,
          82529,
          81852,
          82377,
          76141,
          53398,
          86664,
          74654,
          73610,
          77148,
          73369,
          73643,
          33104,
          72984,
          88896,
          23923,
          82557,
          60046,
          71245,
          78895,
          37734,
          72083,
          70767,
          48570,
          82775,
          79785,
          78095,
          51069,
          80490,
          78362,
          79965,
          59974,
          61935,
          87702,
          22664,
          46613,
          90000,
          80535,
          81729,
          66813,
          83015,
          83419
         ],
         "yaxis": "y"
        },
        {
         "hovertemplate": "sex=male<br>Age, full number of years=%{x}<br>income=%{y}<extra></extra>",
         "legendgroup": "male",
         "marker": {
          "color": "#EF553B",
          "symbol": "circle"
         },
         "mode": "markers",
         "name": "male",
         "orientation": "v",
         "showlegend": true,
         "type": "scatter",
         "x": [
          36,
          36,
          42,
          41,
          54,
          31,
          40,
          45,
          44,
          42,
          45,
          43,
          33,
          36,
          50,
          36,
          52,
          56,
          50,
          42,
          51,
          61,
          35,
          50,
          44,
          55,
          52,
          45,
          40,
          45,
          39,
          55,
          45,
          39,
          53,
          48,
          40,
          45,
          42,
          42,
          43,
          55,
          31,
          33,
          38,
          48,
          50,
          52,
          40,
          31,
          46,
          20,
          36,
          50,
          41,
          56,
          65,
          42,
          47,
          40,
          50,
          52,
          47,
          46,
          44,
          58,
          54,
          50,
          44,
          59,
          35,
          53,
          50,
          30,
          43,
          41,
          53,
          46,
          50,
          48,
          60,
          50,
          45,
          37,
          48,
          43,
          36,
          50,
          44,
          44,
          53,
          59,
          43,
          35,
          46,
          45,
          37,
          51,
          40,
          50,
          53,
          39,
          38,
          63,
          47,
          36,
          48,
          30,
          54,
          29,
          56,
          45,
          51,
          44,
          45,
          42,
          50,
          37,
          45,
          42,
          30,
          45,
          51,
          52,
          41,
          45,
          41,
          39,
          50,
          56,
          49,
          53,
          45,
          48,
          37,
          55,
          57,
          33,
          52,
          39,
          40,
          55,
          34,
          52,
          34,
          33,
          54,
          29,
          39,
          41,
          44,
          56,
          41,
          45,
          42,
          62,
          37,
          45,
          48,
          58,
          51,
          38,
          36,
          52,
          36,
          54,
          60,
          49,
          54,
          30,
          44,
          34,
          54,
          38,
          43,
          51,
          43,
          49,
          48,
          41,
          38,
          42,
          42,
          53,
          58,
          48,
          55,
          61,
          35,
          39,
          52,
          48,
          51,
          60,
          40,
          44,
          38,
          25,
          55,
          48,
          54,
          41,
          47,
          49,
          41,
          46,
          44,
          42,
          45,
          47,
          49,
          44,
          30,
          53,
          35,
          51,
          27,
          28,
          52,
          36,
          42,
          43,
          44,
          52,
          58,
          42,
          53,
          40,
          46,
          32,
          48,
          47,
          47,
          40,
          42,
          49,
          46,
          47,
          42,
          38,
          38,
          31,
          51,
          41,
          33,
          50,
          44,
          46,
          54,
          42,
          51,
          46,
          38,
          60,
          43,
          39,
          51,
          35,
          44,
          42,
          35,
          48,
          52,
          44,
          50,
          34,
          47,
          43,
          34,
          41,
          64,
          53,
          50,
          63,
          57,
          36,
          36,
          46,
          39,
          33,
          45,
          48,
          45,
          48,
          47,
          52,
          70,
          44,
          56,
          48,
          61,
          57,
          49,
          47,
          49,
          51,
          28,
          48,
          38,
          51,
          50,
          46,
          50,
          45,
          47,
          41,
          43,
          28,
          48,
          58,
          52,
          46,
          53,
          42,
          21,
          41,
          25,
          38,
          48,
          57,
          46,
          61,
          37,
          53,
          54,
          48,
          53,
          37,
          46,
          52,
          50,
          56,
          52,
          45,
          33,
          35,
          38,
          31,
          55,
          53,
          46,
          48,
          40,
          60,
          51,
          48,
          49,
          43,
          54,
          54,
          45,
          47,
          48,
          38,
          54,
          56,
          51,
          46,
          51,
          49,
          41,
          53,
          60,
          14,
          33,
          50
         ],
         "xaxis": "x",
         "y": [
          42718,
          51524,
          31977,
          43887,
          112495,
          51061,
          62941,
          116797,
          36030,
          57982,
          112062,
          41365,
          47024,
          63981,
          121219,
          56215,
          106069,
          110538,
          104502,
          55284,
          112567,
          116470,
          35099,
          107456,
          54721,
          109397,
          113588,
          116315,
          66939,
          115641,
          51874,
          110285,
          108078,
          56585,
          108052,
          108610,
          65124,
          114612,
          55978,
          64655,
          29664,
          108104,
          50874,
          32897,
          54692,
          109347,
          116775,
          104309,
          42054,
          55110,
          112470,
          41398,
          49166,
          110434,
          47163,
          102345,
          114312,
          60485,
          113026,
          49655,
          108331,
          105666,
          107670,
          110797,
          50571,
          108061,
          113970,
          117335,
          62005,
          105900,
          44303,
          106743,
          111723,
          55817,
          58064,
          59562,
          117447,
          107513,
          109702,
          106681,
          106758,
          108103,
          110981,
          49652,
          113452,
          57422,
          59679,
          105380,
          49417,
          42332,
          106022,
          103795,
          50957,
          66778,
          105572,
          109164,
          62370,
          107603,
          47090,
          105915,
          112582,
          26094,
          38438,
          112908,
          111758,
          47906,
          109700,
          50890,
          109534,
          62226,
          103073,
          106480,
          113548,
          43553,
          106204,
          53427,
          105366,
          38760,
          109191,
          40395,
          38893,
          111877,
          106849,
          107506,
          54931,
          117621,
          54881,
          63890,
          107276,
          105247,
          99943,
          113955,
          108560,
          120409,
          48489,
          107585,
          107592,
          56531,
          106340,
          50248,
          38204,
          105876,
          46085,
          109429,
          46899,
          46009,
          98264,
          68095,
          54579,
          63085,
          58063,
          110964,
          54147,
          110868,
          45798,
          118910,
          36545,
          111592,
          105298,
          112433,
          103611,
          60389,
          47330,
          105149,
          27886,
          115193,
          110754,
          104022,
          110321,
          55315,
          45018,
          64643,
          113444,
          56598,
          41397,
          111928,
          62405,
          114958,
          114452,
          58426,
          45493,
          47323,
          37162,
          110419,
          107393,
          110710,
          113689,
          107060,
          61934,
          61507,
          114585,
          104294,
          117001,
          109228,
          53344,
          78320,
          50696,
          35310,
          112241,
          106368,
          108877,
          47897,
          119037,
          108557,
          41504,
          109387,
          55308,
          42016,
          109998,
          116024,
          105325,
          59499,
          45972,
          106764,
          55244,
          114805,
          47524,
          47259,
          116820,
          51349,
          49686,
          32304,
          45628,
          106419,
          107178,
          60722,
          104756,
          55304,
          105842,
          40873,
          110750,
          108666,
          108565,
          46643,
          48981,
          112170,
          103966,
          108837,
          54750,
          56875,
          37613,
          52404,
          113166,
          46948,
          41243,
          110196,
          43528,
          102763,
          110476,
          41208,
          111567,
          126635,
          49787,
          115597,
          32316,
          46535,
          104815,
          55513,
          55709,
          24096,
          58020,
          111122,
          104878,
          50934,
          112539,
          51234,
          107458,
          40193,
          43373,
          55195,
          106594,
          115967,
          117397,
          113376,
          112970,
          41643,
          52303,
          108892,
          69638,
          42071,
          115160,
          101941,
          115807,
          108892,
          112627,
          106328,
          30469,
          43266,
          114311,
          111630,
          112727,
          106373,
          105853,
          112894,
          113795,
          102305,
          59122,
          113556,
          43099,
          99907,
          111931,
          109939,
          104853,
          114938,
          108147,
          58148,
          55425,
          47370,
          114213,
          114910,
          108657,
          112832,
          111451,
          69251,
          51633,
          38682,
          63082,
          46797,
          105804,
          105931,
          109788,
          112246,
          43318,
          115360,
          100270,
          107880,
          105004,
          57827,
          105994,
          111608,
          110828,
          109078,
          116734,
          103820,
          37496,
          56691,
          38279,
          47968,
          114820,
          112895,
          109827,
          113965,
          29235,
          104501,
          109483,
          105673,
          110716,
          38147,
          108574,
          104244,
          103918,
          96240,
          112064,
          45455,
          108234,
          109008,
          113884,
          105374,
          106871,
          117947,
          58552,
          111001,
          113841,
          67282,
          60017,
          112497
         ],
         "yaxis": "y"
        }
       ],
       "layout": {
        "legend": {
         "title": {
          "text": "sex"
         },
         "tracegroupgap": 0
        },
        "template": {
         "data": {
          "bar": [
           {
            "error_x": {
             "color": "#2a3f5f"
            },
            "error_y": {
             "color": "#2a3f5f"
            },
            "marker": {
             "line": {
              "color": "#E5ECF6",
              "width": 0.5
             },
             "pattern": {
              "fillmode": "overlay",
              "size": 10,
              "solidity": 0.2
             }
            },
            "type": "bar"
           }
          ],
          "barpolar": [
           {
            "marker": {
             "line": {
              "color": "#E5ECF6",
              "width": 0.5
             },
             "pattern": {
              "fillmode": "overlay",
              "size": 10,
              "solidity": 0.2
             }
            },
            "type": "barpolar"
           }
          ],
          "carpet": [
           {
            "aaxis": {
             "endlinecolor": "#2a3f5f",
             "gridcolor": "white",
             "linecolor": "white",
             "minorgridcolor": "white",
             "startlinecolor": "#2a3f5f"
            },
            "baxis": {
             "endlinecolor": "#2a3f5f",
             "gridcolor": "white",
             "linecolor": "white",
             "minorgridcolor": "white",
             "startlinecolor": "#2a3f5f"
            },
            "type": "carpet"
           }
          ],
          "choropleth": [
           {
            "colorbar": {
             "outlinewidth": 0,
             "ticks": ""
            },
            "type": "choropleth"
           }
          ],
          "contour": [
           {
            "colorbar": {
             "outlinewidth": 0,
             "ticks": ""
            },
            "colorscale": [
             [
              0,
              "#0d0887"
             ],
             [
              0.1111111111111111,
              "#46039f"
             ],
             [
              0.2222222222222222,
              "#7201a8"
             ],
             [
              0.3333333333333333,
              "#9c179e"
             ],
             [
              0.4444444444444444,
              "#bd3786"
             ],
             [
              0.5555555555555556,
              "#d8576b"
             ],
             [
              0.6666666666666666,
              "#ed7953"
             ],
             [
              0.7777777777777778,
              "#fb9f3a"
             ],
             [
              0.8888888888888888,
              "#fdca26"
             ],
             [
              1,
              "#f0f921"
             ]
            ],
            "type": "contour"
           }
          ],
          "contourcarpet": [
           {
            "colorbar": {
             "outlinewidth": 0,
             "ticks": ""
            },
            "type": "contourcarpet"
           }
          ],
          "heatmap": [
           {
            "colorbar": {
             "outlinewidth": 0,
             "ticks": ""
            },
            "colorscale": [
             [
              0,
              "#0d0887"
             ],
             [
              0.1111111111111111,
              "#46039f"
             ],
             [
              0.2222222222222222,
              "#7201a8"
             ],
             [
              0.3333333333333333,
              "#9c179e"
             ],
             [
              0.4444444444444444,
              "#bd3786"
             ],
             [
              0.5555555555555556,
              "#d8576b"
             ],
             [
              0.6666666666666666,
              "#ed7953"
             ],
             [
              0.7777777777777778,
              "#fb9f3a"
             ],
             [
              0.8888888888888888,
              "#fdca26"
             ],
             [
              1,
              "#f0f921"
             ]
            ],
            "type": "heatmap"
           }
          ],
          "heatmapgl": [
           {
            "colorbar": {
             "outlinewidth": 0,
             "ticks": ""
            },
            "colorscale": [
             [
              0,
              "#0d0887"
             ],
             [
              0.1111111111111111,
              "#46039f"
             ],
             [
              0.2222222222222222,
              "#7201a8"
             ],
             [
              0.3333333333333333,
              "#9c179e"
             ],
             [
              0.4444444444444444,
              "#bd3786"
             ],
             [
              0.5555555555555556,
              "#d8576b"
             ],
             [
              0.6666666666666666,
              "#ed7953"
             ],
             [
              0.7777777777777778,
              "#fb9f3a"
             ],
             [
              0.8888888888888888,
              "#fdca26"
             ],
             [
              1,
              "#f0f921"
             ]
            ],
            "type": "heatmapgl"
           }
          ],
          "histogram": [
           {
            "marker": {
             "pattern": {
              "fillmode": "overlay",
              "size": 10,
              "solidity": 0.2
             }
            },
            "type": "histogram"
           }
          ],
          "histogram2d": [
           {
            "colorbar": {
             "outlinewidth": 0,
             "ticks": ""
            },
            "colorscale": [
             [
              0,
              "#0d0887"
             ],
             [
              0.1111111111111111,
              "#46039f"
             ],
             [
              0.2222222222222222,
              "#7201a8"
             ],
             [
              0.3333333333333333,
              "#9c179e"
             ],
             [
              0.4444444444444444,
              "#bd3786"
             ],
             [
              0.5555555555555556,
              "#d8576b"
             ],
             [
              0.6666666666666666,
              "#ed7953"
             ],
             [
              0.7777777777777778,
              "#fb9f3a"
             ],
             [
              0.8888888888888888,
              "#fdca26"
             ],
             [
              1,
              "#f0f921"
             ]
            ],
            "type": "histogram2d"
           }
          ],
          "histogram2dcontour": [
           {
            "colorbar": {
             "outlinewidth": 0,
             "ticks": ""
            },
            "colorscale": [
             [
              0,
              "#0d0887"
             ],
             [
              0.1111111111111111,
              "#46039f"
             ],
             [
              0.2222222222222222,
              "#7201a8"
             ],
             [
              0.3333333333333333,
              "#9c179e"
             ],
             [
              0.4444444444444444,
              "#bd3786"
             ],
             [
              0.5555555555555556,
              "#d8576b"
             ],
             [
              0.6666666666666666,
              "#ed7953"
             ],
             [
              0.7777777777777778,
              "#fb9f3a"
             ],
             [
              0.8888888888888888,
              "#fdca26"
             ],
             [
              1,
              "#f0f921"
             ]
            ],
            "type": "histogram2dcontour"
           }
          ],
          "mesh3d": [
           {
            "colorbar": {
             "outlinewidth": 0,
             "ticks": ""
            },
            "type": "mesh3d"
           }
          ],
          "parcoords": [
           {
            "line": {
             "colorbar": {
              "outlinewidth": 0,
              "ticks": ""
             }
            },
            "type": "parcoords"
           }
          ],
          "pie": [
           {
            "automargin": true,
            "type": "pie"
           }
          ],
          "scatter": [
           {
            "fillpattern": {
             "fillmode": "overlay",
             "size": 10,
             "solidity": 0.2
            },
            "type": "scatter"
           }
          ],
          "scatter3d": [
           {
            "line": {
             "colorbar": {
              "outlinewidth": 0,
              "ticks": ""
             }
            },
            "marker": {
             "colorbar": {
              "outlinewidth": 0,
              "ticks": ""
             }
            },
            "type": "scatter3d"
           }
          ],
          "scattercarpet": [
           {
            "marker": {
             "colorbar": {
              "outlinewidth": 0,
              "ticks": ""
             }
            },
            "type": "scattercarpet"
           }
          ],
          "scattergeo": [
           {
            "marker": {
             "colorbar": {
              "outlinewidth": 0,
              "ticks": ""
             }
            },
            "type": "scattergeo"
           }
          ],
          "scattergl": [
           {
            "marker": {
             "colorbar": {
              "outlinewidth": 0,
              "ticks": ""
             }
            },
            "type": "scattergl"
           }
          ],
          "scattermapbox": [
           {
            "marker": {
             "colorbar": {
              "outlinewidth": 0,
              "ticks": ""
             }
            },
            "type": "scattermapbox"
           }
          ],
          "scatterpolar": [
           {
            "marker": {
             "colorbar": {
              "outlinewidth": 0,
              "ticks": ""
             }
            },
            "type": "scatterpolar"
           }
          ],
          "scatterpolargl": [
           {
            "marker": {
             "colorbar": {
              "outlinewidth": 0,
              "ticks": ""
             }
            },
            "type": "scatterpolargl"
           }
          ],
          "scatterternary": [
           {
            "marker": {
             "colorbar": {
              "outlinewidth": 0,
              "ticks": ""
             }
            },
            "type": "scatterternary"
           }
          ],
          "surface": [
           {
            "colorbar": {
             "outlinewidth": 0,
             "ticks": ""
            },
            "colorscale": [
             [
              0,
              "#0d0887"
             ],
             [
              0.1111111111111111,
              "#46039f"
             ],
             [
              0.2222222222222222,
              "#7201a8"
             ],
             [
              0.3333333333333333,
              "#9c179e"
             ],
             [
              0.4444444444444444,
              "#bd3786"
             ],
             [
              0.5555555555555556,
              "#d8576b"
             ],
             [
              0.6666666666666666,
              "#ed7953"
             ],
             [
              0.7777777777777778,
              "#fb9f3a"
             ],
             [
              0.8888888888888888,
              "#fdca26"
             ],
             [
              1,
              "#f0f921"
             ]
            ],
            "type": "surface"
           }
          ],
          "table": [
           {
            "cells": {
             "fill": {
              "color": "#EBF0F8"
             },
             "line": {
              "color": "white"
             }
            },
            "header": {
             "fill": {
              "color": "#C8D4E3"
             },
             "line": {
              "color": "white"
             }
            },
            "type": "table"
           }
          ]
         },
         "layout": {
          "annotationdefaults": {
           "arrowcolor": "#2a3f5f",
           "arrowhead": 0,
           "arrowwidth": 1
          },
          "autotypenumbers": "strict",
          "coloraxis": {
           "colorbar": {
            "outlinewidth": 0,
            "ticks": ""
           }
          },
          "colorscale": {
           "diverging": [
            [
             0,
             "#8e0152"
            ],
            [
             0.1,
             "#c51b7d"
            ],
            [
             0.2,
             "#de77ae"
            ],
            [
             0.3,
             "#f1b6da"
            ],
            [
             0.4,
             "#fde0ef"
            ],
            [
             0.5,
             "#f7f7f7"
            ],
            [
             0.6,
             "#e6f5d0"
            ],
            [
             0.7,
             "#b8e186"
            ],
            [
             0.8,
             "#7fbc41"
            ],
            [
             0.9,
             "#4d9221"
            ],
            [
             1,
             "#276419"
            ]
           ],
           "sequential": [
            [
             0,
             "#0d0887"
            ],
            [
             0.1111111111111111,
             "#46039f"
            ],
            [
             0.2222222222222222,
             "#7201a8"
            ],
            [
             0.3333333333333333,
             "#9c179e"
            ],
            [
             0.4444444444444444,
             "#bd3786"
            ],
            [
             0.5555555555555556,
             "#d8576b"
            ],
            [
             0.6666666666666666,
             "#ed7953"
            ],
            [
             0.7777777777777778,
             "#fb9f3a"
            ],
            [
             0.8888888888888888,
             "#fdca26"
            ],
            [
             1,
             "#f0f921"
            ]
           ],
           "sequentialminus": [
            [
             0,
             "#0d0887"
            ],
            [
             0.1111111111111111,
             "#46039f"
            ],
            [
             0.2222222222222222,
             "#7201a8"
            ],
            [
             0.3333333333333333,
             "#9c179e"
            ],
            [
             0.4444444444444444,
             "#bd3786"
            ],
            [
             0.5555555555555556,
             "#d8576b"
            ],
            [
             0.6666666666666666,
             "#ed7953"
            ],
            [
             0.7777777777777778,
             "#fb9f3a"
            ],
            [
             0.8888888888888888,
             "#fdca26"
            ],
            [
             1,
             "#f0f921"
            ]
           ]
          },
          "colorway": [
           "#636efa",
           "#EF553B",
           "#00cc96",
           "#ab63fa",
           "#FFA15A",
           "#19d3f3",
           "#FF6692",
           "#B6E880",
           "#FF97FF",
           "#FECB52"
          ],
          "font": {
           "color": "#2a3f5f"
          },
          "geo": {
           "bgcolor": "white",
           "lakecolor": "white",
           "landcolor": "#E5ECF6",
           "showlakes": true,
           "showland": true,
           "subunitcolor": "white"
          },
          "hoverlabel": {
           "align": "left"
          },
          "hovermode": "closest",
          "mapbox": {
           "style": "light"
          },
          "paper_bgcolor": "white",
          "plot_bgcolor": "#E5ECF6",
          "polar": {
           "angularaxis": {
            "gridcolor": "white",
            "linecolor": "white",
            "ticks": ""
           },
           "bgcolor": "#E5ECF6",
           "radialaxis": {
            "gridcolor": "white",
            "linecolor": "white",
            "ticks": ""
           }
          },
          "scene": {
           "xaxis": {
            "backgroundcolor": "#E5ECF6",
            "gridcolor": "white",
            "gridwidth": 2,
            "linecolor": "white",
            "showbackground": true,
            "ticks": "",
            "zerolinecolor": "white"
           },
           "yaxis": {
            "backgroundcolor": "#E5ECF6",
            "gridcolor": "white",
            "gridwidth": 2,
            "linecolor": "white",
            "showbackground": true,
            "ticks": "",
            "zerolinecolor": "white"
           },
           "zaxis": {
            "backgroundcolor": "#E5ECF6",
            "gridcolor": "white",
            "gridwidth": 2,
            "linecolor": "white",
            "showbackground": true,
            "ticks": "",
            "zerolinecolor": "white"
           }
          },
          "shapedefaults": {
           "line": {
            "color": "#2a3f5f"
           }
          },
          "ternary": {
           "aaxis": {
            "gridcolor": "white",
            "linecolor": "white",
            "ticks": ""
           },
           "baxis": {
            "gridcolor": "white",
            "linecolor": "white",
            "ticks": ""
           },
           "bgcolor": "#E5ECF6",
           "caxis": {
            "gridcolor": "white",
            "linecolor": "white",
            "ticks": ""
           }
          },
          "title": {
           "x": 0.05
          },
          "xaxis": {
           "automargin": true,
           "gridcolor": "white",
           "linecolor": "white",
           "ticks": "",
           "title": {
            "standoff": 15
           },
           "zerolinecolor": "white",
           "zerolinewidth": 2
          },
          "yaxis": {
           "automargin": true,
           "gridcolor": "white",
           "linecolor": "white",
           "ticks": "",
           "title": {
            "standoff": 15
           },
           "zerolinecolor": "white",
           "zerolinewidth": 2
          }
         }
        },
        "title": {
         "text": "Income in relation to age"
        },
        "xaxis": {
         "anchor": "y",
         "domain": [
          0,
          1
         ],
         "title": {
          "text": "Age, full number of years"
         }
        },
        "yaxis": {
         "anchor": "x",
         "domain": [
          0,
          1
         ],
         "title": {
          "text": "income"
         }
        }
       }
      }
     },
     "metadata": {},
     "output_type": "display_data"
    }
   ],
   "source": [
    "px.scatter(df, x='age', y='income', title='Income in relation to age', labels={'age': 'Age, full number of years'}, color='sex')"
   ]
  },
  {
   "cell_type": "markdown",
   "metadata": {},
   "source": [
    "## 4. Using plotly.express, construct a box plot showing the respondent's income as a function of their gender.\n",
    "4.1 Add a name to the chart"
   ]
  },
  {
   "cell_type": "code",
   "execution_count": 4,
   "metadata": {},
   "outputs": [
    {
     "data": {
      "application/vnd.plotly.v1+json": {
       "config": {
        "plotlyServerURL": "https://plot.ly"
       },
       "data": [
        {
         "alignmentgroup": "True",
         "hovertemplate": "sex=%{x}<br>income=%{y}<extra></extra>",
         "legendgroup": "female",
         "marker": {
          "color": "#636efa"
         },
         "name": "female",
         "notched": false,
         "offsetgroup": "female",
         "orientation": "v",
         "showlegend": true,
         "type": "box",
         "x": [
          "female",
          "female",
          "female",
          "female",
          "female",
          "female",
          "female",
          "female",
          "female",
          "female",
          "female",
          "female",
          "female",
          "female",
          "female",
          "female",
          "female",
          "female",
          "female",
          "female",
          "female",
          "female",
          "female",
          "female",
          "female",
          "female",
          "female",
          "female",
          "female",
          "female",
          "female",
          "female",
          "female",
          "female",
          "female",
          "female",
          "female",
          "female",
          "female",
          "female",
          "female",
          "female",
          "female",
          "female",
          "female",
          "female",
          "female",
          "female",
          "female",
          "female",
          "female",
          "female",
          "female",
          "female",
          "female",
          "female",
          "female",
          "female",
          "female",
          "female",
          "female",
          "female",
          "female",
          "female",
          "female",
          "female",
          "female",
          "female",
          "female",
          "female",
          "female",
          "female",
          "female",
          "female",
          "female",
          "female",
          "female",
          "female",
          "female",
          "female",
          "female",
          "female",
          "female",
          "female",
          "female",
          "female",
          "female",
          "female",
          "female",
          "female",
          "female",
          "female",
          "female",
          "female",
          "female",
          "female",
          "female",
          "female",
          "female",
          "female",
          "female",
          "female",
          "female",
          "female",
          "female",
          "female",
          "female",
          "female",
          "female",
          "female",
          "female",
          "female",
          "female",
          "female",
          "female",
          "female",
          "female",
          "female",
          "female",
          "female",
          "female",
          "female",
          "female",
          "female",
          "female",
          "female",
          "female",
          "female",
          "female",
          "female",
          "female",
          "female",
          "female",
          "female",
          "female",
          "female",
          "female",
          "female",
          "female",
          "female",
          "female",
          "female",
          "female",
          "female",
          "female",
          "female",
          "female",
          "female",
          "female",
          "female",
          "female",
          "female",
          "female",
          "female",
          "female",
          "female",
          "female",
          "female",
          "female",
          "female",
          "female",
          "female",
          "female",
          "female",
          "female",
          "female",
          "female",
          "female",
          "female",
          "female",
          "female",
          "female",
          "female",
          "female",
          "female",
          "female",
          "female",
          "female",
          "female",
          "female",
          "female",
          "female",
          "female",
          "female",
          "female",
          "female",
          "female",
          "female",
          "female",
          "female",
          "female",
          "female",
          "female",
          "female",
          "female",
          "female",
          "female",
          "female",
          "female",
          "female",
          "female",
          "female",
          "female",
          "female",
          "female",
          "female",
          "female",
          "female",
          "female",
          "female",
          "female",
          "female",
          "female",
          "female",
          "female",
          "female",
          "female",
          "female",
          "female",
          "female",
          "female",
          "female",
          "female",
          "female",
          "female",
          "female",
          "female",
          "female",
          "female",
          "female",
          "female",
          "female",
          "female",
          "female",
          "female",
          "female",
          "female",
          "female",
          "female",
          "female",
          "female",
          "female",
          "female",
          "female",
          "female",
          "female",
          "female",
          "female",
          "female",
          "female",
          "female",
          "female",
          "female",
          "female",
          "female",
          "female",
          "female",
          "female",
          "female",
          "female",
          "female",
          "female",
          "female",
          "female",
          "female",
          "female",
          "female",
          "female",
          "female",
          "female",
          "female",
          "female",
          "female",
          "female",
          "female",
          "female",
          "female",
          "female",
          "female",
          "female",
          "female",
          "female",
          "female",
          "female",
          "female",
          "female",
          "female",
          "female",
          "female",
          "female",
          "female",
          "female",
          "female",
          "female",
          "female",
          "female",
          "female",
          "female",
          "female",
          "female",
          "female",
          "female",
          "female",
          "female",
          "female",
          "female",
          "female",
          "female",
          "female",
          "female",
          "female",
          "female",
          "female",
          "female",
          "female",
          "female",
          "female",
          "female",
          "female",
          "female",
          "female",
          "female",
          "female",
          "female",
          "female",
          "female",
          "female",
          "female",
          "female",
          "female",
          "female",
          "female",
          "female",
          "female",
          "female",
          "female",
          "female",
          "female",
          "female",
          "female",
          "female",
          "female",
          "female",
          "female",
          "female",
          "female",
          "female",
          "female",
          "female",
          "female",
          "female",
          "female",
          "female",
          "female",
          "female",
          "female",
          "female",
          "female",
          "female",
          "female",
          "female",
          "female",
          "female",
          "female",
          "female",
          "female",
          "female",
          "female",
          "female",
          "female",
          "female",
          "female",
          "female",
          "female",
          "female",
          "female",
          "female",
          "female",
          "female",
          "female",
          "female",
          "female",
          "female",
          "female",
          "female",
          "female",
          "female",
          "female",
          "female",
          "female",
          "female",
          "female",
          "female",
          "female",
          "female",
          "female",
          "female",
          "female",
          "female",
          "female",
          "female",
          "female",
          "female",
          "female",
          "female",
          "female",
          "female",
          "female",
          "female",
          "female",
          "female",
          "female",
          "female",
          "female",
          "female",
          "female",
          "female",
          "female",
          "female",
          "female",
          "female",
          "female",
          "female",
          "female",
          "female",
          "female",
          "female",
          "female",
          "female",
          "female",
          "female",
          "female",
          "female",
          "female",
          "female",
          "female",
          "female",
          "female",
          "female",
          "female",
          "female",
          "female",
          "female",
          "female",
          "female",
          "female",
          "female",
          "female",
          "female",
          "female",
          "female",
          "female",
          "female",
          "female",
          "female",
          "female",
          "female",
          "female",
          "female",
          "female",
          "female",
          "female",
          "female",
          "female",
          "female",
          "female",
          "female",
          "female",
          "female",
          "female",
          "female",
          "female",
          "female",
          "female",
          "female",
          "female",
          "female",
          "female",
          "female",
          "female",
          "female",
          "female",
          "female",
          "female",
          "female",
          "female",
          "female",
          "female",
          "female",
          "female",
          "female",
          "female",
          "female",
          "female",
          "female",
          "female",
          "female",
          "female",
          "female",
          "female",
          "female",
          "female",
          "female",
          "female",
          "female",
          "female",
          "female",
          "female",
          "female",
          "female",
          "female",
          "female",
          "female",
          "female",
          "female",
          "female",
          "female",
          "female",
          "female",
          "female",
          "female",
          "female",
          "female",
          "female",
          "female",
          "female",
          "female",
          "female",
          "female",
          "female",
          "female",
          "female",
          "female",
          "female",
          "female",
          "female",
          "female",
          "female",
          "female",
          "female",
          "female",
          "female",
          "female",
          "female",
          "female",
          "female",
          "female",
          "female",
          "female",
          "female",
          "female",
          "female",
          "female",
          "female",
          "female",
          "female",
          "female",
          "female",
          "female",
          "female",
          "female",
          "female",
          "female",
          "female",
          "female",
          "female",
          "female",
          "female",
          "female",
          "female",
          "female",
          "female",
          "female",
          "female",
          "female",
          "female",
          "female",
          "female",
          "female",
          "female",
          "female",
          "female",
          "female",
          "female",
          "female",
          "female",
          "female",
          "female",
          "female",
          "female",
          "female",
          "female",
          "female",
          "female",
          "female",
          "female",
          "female",
          "female",
          "female",
          "female",
          "female",
          "female",
          "female",
          "female",
          "female",
          "female",
          "female",
          "female",
          "female",
          "female",
          "female",
          "female",
          "female",
          "female",
          "female",
          "female",
          "female",
          "female",
          "female",
          "female",
          "female",
          "female",
          "female",
          "female",
          "female",
          "female",
          "female",
          "female",
          "female",
          "female",
          "female",
          "female",
          "female",
          "female"
         ],
         "x0": " ",
         "xaxis": "x",
         "y": [
          66888,
          57517,
          83789,
          75878,
          84700,
          74680,
          71707,
          46795,
          46445,
          79194,
          41715,
          37472,
          70467,
          79385,
          72190,
          87337,
          48702,
          42437,
          76381,
          74940,
          82314,
          72961,
          72109,
          83531,
          78237,
          85248,
          46248,
          72111,
          78948,
          63559,
          48083,
          39890,
          68071,
          76970,
          73323,
          79917,
          86783,
          86723,
          73919,
          35874,
          80392,
          79473,
          47731,
          77492,
          78119,
          81469,
          81885,
          84567,
          72031,
          78582,
          36657,
          85136,
          53469,
          84316,
          83906,
          79376,
          85557,
          76771,
          79050,
          82547,
          76236,
          76894,
          82017,
          73691,
          51115,
          63488,
          81613,
          81644,
          83711,
          67550,
          79312,
          78183,
          80775,
          84547,
          74637,
          64176,
          74002,
          81119,
          41362,
          40798,
          87845,
          41740,
          53908,
          82491,
          87401,
          80844,
          83970,
          77845,
          72776,
          77043,
          80859,
          87261,
          88166,
          70471,
          81433,
          45184,
          71073,
          82200,
          87808,
          75861,
          83902,
          80338,
          83627,
          85926,
          49091,
          63514,
          82861,
          45831,
          63611,
          31475,
          73159,
          73104,
          92767,
          76274,
          83307,
          72215,
          88535,
          44293,
          42217,
          72841,
          80649,
          34251,
          70046,
          46960,
          78135,
          81019,
          80844,
          82298,
          71094,
          82532,
          75339,
          79385,
          74584,
          79626,
          86022,
          77809,
          44443,
          75519,
          83872,
          77712,
          48227,
          79224,
          81795,
          72900,
          86262,
          80376,
          50547,
          83939,
          79805,
          73658,
          79441,
          73983,
          76014,
          83583,
          77883,
          78477,
          79295,
          61132,
          74561,
          75011,
          77806,
          84161,
          81621,
          91252,
          79878,
          78213,
          78454,
          85963,
          73422,
          81700,
          68966,
          59703,
          64184,
          52074,
          86745,
          39968,
          54178,
          77214,
          82590,
          83863,
          78917,
          84871,
          79239,
          56732,
          80521,
          77237,
          30484,
          79106,
          72866,
          74777,
          80568,
          84604,
          82675,
          81673,
          79172,
          81699,
          82337,
          79781,
          82918,
          46541,
          80174,
          28903,
          87503,
          88863,
          72643,
          83681,
          66446,
          80602,
          76852,
          75622,
          76663,
          85666,
          75562,
          76506,
          77403,
          76437,
          51210,
          78377,
          76326,
          85125,
          80260,
          54465,
          95387,
          39484,
          84551,
          45866,
          69866,
          73066,
          50523,
          79231,
          35258,
          58957,
          76344,
          81853,
          75065,
          66942,
          80962,
          81251,
          82677,
          55678,
          83129,
          77388,
          73913,
          85207,
          30950,
          85110,
          83305,
          81371,
          73167,
          57435,
          53655,
          84506,
          80311,
          62826,
          87201,
          91109,
          75449,
          71692,
          83980,
          82733,
          72688,
          90447,
          80994,
          47612,
          87281,
          87659,
          46922,
          92921,
          77400,
          80144,
          71604,
          78959,
          75055,
          79427,
          81190,
          77662,
          74302,
          82866,
          85769,
          76018,
          80188,
          83548,
          82238,
          78673,
          77746,
          86719,
          73957,
          83649,
          79533,
          79577,
          37723,
          65276,
          72170,
          77899,
          84188,
          83174,
          42662,
          52575,
          79842,
          62453,
          81923,
          29564,
          81170,
          79172,
          81483,
          73545,
          91664,
          73211,
          86317,
          51289,
          67789,
          37796,
          80369,
          77090,
          69861,
          84159,
          84362,
          68965,
          85710,
          78301,
          72311,
          86132,
          26613,
          84271,
          77852,
          49811,
          77393,
          86620,
          82458,
          77908,
          69511,
          77806,
          71921,
          77014,
          76030,
          47144,
          78907,
          82782,
          82332,
          72715,
          40188,
          51624,
          86061,
          62209,
          81599,
          61668,
          80583,
          74431,
          71906,
          82211,
          80821,
          76050,
          66957,
          76808,
          72575,
          79966,
          59226,
          55479,
          79006,
          89924,
          74063,
          54508,
          54916,
          85817,
          78778,
          53754,
          72843,
          78310,
          79767,
          61639,
          83495,
          79080,
          83862,
          75914,
          71907,
          83797,
          50773,
          71349,
          81503,
          77183,
          74003,
          78876,
          77392,
          87020,
          73078,
          94398,
          58677,
          50077,
          74607,
          56794,
          77377,
          77382,
          47578,
          89226,
          77905,
          71802,
          69376,
          73339,
          79019,
          76706,
          78530,
          84169,
          83448,
          79818,
          41367,
          83831,
          37668,
          83098,
          82663,
          82801,
          77576,
          68589,
          83782,
          83251,
          73910,
          38865,
          39974,
          79481,
          84309,
          78942,
          85357,
          87349,
          76409,
          84786,
          79798,
          49479,
          78739,
          80958,
          52801,
          78745,
          57952,
          84413,
          86385,
          78614,
          48842,
          75411,
          50718,
          81375,
          42228,
          85177,
          75763,
          60753,
          90377,
          76337,
          52414,
          78425,
          74165,
          56871,
          47988,
          78252,
          79756,
          39708,
          78546,
          82917,
          55476,
          78491,
          78463,
          89538,
          86758,
          82672,
          75347,
          75502,
          57971,
          31981,
          58770,
          76172,
          82714,
          76849,
          54413,
          87943,
          83239,
          36136,
          31454,
          83106,
          54609,
          79237,
          69294,
          62530,
          75091,
          75254,
          31127,
          68896,
          91896,
          81489,
          55476,
          82304,
          32682,
          78199,
          84845,
          79990,
          81726,
          78414,
          43840,
          77751,
          50293,
          49870,
          84348,
          85098,
          84268,
          76528,
          80287,
          30231,
          82686,
          86469,
          37134,
          81993,
          76804,
          83089,
          78303,
          82049,
          61266,
          43362,
          70912,
          70747,
          80618,
          81891,
          88927,
          79777,
          72820,
          80131,
          77062,
          63450,
          81927,
          87007,
          81770,
          81872,
          80652,
          78736,
          41599,
          81514,
          59152,
          79278,
          78393,
          79558,
          81396,
          84138,
          52953,
          67241,
          82833,
          75416,
          83270,
          72200,
          57281,
          87723,
          84019,
          85594,
          83076,
          91006,
          86822,
          78872,
          83226,
          81023,
          79325,
          82670,
          62269,
          50663,
          45049,
          74292,
          73836,
          84149,
          75653,
          81047,
          76442,
          86335,
          83810,
          81294,
          58971,
          78701,
          76161,
          79271,
          79873,
          81711,
          49873,
          56947,
          58817,
          75879,
          89066,
          49197,
          56918,
          82058,
          81637,
          73545,
          82096,
          81055,
          78420,
          55850,
          76681,
          81521,
          50431,
          74678,
          79853,
          79164,
          43033,
          82529,
          81852,
          82377,
          76141,
          53398,
          86664,
          74654,
          73610,
          77148,
          73369,
          73643,
          33104,
          72984,
          88896,
          23923,
          82557,
          60046,
          71245,
          78895,
          37734,
          72083,
          70767,
          48570,
          82775,
          79785,
          78095,
          51069,
          80490,
          78362,
          79965,
          59974,
          61935,
          87702,
          22664,
          46613,
          90000,
          80535,
          81729,
          66813,
          83015,
          83419
         ],
         "y0": " ",
         "yaxis": "y"
        },
        {
         "alignmentgroup": "True",
         "hovertemplate": "sex=%{x}<br>income=%{y}<extra></extra>",
         "legendgroup": "male",
         "marker": {
          "color": "#EF553B"
         },
         "name": "male",
         "notched": false,
         "offsetgroup": "male",
         "orientation": "v",
         "showlegend": true,
         "type": "box",
         "x": [
          "male",
          "male",
          "male",
          "male",
          "male",
          "male",
          "male",
          "male",
          "male",
          "male",
          "male",
          "male",
          "male",
          "male",
          "male",
          "male",
          "male",
          "male",
          "male",
          "male",
          "male",
          "male",
          "male",
          "male",
          "male",
          "male",
          "male",
          "male",
          "male",
          "male",
          "male",
          "male",
          "male",
          "male",
          "male",
          "male",
          "male",
          "male",
          "male",
          "male",
          "male",
          "male",
          "male",
          "male",
          "male",
          "male",
          "male",
          "male",
          "male",
          "male",
          "male",
          "male",
          "male",
          "male",
          "male",
          "male",
          "male",
          "male",
          "male",
          "male",
          "male",
          "male",
          "male",
          "male",
          "male",
          "male",
          "male",
          "male",
          "male",
          "male",
          "male",
          "male",
          "male",
          "male",
          "male",
          "male",
          "male",
          "male",
          "male",
          "male",
          "male",
          "male",
          "male",
          "male",
          "male",
          "male",
          "male",
          "male",
          "male",
          "male",
          "male",
          "male",
          "male",
          "male",
          "male",
          "male",
          "male",
          "male",
          "male",
          "male",
          "male",
          "male",
          "male",
          "male",
          "male",
          "male",
          "male",
          "male",
          "male",
          "male",
          "male",
          "male",
          "male",
          "male",
          "male",
          "male",
          "male",
          "male",
          "male",
          "male",
          "male",
          "male",
          "male",
          "male",
          "male",
          "male",
          "male",
          "male",
          "male",
          "male",
          "male",
          "male",
          "male",
          "male",
          "male",
          "male",
          "male",
          "male",
          "male",
          "male",
          "male",
          "male",
          "male",
          "male",
          "male",
          "male",
          "male",
          "male",
          "male",
          "male",
          "male",
          "male",
          "male",
          "male",
          "male",
          "male",
          "male",
          "male",
          "male",
          "male",
          "male",
          "male",
          "male",
          "male",
          "male",
          "male",
          "male",
          "male",
          "male",
          "male",
          "male",
          "male",
          "male",
          "male",
          "male",
          "male",
          "male",
          "male",
          "male",
          "male",
          "male",
          "male",
          "male",
          "male",
          "male",
          "male",
          "male",
          "male",
          "male",
          "male",
          "male",
          "male",
          "male",
          "male",
          "male",
          "male",
          "male",
          "male",
          "male",
          "male",
          "male",
          "male",
          "male",
          "male",
          "male",
          "male",
          "male",
          "male",
          "male",
          "male",
          "male",
          "male",
          "male",
          "male",
          "male",
          "male",
          "male",
          "male",
          "male",
          "male",
          "male",
          "male",
          "male",
          "male",
          "male",
          "male",
          "male",
          "male",
          "male",
          "male",
          "male",
          "male",
          "male",
          "male",
          "male",
          "male",
          "male",
          "male",
          "male",
          "male",
          "male",
          "male",
          "male",
          "male",
          "male",
          "male",
          "male",
          "male",
          "male",
          "male",
          "male",
          "male",
          "male",
          "male",
          "male",
          "male",
          "male",
          "male",
          "male",
          "male",
          "male",
          "male",
          "male",
          "male",
          "male",
          "male",
          "male",
          "male",
          "male",
          "male",
          "male",
          "male",
          "male",
          "male",
          "male",
          "male",
          "male",
          "male",
          "male",
          "male",
          "male",
          "male",
          "male",
          "male",
          "male",
          "male",
          "male",
          "male",
          "male",
          "male",
          "male",
          "male",
          "male",
          "male",
          "male",
          "male",
          "male",
          "male",
          "male",
          "male",
          "male",
          "male",
          "male",
          "male",
          "male",
          "male",
          "male",
          "male",
          "male",
          "male",
          "male",
          "male",
          "male",
          "male",
          "male",
          "male",
          "male",
          "male",
          "male",
          "male",
          "male",
          "male",
          "male",
          "male",
          "male",
          "male",
          "male",
          "male",
          "male",
          "male",
          "male",
          "male",
          "male",
          "male",
          "male",
          "male",
          "male",
          "male",
          "male",
          "male",
          "male",
          "male",
          "male",
          "male",
          "male",
          "male",
          "male",
          "male",
          "male",
          "male",
          "male",
          "male",
          "male",
          "male",
          "male",
          "male",
          "male",
          "male",
          "male",
          "male",
          "male",
          "male",
          "male",
          "male",
          "male",
          "male"
         ],
         "x0": " ",
         "xaxis": "x",
         "y": [
          42718,
          51524,
          31977,
          43887,
          112495,
          51061,
          62941,
          116797,
          36030,
          57982,
          112062,
          41365,
          47024,
          63981,
          121219,
          56215,
          106069,
          110538,
          104502,
          55284,
          112567,
          116470,
          35099,
          107456,
          54721,
          109397,
          113588,
          116315,
          66939,
          115641,
          51874,
          110285,
          108078,
          56585,
          108052,
          108610,
          65124,
          114612,
          55978,
          64655,
          29664,
          108104,
          50874,
          32897,
          54692,
          109347,
          116775,
          104309,
          42054,
          55110,
          112470,
          41398,
          49166,
          110434,
          47163,
          102345,
          114312,
          60485,
          113026,
          49655,
          108331,
          105666,
          107670,
          110797,
          50571,
          108061,
          113970,
          117335,
          62005,
          105900,
          44303,
          106743,
          111723,
          55817,
          58064,
          59562,
          117447,
          107513,
          109702,
          106681,
          106758,
          108103,
          110981,
          49652,
          113452,
          57422,
          59679,
          105380,
          49417,
          42332,
          106022,
          103795,
          50957,
          66778,
          105572,
          109164,
          62370,
          107603,
          47090,
          105915,
          112582,
          26094,
          38438,
          112908,
          111758,
          47906,
          109700,
          50890,
          109534,
          62226,
          103073,
          106480,
          113548,
          43553,
          106204,
          53427,
          105366,
          38760,
          109191,
          40395,
          38893,
          111877,
          106849,
          107506,
          54931,
          117621,
          54881,
          63890,
          107276,
          105247,
          99943,
          113955,
          108560,
          120409,
          48489,
          107585,
          107592,
          56531,
          106340,
          50248,
          38204,
          105876,
          46085,
          109429,
          46899,
          46009,
          98264,
          68095,
          54579,
          63085,
          58063,
          110964,
          54147,
          110868,
          45798,
          118910,
          36545,
          111592,
          105298,
          112433,
          103611,
          60389,
          47330,
          105149,
          27886,
          115193,
          110754,
          104022,
          110321,
          55315,
          45018,
          64643,
          113444,
          56598,
          41397,
          111928,
          62405,
          114958,
          114452,
          58426,
          45493,
          47323,
          37162,
          110419,
          107393,
          110710,
          113689,
          107060,
          61934,
          61507,
          114585,
          104294,
          117001,
          109228,
          53344,
          78320,
          50696,
          35310,
          112241,
          106368,
          108877,
          47897,
          119037,
          108557,
          41504,
          109387,
          55308,
          42016,
          109998,
          116024,
          105325,
          59499,
          45972,
          106764,
          55244,
          114805,
          47524,
          47259,
          116820,
          51349,
          49686,
          32304,
          45628,
          106419,
          107178,
          60722,
          104756,
          55304,
          105842,
          40873,
          110750,
          108666,
          108565,
          46643,
          48981,
          112170,
          103966,
          108837,
          54750,
          56875,
          37613,
          52404,
          113166,
          46948,
          41243,
          110196,
          43528,
          102763,
          110476,
          41208,
          111567,
          126635,
          49787,
          115597,
          32316,
          46535,
          104815,
          55513,
          55709,
          24096,
          58020,
          111122,
          104878,
          50934,
          112539,
          51234,
          107458,
          40193,
          43373,
          55195,
          106594,
          115967,
          117397,
          113376,
          112970,
          41643,
          52303,
          108892,
          69638,
          42071,
          115160,
          101941,
          115807,
          108892,
          112627,
          106328,
          30469,
          43266,
          114311,
          111630,
          112727,
          106373,
          105853,
          112894,
          113795,
          102305,
          59122,
          113556,
          43099,
          99907,
          111931,
          109939,
          104853,
          114938,
          108147,
          58148,
          55425,
          47370,
          114213,
          114910,
          108657,
          112832,
          111451,
          69251,
          51633,
          38682,
          63082,
          46797,
          105804,
          105931,
          109788,
          112246,
          43318,
          115360,
          100270,
          107880,
          105004,
          57827,
          105994,
          111608,
          110828,
          109078,
          116734,
          103820,
          37496,
          56691,
          38279,
          47968,
          114820,
          112895,
          109827,
          113965,
          29235,
          104501,
          109483,
          105673,
          110716,
          38147,
          108574,
          104244,
          103918,
          96240,
          112064,
          45455,
          108234,
          109008,
          113884,
          105374,
          106871,
          117947,
          58552,
          111001,
          113841,
          67282,
          60017,
          112497
         ],
         "y0": " ",
         "yaxis": "y"
        }
       ],
       "layout": {
        "boxmode": "overlay",
        "legend": {
         "title": {
          "text": "sex"
         },
         "tracegroupgap": 0
        },
        "template": {
         "data": {
          "bar": [
           {
            "error_x": {
             "color": "#2a3f5f"
            },
            "error_y": {
             "color": "#2a3f5f"
            },
            "marker": {
             "line": {
              "color": "#E5ECF6",
              "width": 0.5
             },
             "pattern": {
              "fillmode": "overlay",
              "size": 10,
              "solidity": 0.2
             }
            },
            "type": "bar"
           }
          ],
          "barpolar": [
           {
            "marker": {
             "line": {
              "color": "#E5ECF6",
              "width": 0.5
             },
             "pattern": {
              "fillmode": "overlay",
              "size": 10,
              "solidity": 0.2
             }
            },
            "type": "barpolar"
           }
          ],
          "carpet": [
           {
            "aaxis": {
             "endlinecolor": "#2a3f5f",
             "gridcolor": "white",
             "linecolor": "white",
             "minorgridcolor": "white",
             "startlinecolor": "#2a3f5f"
            },
            "baxis": {
             "endlinecolor": "#2a3f5f",
             "gridcolor": "white",
             "linecolor": "white",
             "minorgridcolor": "white",
             "startlinecolor": "#2a3f5f"
            },
            "type": "carpet"
           }
          ],
          "choropleth": [
           {
            "colorbar": {
             "outlinewidth": 0,
             "ticks": ""
            },
            "type": "choropleth"
           }
          ],
          "contour": [
           {
            "colorbar": {
             "outlinewidth": 0,
             "ticks": ""
            },
            "colorscale": [
             [
              0,
              "#0d0887"
             ],
             [
              0.1111111111111111,
              "#46039f"
             ],
             [
              0.2222222222222222,
              "#7201a8"
             ],
             [
              0.3333333333333333,
              "#9c179e"
             ],
             [
              0.4444444444444444,
              "#bd3786"
             ],
             [
              0.5555555555555556,
              "#d8576b"
             ],
             [
              0.6666666666666666,
              "#ed7953"
             ],
             [
              0.7777777777777778,
              "#fb9f3a"
             ],
             [
              0.8888888888888888,
              "#fdca26"
             ],
             [
              1,
              "#f0f921"
             ]
            ],
            "type": "contour"
           }
          ],
          "contourcarpet": [
           {
            "colorbar": {
             "outlinewidth": 0,
             "ticks": ""
            },
            "type": "contourcarpet"
           }
          ],
          "heatmap": [
           {
            "colorbar": {
             "outlinewidth": 0,
             "ticks": ""
            },
            "colorscale": [
             [
              0,
              "#0d0887"
             ],
             [
              0.1111111111111111,
              "#46039f"
             ],
             [
              0.2222222222222222,
              "#7201a8"
             ],
             [
              0.3333333333333333,
              "#9c179e"
             ],
             [
              0.4444444444444444,
              "#bd3786"
             ],
             [
              0.5555555555555556,
              "#d8576b"
             ],
             [
              0.6666666666666666,
              "#ed7953"
             ],
             [
              0.7777777777777778,
              "#fb9f3a"
             ],
             [
              0.8888888888888888,
              "#fdca26"
             ],
             [
              1,
              "#f0f921"
             ]
            ],
            "type": "heatmap"
           }
          ],
          "heatmapgl": [
           {
            "colorbar": {
             "outlinewidth": 0,
             "ticks": ""
            },
            "colorscale": [
             [
              0,
              "#0d0887"
             ],
             [
              0.1111111111111111,
              "#46039f"
             ],
             [
              0.2222222222222222,
              "#7201a8"
             ],
             [
              0.3333333333333333,
              "#9c179e"
             ],
             [
              0.4444444444444444,
              "#bd3786"
             ],
             [
              0.5555555555555556,
              "#d8576b"
             ],
             [
              0.6666666666666666,
              "#ed7953"
             ],
             [
              0.7777777777777778,
              "#fb9f3a"
             ],
             [
              0.8888888888888888,
              "#fdca26"
             ],
             [
              1,
              "#f0f921"
             ]
            ],
            "type": "heatmapgl"
           }
          ],
          "histogram": [
           {
            "marker": {
             "pattern": {
              "fillmode": "overlay",
              "size": 10,
              "solidity": 0.2
             }
            },
            "type": "histogram"
           }
          ],
          "histogram2d": [
           {
            "colorbar": {
             "outlinewidth": 0,
             "ticks": ""
            },
            "colorscale": [
             [
              0,
              "#0d0887"
             ],
             [
              0.1111111111111111,
              "#46039f"
             ],
             [
              0.2222222222222222,
              "#7201a8"
             ],
             [
              0.3333333333333333,
              "#9c179e"
             ],
             [
              0.4444444444444444,
              "#bd3786"
             ],
             [
              0.5555555555555556,
              "#d8576b"
             ],
             [
              0.6666666666666666,
              "#ed7953"
             ],
             [
              0.7777777777777778,
              "#fb9f3a"
             ],
             [
              0.8888888888888888,
              "#fdca26"
             ],
             [
              1,
              "#f0f921"
             ]
            ],
            "type": "histogram2d"
           }
          ],
          "histogram2dcontour": [
           {
            "colorbar": {
             "outlinewidth": 0,
             "ticks": ""
            },
            "colorscale": [
             [
              0,
              "#0d0887"
             ],
             [
              0.1111111111111111,
              "#46039f"
             ],
             [
              0.2222222222222222,
              "#7201a8"
             ],
             [
              0.3333333333333333,
              "#9c179e"
             ],
             [
              0.4444444444444444,
              "#bd3786"
             ],
             [
              0.5555555555555556,
              "#d8576b"
             ],
             [
              0.6666666666666666,
              "#ed7953"
             ],
             [
              0.7777777777777778,
              "#fb9f3a"
             ],
             [
              0.8888888888888888,
              "#fdca26"
             ],
             [
              1,
              "#f0f921"
             ]
            ],
            "type": "histogram2dcontour"
           }
          ],
          "mesh3d": [
           {
            "colorbar": {
             "outlinewidth": 0,
             "ticks": ""
            },
            "type": "mesh3d"
           }
          ],
          "parcoords": [
           {
            "line": {
             "colorbar": {
              "outlinewidth": 0,
              "ticks": ""
             }
            },
            "type": "parcoords"
           }
          ],
          "pie": [
           {
            "automargin": true,
            "type": "pie"
           }
          ],
          "scatter": [
           {
            "fillpattern": {
             "fillmode": "overlay",
             "size": 10,
             "solidity": 0.2
            },
            "type": "scatter"
           }
          ],
          "scatter3d": [
           {
            "line": {
             "colorbar": {
              "outlinewidth": 0,
              "ticks": ""
             }
            },
            "marker": {
             "colorbar": {
              "outlinewidth": 0,
              "ticks": ""
             }
            },
            "type": "scatter3d"
           }
          ],
          "scattercarpet": [
           {
            "marker": {
             "colorbar": {
              "outlinewidth": 0,
              "ticks": ""
             }
            },
            "type": "scattercarpet"
           }
          ],
          "scattergeo": [
           {
            "marker": {
             "colorbar": {
              "outlinewidth": 0,
              "ticks": ""
             }
            },
            "type": "scattergeo"
           }
          ],
          "scattergl": [
           {
            "marker": {
             "colorbar": {
              "outlinewidth": 0,
              "ticks": ""
             }
            },
            "type": "scattergl"
           }
          ],
          "scattermapbox": [
           {
            "marker": {
             "colorbar": {
              "outlinewidth": 0,
              "ticks": ""
             }
            },
            "type": "scattermapbox"
           }
          ],
          "scatterpolar": [
           {
            "marker": {
             "colorbar": {
              "outlinewidth": 0,
              "ticks": ""
             }
            },
            "type": "scatterpolar"
           }
          ],
          "scatterpolargl": [
           {
            "marker": {
             "colorbar": {
              "outlinewidth": 0,
              "ticks": ""
             }
            },
            "type": "scatterpolargl"
           }
          ],
          "scatterternary": [
           {
            "marker": {
             "colorbar": {
              "outlinewidth": 0,
              "ticks": ""
             }
            },
            "type": "scatterternary"
           }
          ],
          "surface": [
           {
            "colorbar": {
             "outlinewidth": 0,
             "ticks": ""
            },
            "colorscale": [
             [
              0,
              "#0d0887"
             ],
             [
              0.1111111111111111,
              "#46039f"
             ],
             [
              0.2222222222222222,
              "#7201a8"
             ],
             [
              0.3333333333333333,
              "#9c179e"
             ],
             [
              0.4444444444444444,
              "#bd3786"
             ],
             [
              0.5555555555555556,
              "#d8576b"
             ],
             [
              0.6666666666666666,
              "#ed7953"
             ],
             [
              0.7777777777777778,
              "#fb9f3a"
             ],
             [
              0.8888888888888888,
              "#fdca26"
             ],
             [
              1,
              "#f0f921"
             ]
            ],
            "type": "surface"
           }
          ],
          "table": [
           {
            "cells": {
             "fill": {
              "color": "#EBF0F8"
             },
             "line": {
              "color": "white"
             }
            },
            "header": {
             "fill": {
              "color": "#C8D4E3"
             },
             "line": {
              "color": "white"
             }
            },
            "type": "table"
           }
          ]
         },
         "layout": {
          "annotationdefaults": {
           "arrowcolor": "#2a3f5f",
           "arrowhead": 0,
           "arrowwidth": 1
          },
          "autotypenumbers": "strict",
          "coloraxis": {
           "colorbar": {
            "outlinewidth": 0,
            "ticks": ""
           }
          },
          "colorscale": {
           "diverging": [
            [
             0,
             "#8e0152"
            ],
            [
             0.1,
             "#c51b7d"
            ],
            [
             0.2,
             "#de77ae"
            ],
            [
             0.3,
             "#f1b6da"
            ],
            [
             0.4,
             "#fde0ef"
            ],
            [
             0.5,
             "#f7f7f7"
            ],
            [
             0.6,
             "#e6f5d0"
            ],
            [
             0.7,
             "#b8e186"
            ],
            [
             0.8,
             "#7fbc41"
            ],
            [
             0.9,
             "#4d9221"
            ],
            [
             1,
             "#276419"
            ]
           ],
           "sequential": [
            [
             0,
             "#0d0887"
            ],
            [
             0.1111111111111111,
             "#46039f"
            ],
            [
             0.2222222222222222,
             "#7201a8"
            ],
            [
             0.3333333333333333,
             "#9c179e"
            ],
            [
             0.4444444444444444,
             "#bd3786"
            ],
            [
             0.5555555555555556,
             "#d8576b"
            ],
            [
             0.6666666666666666,
             "#ed7953"
            ],
            [
             0.7777777777777778,
             "#fb9f3a"
            ],
            [
             0.8888888888888888,
             "#fdca26"
            ],
            [
             1,
             "#f0f921"
            ]
           ],
           "sequentialminus": [
            [
             0,
             "#0d0887"
            ],
            [
             0.1111111111111111,
             "#46039f"
            ],
            [
             0.2222222222222222,
             "#7201a8"
            ],
            [
             0.3333333333333333,
             "#9c179e"
            ],
            [
             0.4444444444444444,
             "#bd3786"
            ],
            [
             0.5555555555555556,
             "#d8576b"
            ],
            [
             0.6666666666666666,
             "#ed7953"
            ],
            [
             0.7777777777777778,
             "#fb9f3a"
            ],
            [
             0.8888888888888888,
             "#fdca26"
            ],
            [
             1,
             "#f0f921"
            ]
           ]
          },
          "colorway": [
           "#636efa",
           "#EF553B",
           "#00cc96",
           "#ab63fa",
           "#FFA15A",
           "#19d3f3",
           "#FF6692",
           "#B6E880",
           "#FF97FF",
           "#FECB52"
          ],
          "font": {
           "color": "#2a3f5f"
          },
          "geo": {
           "bgcolor": "white",
           "lakecolor": "white",
           "landcolor": "#E5ECF6",
           "showlakes": true,
           "showland": true,
           "subunitcolor": "white"
          },
          "hoverlabel": {
           "align": "left"
          },
          "hovermode": "closest",
          "mapbox": {
           "style": "light"
          },
          "paper_bgcolor": "white",
          "plot_bgcolor": "#E5ECF6",
          "polar": {
           "angularaxis": {
            "gridcolor": "white",
            "linecolor": "white",
            "ticks": ""
           },
           "bgcolor": "#E5ECF6",
           "radialaxis": {
            "gridcolor": "white",
            "linecolor": "white",
            "ticks": ""
           }
          },
          "scene": {
           "xaxis": {
            "backgroundcolor": "#E5ECF6",
            "gridcolor": "white",
            "gridwidth": 2,
            "linecolor": "white",
            "showbackground": true,
            "ticks": "",
            "zerolinecolor": "white"
           },
           "yaxis": {
            "backgroundcolor": "#E5ECF6",
            "gridcolor": "white",
            "gridwidth": 2,
            "linecolor": "white",
            "showbackground": true,
            "ticks": "",
            "zerolinecolor": "white"
           },
           "zaxis": {
            "backgroundcolor": "#E5ECF6",
            "gridcolor": "white",
            "gridwidth": 2,
            "linecolor": "white",
            "showbackground": true,
            "ticks": "",
            "zerolinecolor": "white"
           }
          },
          "shapedefaults": {
           "line": {
            "color": "#2a3f5f"
           }
          },
          "ternary": {
           "aaxis": {
            "gridcolor": "white",
            "linecolor": "white",
            "ticks": ""
           },
           "baxis": {
            "gridcolor": "white",
            "linecolor": "white",
            "ticks": ""
           },
           "bgcolor": "#E5ECF6",
           "caxis": {
            "gridcolor": "white",
            "linecolor": "white",
            "ticks": ""
           }
          },
          "title": {
           "x": 0.05
          },
          "xaxis": {
           "automargin": true,
           "gridcolor": "white",
           "linecolor": "white",
           "ticks": "",
           "title": {
            "standoff": 15
           },
           "zerolinecolor": "white",
           "zerolinewidth": 2
          },
          "yaxis": {
           "automargin": true,
           "gridcolor": "white",
           "linecolor": "white",
           "ticks": "",
           "title": {
            "standoff": 15
           },
           "zerolinecolor": "white",
           "zerolinewidth": 2
          }
         }
        },
        "title": {
         "text": "Income in relation to gender"
        },
        "xaxis": {
         "anchor": "y",
         "categoryarray": [
          "female",
          "male"
         ],
         "categoryorder": "array",
         "domain": [
          0,
          1
         ],
         "title": {
          "text": "sex"
         }
        },
        "yaxis": {
         "anchor": "x",
         "domain": [
          0,
          1
         ],
         "title": {
          "text": "income"
         }
        }
       }
      }
     },
     "metadata": {},
     "output_type": "display_data"
    }
   ],
   "source": [
    "px.box(df, x='sex', y='income', title='Income in relation to gender', color='sex')"
   ]
  },
  {
   "cell_type": "markdown",
   "metadata": {},
   "source": [
    "## 5. Using plotly.express, construct a histogram showing the distribution of age of respondents.\n",
    "5.1 Change the number of intervals to 21"
   ]
  },
  {
   "cell_type": "code",
   "execution_count": 5,
   "metadata": {},
   "outputs": [
    {
     "data": {
      "application/vnd.plotly.v1+json": {
       "config": {
        "plotlyServerURL": "https://plot.ly"
       },
       "data": [
        {
         "alignmentgroup": "True",
         "bingroup": "x",
         "hovertemplate": "age=%{x}<br>count=%{y}<extra></extra>",
         "legendgroup": "",
         "marker": {
          "color": "#636efa",
          "pattern": {
           "shape": ""
          }
         },
         "name": "",
         "nbinsx": 21,
         "offsetgroup": "",
         "orientation": "v",
         "showlegend": false,
         "type": "histogram",
         "x": [
          47,
          36,
          35,
          50,
          44,
          36,
          42,
          44,
          41,
          41,
          54,
          41,
          30,
          31,
          30,
          40,
          58,
          33,
          34,
          49,
          45,
          43,
          44,
          45,
          55,
          42,
          37,
          35,
          44,
          41,
          52,
          54,
          45,
          43,
          33,
          36,
          41,
          52,
          57,
          50,
          42,
          36,
          38,
          44,
          52,
          47,
          27,
          56,
          50,
          37,
          26,
          42,
          41,
          51,
          50,
          57,
          40,
          61,
          35,
          50,
          44,
          55,
          47,
          42,
          53,
          52,
          33,
          52,
          46,
          45,
          40,
          35,
          49,
          46,
          49,
          53,
          45,
          57,
          43,
          45,
          31,
          51,
          32,
          49,
          39,
          51,
          55,
          42,
          45,
          55,
          46,
          39,
          51,
          42,
          48,
          55,
          46,
          45,
          33,
          53,
          48,
          34,
          40,
          48,
          42,
          43,
          57,
          45,
          44,
          47,
          49,
          47,
          45,
          37,
          51,
          42,
          42,
          44,
          37,
          20,
          59,
          34,
          43,
          55,
          38,
          55,
          52,
          31,
          44,
          43,
          52,
          33,
          38,
          48,
          48,
          47,
          52,
          41,
          48,
          48,
          49,
          50,
          38,
          42,
          52,
          40,
          45,
          31,
          46,
          20,
          56,
          36,
          47,
          50,
          49,
          60,
          44,
          46,
          37,
          41,
          56,
          65,
          29,
          40,
          35,
          42,
          47,
          38,
          37,
          40,
          52,
          49,
          40,
          50,
          51,
          48,
          52,
          47,
          50,
          46,
          44,
          58,
          54,
          50,
          52,
          44,
          59,
          35,
          34,
          53,
          36,
          46,
          50,
          45,
          38,
          33,
          30,
          43,
          32,
          41,
          49,
          61,
          53,
          64,
          42,
          54,
          46,
          44,
          45,
          52,
          52,
          50,
          43,
          48,
          60,
          42,
          50,
          44,
          45,
          37,
          48,
          31,
          43,
          44,
          42,
          36,
          50,
          46,
          44,
          36,
          45,
          44,
          53,
          44,
          46,
          49,
          42,
          59,
          38,
          43,
          35,
          46,
          45,
          55,
          49,
          44,
          37,
          51,
          47,
          40,
          50,
          55,
          48,
          53,
          44,
          39,
          56,
          51,
          41,
          39,
          38,
          40,
          63,
          45,
          45,
          47,
          48,
          45,
          45,
          36,
          55,
          42,
          57,
          48,
          46,
          30,
          54,
          50,
          41,
          29,
          51,
          29,
          56,
          45,
          51,
          36,
          44,
          45,
          34,
          42,
          42,
          38,
          50,
          37,
          39,
          45,
          54,
          52,
          40,
          41,
          40,
          45,
          37,
          40,
          56,
          42,
          39,
          51,
          55,
          46,
          60,
          54,
          46,
          30,
          54,
          43,
          45,
          55,
          51,
          48,
          59,
          52,
          41,
          54,
          36,
          45,
          53,
          41,
          38,
          54,
          39,
          59,
          52,
          52,
          38,
          56,
          51,
          50,
          56,
          49,
          53,
          48,
          55,
          45,
          51,
          48,
          43,
          37,
          55,
          57,
          60,
          54,
          51,
          33,
          33,
          45,
          52,
          50,
          48,
          39,
          50,
          40,
          55,
          36,
          44,
          32,
          34,
          43,
          32,
          35,
          50,
          52,
          34,
          33,
          47,
          33,
          54,
          29,
          38,
          37,
          49,
          39,
          55,
          45,
          42,
          41,
          47,
          42,
          46,
          39,
          44,
          56,
          41,
          61,
          42,
          51,
          61,
          67,
          45,
          42,
          62,
          47,
          37,
          45,
          48,
          40,
          50,
          58,
          51,
          48,
          34,
          38,
          31,
          47,
          50,
          33,
          43,
          48,
          36,
          48,
          40,
          50,
          43,
          49,
          52,
          47,
          47,
          36,
          58,
          43,
          38,
          43,
          36,
          50,
          54,
          52,
          60,
          46,
          46,
          49,
          40,
          50,
          40,
          54,
          30,
          44,
          49,
          44,
          34,
          62,
          41,
          46,
          48,
          59,
          53,
          44,
          54,
          43,
          49,
          46,
          42,
          51,
          38,
          44,
          43,
          33,
          51,
          43,
          35,
          42,
          49,
          48,
          57,
          40,
          40,
          41,
          35,
          33,
          63,
          39,
          38,
          45,
          33,
          42,
          42,
          53,
          50,
          58,
          48,
          41,
          43,
          49,
          55,
          61,
          42,
          35,
          56,
          47,
          34,
          46,
          39,
          33,
          55,
          41,
          52,
          48,
          38,
          44,
          46,
          55,
          51,
          60,
          42,
          42,
          50,
          50,
          29,
          54,
          40,
          43,
          44,
          35,
          38,
          25,
          55,
          53,
          41,
          59,
          48,
          48,
          54,
          35,
          48,
          40,
          40,
          45,
          41,
          34,
          47,
          53,
          45,
          51,
          47,
          49,
          29,
          39,
          41,
          41,
          38,
          56,
          46,
          27,
          43,
          43,
          44,
          42,
          40,
          45,
          44,
          52,
          51,
          46,
          47,
          49,
          44,
          49,
          41,
          52,
          29,
          39,
          55,
          46,
          30,
          58,
          33,
          24,
          42,
          45,
          53,
          35,
          36,
          44,
          51,
          42,
          46,
          26,
          48,
          27,
          44,
          49,
          28,
          52,
          51,
          36,
          42,
          56,
          46,
          31,
          54,
          42,
          45,
          41,
          46,
          43,
          44,
          52,
          44,
          58,
          62,
          52,
          52,
          37,
          30,
          47,
          34,
          42,
          53,
          40,
          46,
          41,
          32,
          45,
          33,
          47,
          48,
          52,
          47,
          48,
          47,
          47,
          44,
          40,
          48,
          42,
          49,
          46,
          44,
          46,
          47,
          45,
          42,
          49,
          38,
          38,
          43,
          39,
          31,
          54,
          51,
          27,
          46,
          41,
          54,
          44,
          33,
          50,
          47,
          54,
          53,
          44,
          52,
          42,
          27,
          38,
          46,
          43,
          54,
          42,
          51,
          46,
          48,
          43,
          38,
          56,
          60,
          43,
          54,
          40,
          46,
          50,
          38,
          55,
          49,
          21,
          39,
          43,
          32,
          51,
          57,
          58,
          35,
          42,
          29,
          52,
          39,
          42,
          27,
          49,
          53,
          32,
          52,
          55,
          37,
          44,
          45,
          58,
          42,
          35,
          35,
          30,
          53,
          53,
          48,
          37,
          52,
          44,
          47,
          43,
          32,
          50,
          34,
          47,
          53,
          51,
          49,
          44,
          48,
          51,
          43,
          29,
          43,
          32,
          32,
          52,
          40,
          42,
          37,
          48,
          54,
          39,
          37,
          34,
          45,
          30,
          44,
          44,
          38,
          45,
          41,
          55,
          66,
          64,
          53,
          60,
          53,
          50,
          53,
          30,
          63,
          51,
          57,
          26,
          50,
          36,
          56,
          36,
          46,
          39,
          44,
          56,
          33,
          52,
          32,
          45,
          42,
          37,
          30,
          48,
          45,
          48,
          43,
          47,
          48,
          52,
          70,
          44,
          55,
          43,
          52,
          56,
          48,
          61,
          66,
          51,
          42,
          57,
          39,
          47,
          48,
          42,
          49,
          47,
          52,
          49,
          51,
          28,
          42,
          35,
          38,
          50,
          54,
          52,
          49,
          52,
          48,
          38,
          51,
          50,
          51,
          40,
          46,
          50,
          42,
          50,
          26,
          54,
          43,
          54,
          60,
          45,
          48,
          47,
          41,
          45,
          30,
          50,
          34,
          44,
          43,
          28,
          48,
          48,
          47,
          58,
          44,
          56,
          52,
          39,
          38,
          49,
          65,
          46,
          60,
          50,
          34,
          60,
          53,
          51,
          40,
          42,
          54,
          48,
          53,
          21,
          54,
          50,
          43,
          41,
          47,
          38,
          39,
          31,
          40,
          44,
          41,
          40,
          46,
          43,
          25,
          49,
          40,
          43,
          40,
          37,
          41,
          41,
          63,
          47,
          38,
          48,
          51,
          34,
          57,
          46,
          36,
          61,
          37,
          32,
          53,
          45,
          54,
          54,
          48,
          30,
          53,
          37,
          38,
          48,
          46,
          52,
          52,
          50,
          52,
          56,
          43,
          48,
          52,
          45,
          54,
          33,
          39,
          56,
          49,
          39,
          43,
          35,
          51,
          54,
          36,
          55,
          38,
          31,
          55,
          51,
          41,
          47,
          35,
          53,
          41,
          43,
          46,
          51,
          48,
          45,
          40,
          50,
          54,
          60,
          51,
          48,
          49,
          36,
          42,
          43,
          55,
          35,
          45,
          54,
          54,
          37,
          45,
          47,
          41,
          47,
          34,
          49,
          45,
          25,
          41,
          48,
          38,
          50,
          58,
          33,
          54,
          56,
          51,
          46,
          51,
          49,
          46,
          40,
          41,
          57,
          33,
          53,
          36,
          48,
          60,
          14,
          24,
          32,
          43,
          64,
          40,
          33,
          33,
          46,
          50,
          59
         ],
         "xaxis": "x",
         "yaxis": "y"
        }
       ],
       "layout": {
        "barmode": "relative",
        "legend": {
         "tracegroupgap": 0
        },
        "template": {
         "data": {
          "bar": [
           {
            "error_x": {
             "color": "#2a3f5f"
            },
            "error_y": {
             "color": "#2a3f5f"
            },
            "marker": {
             "line": {
              "color": "#E5ECF6",
              "width": 0.5
             },
             "pattern": {
              "fillmode": "overlay",
              "size": 10,
              "solidity": 0.2
             }
            },
            "type": "bar"
           }
          ],
          "barpolar": [
           {
            "marker": {
             "line": {
              "color": "#E5ECF6",
              "width": 0.5
             },
             "pattern": {
              "fillmode": "overlay",
              "size": 10,
              "solidity": 0.2
             }
            },
            "type": "barpolar"
           }
          ],
          "carpet": [
           {
            "aaxis": {
             "endlinecolor": "#2a3f5f",
             "gridcolor": "white",
             "linecolor": "white",
             "minorgridcolor": "white",
             "startlinecolor": "#2a3f5f"
            },
            "baxis": {
             "endlinecolor": "#2a3f5f",
             "gridcolor": "white",
             "linecolor": "white",
             "minorgridcolor": "white",
             "startlinecolor": "#2a3f5f"
            },
            "type": "carpet"
           }
          ],
          "choropleth": [
           {
            "colorbar": {
             "outlinewidth": 0,
             "ticks": ""
            },
            "type": "choropleth"
           }
          ],
          "contour": [
           {
            "colorbar": {
             "outlinewidth": 0,
             "ticks": ""
            },
            "colorscale": [
             [
              0,
              "#0d0887"
             ],
             [
              0.1111111111111111,
              "#46039f"
             ],
             [
              0.2222222222222222,
              "#7201a8"
             ],
             [
              0.3333333333333333,
              "#9c179e"
             ],
             [
              0.4444444444444444,
              "#bd3786"
             ],
             [
              0.5555555555555556,
              "#d8576b"
             ],
             [
              0.6666666666666666,
              "#ed7953"
             ],
             [
              0.7777777777777778,
              "#fb9f3a"
             ],
             [
              0.8888888888888888,
              "#fdca26"
             ],
             [
              1,
              "#f0f921"
             ]
            ],
            "type": "contour"
           }
          ],
          "contourcarpet": [
           {
            "colorbar": {
             "outlinewidth": 0,
             "ticks": ""
            },
            "type": "contourcarpet"
           }
          ],
          "heatmap": [
           {
            "colorbar": {
             "outlinewidth": 0,
             "ticks": ""
            },
            "colorscale": [
             [
              0,
              "#0d0887"
             ],
             [
              0.1111111111111111,
              "#46039f"
             ],
             [
              0.2222222222222222,
              "#7201a8"
             ],
             [
              0.3333333333333333,
              "#9c179e"
             ],
             [
              0.4444444444444444,
              "#bd3786"
             ],
             [
              0.5555555555555556,
              "#d8576b"
             ],
             [
              0.6666666666666666,
              "#ed7953"
             ],
             [
              0.7777777777777778,
              "#fb9f3a"
             ],
             [
              0.8888888888888888,
              "#fdca26"
             ],
             [
              1,
              "#f0f921"
             ]
            ],
            "type": "heatmap"
           }
          ],
          "heatmapgl": [
           {
            "colorbar": {
             "outlinewidth": 0,
             "ticks": ""
            },
            "colorscale": [
             [
              0,
              "#0d0887"
             ],
             [
              0.1111111111111111,
              "#46039f"
             ],
             [
              0.2222222222222222,
              "#7201a8"
             ],
             [
              0.3333333333333333,
              "#9c179e"
             ],
             [
              0.4444444444444444,
              "#bd3786"
             ],
             [
              0.5555555555555556,
              "#d8576b"
             ],
             [
              0.6666666666666666,
              "#ed7953"
             ],
             [
              0.7777777777777778,
              "#fb9f3a"
             ],
             [
              0.8888888888888888,
              "#fdca26"
             ],
             [
              1,
              "#f0f921"
             ]
            ],
            "type": "heatmapgl"
           }
          ],
          "histogram": [
           {
            "marker": {
             "pattern": {
              "fillmode": "overlay",
              "size": 10,
              "solidity": 0.2
             }
            },
            "type": "histogram"
           }
          ],
          "histogram2d": [
           {
            "colorbar": {
             "outlinewidth": 0,
             "ticks": ""
            },
            "colorscale": [
             [
              0,
              "#0d0887"
             ],
             [
              0.1111111111111111,
              "#46039f"
             ],
             [
              0.2222222222222222,
              "#7201a8"
             ],
             [
              0.3333333333333333,
              "#9c179e"
             ],
             [
              0.4444444444444444,
              "#bd3786"
             ],
             [
              0.5555555555555556,
              "#d8576b"
             ],
             [
              0.6666666666666666,
              "#ed7953"
             ],
             [
              0.7777777777777778,
              "#fb9f3a"
             ],
             [
              0.8888888888888888,
              "#fdca26"
             ],
             [
              1,
              "#f0f921"
             ]
            ],
            "type": "histogram2d"
           }
          ],
          "histogram2dcontour": [
           {
            "colorbar": {
             "outlinewidth": 0,
             "ticks": ""
            },
            "colorscale": [
             [
              0,
              "#0d0887"
             ],
             [
              0.1111111111111111,
              "#46039f"
             ],
             [
              0.2222222222222222,
              "#7201a8"
             ],
             [
              0.3333333333333333,
              "#9c179e"
             ],
             [
              0.4444444444444444,
              "#bd3786"
             ],
             [
              0.5555555555555556,
              "#d8576b"
             ],
             [
              0.6666666666666666,
              "#ed7953"
             ],
             [
              0.7777777777777778,
              "#fb9f3a"
             ],
             [
              0.8888888888888888,
              "#fdca26"
             ],
             [
              1,
              "#f0f921"
             ]
            ],
            "type": "histogram2dcontour"
           }
          ],
          "mesh3d": [
           {
            "colorbar": {
             "outlinewidth": 0,
             "ticks": ""
            },
            "type": "mesh3d"
           }
          ],
          "parcoords": [
           {
            "line": {
             "colorbar": {
              "outlinewidth": 0,
              "ticks": ""
             }
            },
            "type": "parcoords"
           }
          ],
          "pie": [
           {
            "automargin": true,
            "type": "pie"
           }
          ],
          "scatter": [
           {
            "fillpattern": {
             "fillmode": "overlay",
             "size": 10,
             "solidity": 0.2
            },
            "type": "scatter"
           }
          ],
          "scatter3d": [
           {
            "line": {
             "colorbar": {
              "outlinewidth": 0,
              "ticks": ""
             }
            },
            "marker": {
             "colorbar": {
              "outlinewidth": 0,
              "ticks": ""
             }
            },
            "type": "scatter3d"
           }
          ],
          "scattercarpet": [
           {
            "marker": {
             "colorbar": {
              "outlinewidth": 0,
              "ticks": ""
             }
            },
            "type": "scattercarpet"
           }
          ],
          "scattergeo": [
           {
            "marker": {
             "colorbar": {
              "outlinewidth": 0,
              "ticks": ""
             }
            },
            "type": "scattergeo"
           }
          ],
          "scattergl": [
           {
            "marker": {
             "colorbar": {
              "outlinewidth": 0,
              "ticks": ""
             }
            },
            "type": "scattergl"
           }
          ],
          "scattermapbox": [
           {
            "marker": {
             "colorbar": {
              "outlinewidth": 0,
              "ticks": ""
             }
            },
            "type": "scattermapbox"
           }
          ],
          "scatterpolar": [
           {
            "marker": {
             "colorbar": {
              "outlinewidth": 0,
              "ticks": ""
             }
            },
            "type": "scatterpolar"
           }
          ],
          "scatterpolargl": [
           {
            "marker": {
             "colorbar": {
              "outlinewidth": 0,
              "ticks": ""
             }
            },
            "type": "scatterpolargl"
           }
          ],
          "scatterternary": [
           {
            "marker": {
             "colorbar": {
              "outlinewidth": 0,
              "ticks": ""
             }
            },
            "type": "scatterternary"
           }
          ],
          "surface": [
           {
            "colorbar": {
             "outlinewidth": 0,
             "ticks": ""
            },
            "colorscale": [
             [
              0,
              "#0d0887"
             ],
             [
              0.1111111111111111,
              "#46039f"
             ],
             [
              0.2222222222222222,
              "#7201a8"
             ],
             [
              0.3333333333333333,
              "#9c179e"
             ],
             [
              0.4444444444444444,
              "#bd3786"
             ],
             [
              0.5555555555555556,
              "#d8576b"
             ],
             [
              0.6666666666666666,
              "#ed7953"
             ],
             [
              0.7777777777777778,
              "#fb9f3a"
             ],
             [
              0.8888888888888888,
              "#fdca26"
             ],
             [
              1,
              "#f0f921"
             ]
            ],
            "type": "surface"
           }
          ],
          "table": [
           {
            "cells": {
             "fill": {
              "color": "#EBF0F8"
             },
             "line": {
              "color": "white"
             }
            },
            "header": {
             "fill": {
              "color": "#C8D4E3"
             },
             "line": {
              "color": "white"
             }
            },
            "type": "table"
           }
          ]
         },
         "layout": {
          "annotationdefaults": {
           "arrowcolor": "#2a3f5f",
           "arrowhead": 0,
           "arrowwidth": 1
          },
          "autotypenumbers": "strict",
          "coloraxis": {
           "colorbar": {
            "outlinewidth": 0,
            "ticks": ""
           }
          },
          "colorscale": {
           "diverging": [
            [
             0,
             "#8e0152"
            ],
            [
             0.1,
             "#c51b7d"
            ],
            [
             0.2,
             "#de77ae"
            ],
            [
             0.3,
             "#f1b6da"
            ],
            [
             0.4,
             "#fde0ef"
            ],
            [
             0.5,
             "#f7f7f7"
            ],
            [
             0.6,
             "#e6f5d0"
            ],
            [
             0.7,
             "#b8e186"
            ],
            [
             0.8,
             "#7fbc41"
            ],
            [
             0.9,
             "#4d9221"
            ],
            [
             1,
             "#276419"
            ]
           ],
           "sequential": [
            [
             0,
             "#0d0887"
            ],
            [
             0.1111111111111111,
             "#46039f"
            ],
            [
             0.2222222222222222,
             "#7201a8"
            ],
            [
             0.3333333333333333,
             "#9c179e"
            ],
            [
             0.4444444444444444,
             "#bd3786"
            ],
            [
             0.5555555555555556,
             "#d8576b"
            ],
            [
             0.6666666666666666,
             "#ed7953"
            ],
            [
             0.7777777777777778,
             "#fb9f3a"
            ],
            [
             0.8888888888888888,
             "#fdca26"
            ],
            [
             1,
             "#f0f921"
            ]
           ],
           "sequentialminus": [
            [
             0,
             "#0d0887"
            ],
            [
             0.1111111111111111,
             "#46039f"
            ],
            [
             0.2222222222222222,
             "#7201a8"
            ],
            [
             0.3333333333333333,
             "#9c179e"
            ],
            [
             0.4444444444444444,
             "#bd3786"
            ],
            [
             0.5555555555555556,
             "#d8576b"
            ],
            [
             0.6666666666666666,
             "#ed7953"
            ],
            [
             0.7777777777777778,
             "#fb9f3a"
            ],
            [
             0.8888888888888888,
             "#fdca26"
            ],
            [
             1,
             "#f0f921"
            ]
           ]
          },
          "colorway": [
           "#636efa",
           "#EF553B",
           "#00cc96",
           "#ab63fa",
           "#FFA15A",
           "#19d3f3",
           "#FF6692",
           "#B6E880",
           "#FF97FF",
           "#FECB52"
          ],
          "font": {
           "color": "#2a3f5f"
          },
          "geo": {
           "bgcolor": "white",
           "lakecolor": "white",
           "landcolor": "#E5ECF6",
           "showlakes": true,
           "showland": true,
           "subunitcolor": "white"
          },
          "hoverlabel": {
           "align": "left"
          },
          "hovermode": "closest",
          "mapbox": {
           "style": "light"
          },
          "paper_bgcolor": "white",
          "plot_bgcolor": "#E5ECF6",
          "polar": {
           "angularaxis": {
            "gridcolor": "white",
            "linecolor": "white",
            "ticks": ""
           },
           "bgcolor": "#E5ECF6",
           "radialaxis": {
            "gridcolor": "white",
            "linecolor": "white",
            "ticks": ""
           }
          },
          "scene": {
           "xaxis": {
            "backgroundcolor": "#E5ECF6",
            "gridcolor": "white",
            "gridwidth": 2,
            "linecolor": "white",
            "showbackground": true,
            "ticks": "",
            "zerolinecolor": "white"
           },
           "yaxis": {
            "backgroundcolor": "#E5ECF6",
            "gridcolor": "white",
            "gridwidth": 2,
            "linecolor": "white",
            "showbackground": true,
            "ticks": "",
            "zerolinecolor": "white"
           },
           "zaxis": {
            "backgroundcolor": "#E5ECF6",
            "gridcolor": "white",
            "gridwidth": 2,
            "linecolor": "white",
            "showbackground": true,
            "ticks": "",
            "zerolinecolor": "white"
           }
          },
          "shapedefaults": {
           "line": {
            "color": "#2a3f5f"
           }
          },
          "ternary": {
           "aaxis": {
            "gridcolor": "white",
            "linecolor": "white",
            "ticks": ""
           },
           "baxis": {
            "gridcolor": "white",
            "linecolor": "white",
            "ticks": ""
           },
           "bgcolor": "#E5ECF6",
           "caxis": {
            "gridcolor": "white",
            "linecolor": "white",
            "ticks": ""
           }
          },
          "title": {
           "x": 0.05
          },
          "xaxis": {
           "automargin": true,
           "gridcolor": "white",
           "linecolor": "white",
           "ticks": "",
           "title": {
            "standoff": 15
           },
           "zerolinecolor": "white",
           "zerolinewidth": 2
          },
          "yaxis": {
           "automargin": true,
           "gridcolor": "white",
           "linecolor": "white",
           "ticks": "",
           "title": {
            "standoff": 15
           },
           "zerolinecolor": "white",
           "zerolinewidth": 2
          }
         }
        },
        "title": {
         "text": "Age distribution"
        },
        "xaxis": {
         "anchor": "y",
         "domain": [
          0,
          1
         ],
         "title": {
          "text": "age"
         }
        },
        "yaxis": {
         "anchor": "x",
         "domain": [
          0,
          1
         ],
         "title": {
          "text": "count"
         }
        }
       }
      }
     },
     "metadata": {},
     "output_type": "display_data"
    }
   ],
   "source": [
    "px.histogram(df, x='age', nbins=21, title='Age distribution')"
   ]
  },
  {
   "cell_type": "markdown",
   "metadata": {},
   "source": [
    "## 6. Using plotly.express construct a sunburst chart, showing the distribution of the income amount within sex and social status (first, find the sum of income for all respondents within each combination of sex and social status)."
   ]
  },
  {
   "cell_type": "code",
   "execution_count": 6,
   "metadata": {},
   "outputs": [
    {
     "data": {
      "application/vnd.plotly.v1+json": {
       "config": {
        "plotlyServerURL": "https://plot.ly"
       },
       "data": [
        {
         "branchvalues": "total",
         "domain": {
          "x": [
           0,
           1
          ],
          "y": [
           0,
           1
          ]
         },
         "hovertemplate": "labels=%{label}<br>income=%{value}<br>parent=%{parent}<br>id=%{id}<extra></extra>",
         "ids": [
          "female/divorced",
          "male/divorced",
          "female/married",
          "male/married",
          "female/single",
          "male/single",
          "female/widow",
          "male/widow",
          "female",
          "male"
         ],
         "labels": [
          "divorced",
          "divorced",
          "married",
          "married",
          "single",
          "single",
          "widow",
          "widow",
          "female",
          "male"
         ],
         "name": "",
         "parents": [
          "female",
          "male",
          "female",
          "male",
          "female",
          "male",
          "female",
          "male",
          "",
          ""
         ],
         "type": "sunburst",
         "values": [
          10788244,
          6696546,
          13907105,
          10983992,
          18504680,
          11976060,
          2763502,
          1035320,
          45963531,
          30691918
         ]
        }
       ],
       "layout": {
        "legend": {
         "tracegroupgap": 0
        },
        "margin": {
         "t": 60
        },
        "template": {
         "data": {
          "bar": [
           {
            "error_x": {
             "color": "#2a3f5f"
            },
            "error_y": {
             "color": "#2a3f5f"
            },
            "marker": {
             "line": {
              "color": "#E5ECF6",
              "width": 0.5
             },
             "pattern": {
              "fillmode": "overlay",
              "size": 10,
              "solidity": 0.2
             }
            },
            "type": "bar"
           }
          ],
          "barpolar": [
           {
            "marker": {
             "line": {
              "color": "#E5ECF6",
              "width": 0.5
             },
             "pattern": {
              "fillmode": "overlay",
              "size": 10,
              "solidity": 0.2
             }
            },
            "type": "barpolar"
           }
          ],
          "carpet": [
           {
            "aaxis": {
             "endlinecolor": "#2a3f5f",
             "gridcolor": "white",
             "linecolor": "white",
             "minorgridcolor": "white",
             "startlinecolor": "#2a3f5f"
            },
            "baxis": {
             "endlinecolor": "#2a3f5f",
             "gridcolor": "white",
             "linecolor": "white",
             "minorgridcolor": "white",
             "startlinecolor": "#2a3f5f"
            },
            "type": "carpet"
           }
          ],
          "choropleth": [
           {
            "colorbar": {
             "outlinewidth": 0,
             "ticks": ""
            },
            "type": "choropleth"
           }
          ],
          "contour": [
           {
            "colorbar": {
             "outlinewidth": 0,
             "ticks": ""
            },
            "colorscale": [
             [
              0,
              "#0d0887"
             ],
             [
              0.1111111111111111,
              "#46039f"
             ],
             [
              0.2222222222222222,
              "#7201a8"
             ],
             [
              0.3333333333333333,
              "#9c179e"
             ],
             [
              0.4444444444444444,
              "#bd3786"
             ],
             [
              0.5555555555555556,
              "#d8576b"
             ],
             [
              0.6666666666666666,
              "#ed7953"
             ],
             [
              0.7777777777777778,
              "#fb9f3a"
             ],
             [
              0.8888888888888888,
              "#fdca26"
             ],
             [
              1,
              "#f0f921"
             ]
            ],
            "type": "contour"
           }
          ],
          "contourcarpet": [
           {
            "colorbar": {
             "outlinewidth": 0,
             "ticks": ""
            },
            "type": "contourcarpet"
           }
          ],
          "heatmap": [
           {
            "colorbar": {
             "outlinewidth": 0,
             "ticks": ""
            },
            "colorscale": [
             [
              0,
              "#0d0887"
             ],
             [
              0.1111111111111111,
              "#46039f"
             ],
             [
              0.2222222222222222,
              "#7201a8"
             ],
             [
              0.3333333333333333,
              "#9c179e"
             ],
             [
              0.4444444444444444,
              "#bd3786"
             ],
             [
              0.5555555555555556,
              "#d8576b"
             ],
             [
              0.6666666666666666,
              "#ed7953"
             ],
             [
              0.7777777777777778,
              "#fb9f3a"
             ],
             [
              0.8888888888888888,
              "#fdca26"
             ],
             [
              1,
              "#f0f921"
             ]
            ],
            "type": "heatmap"
           }
          ],
          "heatmapgl": [
           {
            "colorbar": {
             "outlinewidth": 0,
             "ticks": ""
            },
            "colorscale": [
             [
              0,
              "#0d0887"
             ],
             [
              0.1111111111111111,
              "#46039f"
             ],
             [
              0.2222222222222222,
              "#7201a8"
             ],
             [
              0.3333333333333333,
              "#9c179e"
             ],
             [
              0.4444444444444444,
              "#bd3786"
             ],
             [
              0.5555555555555556,
              "#d8576b"
             ],
             [
              0.6666666666666666,
              "#ed7953"
             ],
             [
              0.7777777777777778,
              "#fb9f3a"
             ],
             [
              0.8888888888888888,
              "#fdca26"
             ],
             [
              1,
              "#f0f921"
             ]
            ],
            "type": "heatmapgl"
           }
          ],
          "histogram": [
           {
            "marker": {
             "pattern": {
              "fillmode": "overlay",
              "size": 10,
              "solidity": 0.2
             }
            },
            "type": "histogram"
           }
          ],
          "histogram2d": [
           {
            "colorbar": {
             "outlinewidth": 0,
             "ticks": ""
            },
            "colorscale": [
             [
              0,
              "#0d0887"
             ],
             [
              0.1111111111111111,
              "#46039f"
             ],
             [
              0.2222222222222222,
              "#7201a8"
             ],
             [
              0.3333333333333333,
              "#9c179e"
             ],
             [
              0.4444444444444444,
              "#bd3786"
             ],
             [
              0.5555555555555556,
              "#d8576b"
             ],
             [
              0.6666666666666666,
              "#ed7953"
             ],
             [
              0.7777777777777778,
              "#fb9f3a"
             ],
             [
              0.8888888888888888,
              "#fdca26"
             ],
             [
              1,
              "#f0f921"
             ]
            ],
            "type": "histogram2d"
           }
          ],
          "histogram2dcontour": [
           {
            "colorbar": {
             "outlinewidth": 0,
             "ticks": ""
            },
            "colorscale": [
             [
              0,
              "#0d0887"
             ],
             [
              0.1111111111111111,
              "#46039f"
             ],
             [
              0.2222222222222222,
              "#7201a8"
             ],
             [
              0.3333333333333333,
              "#9c179e"
             ],
             [
              0.4444444444444444,
              "#bd3786"
             ],
             [
              0.5555555555555556,
              "#d8576b"
             ],
             [
              0.6666666666666666,
              "#ed7953"
             ],
             [
              0.7777777777777778,
              "#fb9f3a"
             ],
             [
              0.8888888888888888,
              "#fdca26"
             ],
             [
              1,
              "#f0f921"
             ]
            ],
            "type": "histogram2dcontour"
           }
          ],
          "mesh3d": [
           {
            "colorbar": {
             "outlinewidth": 0,
             "ticks": ""
            },
            "type": "mesh3d"
           }
          ],
          "parcoords": [
           {
            "line": {
             "colorbar": {
              "outlinewidth": 0,
              "ticks": ""
             }
            },
            "type": "parcoords"
           }
          ],
          "pie": [
           {
            "automargin": true,
            "type": "pie"
           }
          ],
          "scatter": [
           {
            "fillpattern": {
             "fillmode": "overlay",
             "size": 10,
             "solidity": 0.2
            },
            "type": "scatter"
           }
          ],
          "scatter3d": [
           {
            "line": {
             "colorbar": {
              "outlinewidth": 0,
              "ticks": ""
             }
            },
            "marker": {
             "colorbar": {
              "outlinewidth": 0,
              "ticks": ""
             }
            },
            "type": "scatter3d"
           }
          ],
          "scattercarpet": [
           {
            "marker": {
             "colorbar": {
              "outlinewidth": 0,
              "ticks": ""
             }
            },
            "type": "scattercarpet"
           }
          ],
          "scattergeo": [
           {
            "marker": {
             "colorbar": {
              "outlinewidth": 0,
              "ticks": ""
             }
            },
            "type": "scattergeo"
           }
          ],
          "scattergl": [
           {
            "marker": {
             "colorbar": {
              "outlinewidth": 0,
              "ticks": ""
             }
            },
            "type": "scattergl"
           }
          ],
          "scattermapbox": [
           {
            "marker": {
             "colorbar": {
              "outlinewidth": 0,
              "ticks": ""
             }
            },
            "type": "scattermapbox"
           }
          ],
          "scatterpolar": [
           {
            "marker": {
             "colorbar": {
              "outlinewidth": 0,
              "ticks": ""
             }
            },
            "type": "scatterpolar"
           }
          ],
          "scatterpolargl": [
           {
            "marker": {
             "colorbar": {
              "outlinewidth": 0,
              "ticks": ""
             }
            },
            "type": "scatterpolargl"
           }
          ],
          "scatterternary": [
           {
            "marker": {
             "colorbar": {
              "outlinewidth": 0,
              "ticks": ""
             }
            },
            "type": "scatterternary"
           }
          ],
          "surface": [
           {
            "colorbar": {
             "outlinewidth": 0,
             "ticks": ""
            },
            "colorscale": [
             [
              0,
              "#0d0887"
             ],
             [
              0.1111111111111111,
              "#46039f"
             ],
             [
              0.2222222222222222,
              "#7201a8"
             ],
             [
              0.3333333333333333,
              "#9c179e"
             ],
             [
              0.4444444444444444,
              "#bd3786"
             ],
             [
              0.5555555555555556,
              "#d8576b"
             ],
             [
              0.6666666666666666,
              "#ed7953"
             ],
             [
              0.7777777777777778,
              "#fb9f3a"
             ],
             [
              0.8888888888888888,
              "#fdca26"
             ],
             [
              1,
              "#f0f921"
             ]
            ],
            "type": "surface"
           }
          ],
          "table": [
           {
            "cells": {
             "fill": {
              "color": "#EBF0F8"
             },
             "line": {
              "color": "white"
             }
            },
            "header": {
             "fill": {
              "color": "#C8D4E3"
             },
             "line": {
              "color": "white"
             }
            },
            "type": "table"
           }
          ]
         },
         "layout": {
          "annotationdefaults": {
           "arrowcolor": "#2a3f5f",
           "arrowhead": 0,
           "arrowwidth": 1
          },
          "autotypenumbers": "strict",
          "coloraxis": {
           "colorbar": {
            "outlinewidth": 0,
            "ticks": ""
           }
          },
          "colorscale": {
           "diverging": [
            [
             0,
             "#8e0152"
            ],
            [
             0.1,
             "#c51b7d"
            ],
            [
             0.2,
             "#de77ae"
            ],
            [
             0.3,
             "#f1b6da"
            ],
            [
             0.4,
             "#fde0ef"
            ],
            [
             0.5,
             "#f7f7f7"
            ],
            [
             0.6,
             "#e6f5d0"
            ],
            [
             0.7,
             "#b8e186"
            ],
            [
             0.8,
             "#7fbc41"
            ],
            [
             0.9,
             "#4d9221"
            ],
            [
             1,
             "#276419"
            ]
           ],
           "sequential": [
            [
             0,
             "#0d0887"
            ],
            [
             0.1111111111111111,
             "#46039f"
            ],
            [
             0.2222222222222222,
             "#7201a8"
            ],
            [
             0.3333333333333333,
             "#9c179e"
            ],
            [
             0.4444444444444444,
             "#bd3786"
            ],
            [
             0.5555555555555556,
             "#d8576b"
            ],
            [
             0.6666666666666666,
             "#ed7953"
            ],
            [
             0.7777777777777778,
             "#fb9f3a"
            ],
            [
             0.8888888888888888,
             "#fdca26"
            ],
            [
             1,
             "#f0f921"
            ]
           ],
           "sequentialminus": [
            [
             0,
             "#0d0887"
            ],
            [
             0.1111111111111111,
             "#46039f"
            ],
            [
             0.2222222222222222,
             "#7201a8"
            ],
            [
             0.3333333333333333,
             "#9c179e"
            ],
            [
             0.4444444444444444,
             "#bd3786"
            ],
            [
             0.5555555555555556,
             "#d8576b"
            ],
            [
             0.6666666666666666,
             "#ed7953"
            ],
            [
             0.7777777777777778,
             "#fb9f3a"
            ],
            [
             0.8888888888888888,
             "#fdca26"
            ],
            [
             1,
             "#f0f921"
            ]
           ]
          },
          "colorway": [
           "#636efa",
           "#EF553B",
           "#00cc96",
           "#ab63fa",
           "#FFA15A",
           "#19d3f3",
           "#FF6692",
           "#B6E880",
           "#FF97FF",
           "#FECB52"
          ],
          "font": {
           "color": "#2a3f5f"
          },
          "geo": {
           "bgcolor": "white",
           "lakecolor": "white",
           "landcolor": "#E5ECF6",
           "showlakes": true,
           "showland": true,
           "subunitcolor": "white"
          },
          "hoverlabel": {
           "align": "left"
          },
          "hovermode": "closest",
          "mapbox": {
           "style": "light"
          },
          "paper_bgcolor": "white",
          "plot_bgcolor": "#E5ECF6",
          "polar": {
           "angularaxis": {
            "gridcolor": "white",
            "linecolor": "white",
            "ticks": ""
           },
           "bgcolor": "#E5ECF6",
           "radialaxis": {
            "gridcolor": "white",
            "linecolor": "white",
            "ticks": ""
           }
          },
          "scene": {
           "xaxis": {
            "backgroundcolor": "#E5ECF6",
            "gridcolor": "white",
            "gridwidth": 2,
            "linecolor": "white",
            "showbackground": true,
            "ticks": "",
            "zerolinecolor": "white"
           },
           "yaxis": {
            "backgroundcolor": "#E5ECF6",
            "gridcolor": "white",
            "gridwidth": 2,
            "linecolor": "white",
            "showbackground": true,
            "ticks": "",
            "zerolinecolor": "white"
           },
           "zaxis": {
            "backgroundcolor": "#E5ECF6",
            "gridcolor": "white",
            "gridwidth": 2,
            "linecolor": "white",
            "showbackground": true,
            "ticks": "",
            "zerolinecolor": "white"
           }
          },
          "shapedefaults": {
           "line": {
            "color": "#2a3f5f"
           }
          },
          "ternary": {
           "aaxis": {
            "gridcolor": "white",
            "linecolor": "white",
            "ticks": ""
           },
           "baxis": {
            "gridcolor": "white",
            "linecolor": "white",
            "ticks": ""
           },
           "bgcolor": "#E5ECF6",
           "caxis": {
            "gridcolor": "white",
            "linecolor": "white",
            "ticks": ""
           }
          },
          "title": {
           "x": 0.05
          },
          "xaxis": {
           "automargin": true,
           "gridcolor": "white",
           "linecolor": "white",
           "ticks": "",
           "title": {
            "standoff": 15
           },
           "zerolinecolor": "white",
           "zerolinewidth": 2
          },
          "yaxis": {
           "automargin": true,
           "gridcolor": "white",
           "linecolor": "white",
           "ticks": "",
           "title": {
            "standoff": 15
           },
           "zerolinecolor": "white",
           "zerolinewidth": 2
          }
         }
        }
       }
      }
     },
     "metadata": {},
     "output_type": "display_data"
    }
   ],
   "source": [
    "px.sunburst(df, path=['sex', 'status'], values='income')"
   ]
  },
  {
   "cell_type": "markdown",
   "metadata": {},
   "source": [
    "## 7. Using plotly.graph_objects, construct a heat map showing the average number of flights per year for country and gender of respondent.\n",
    "7.1. change the colour palette of the map"
   ]
  },
  {
   "cell_type": "code",
   "execution_count": 7,
   "metadata": {},
   "outputs": [
    {
     "data": {
      "application/vnd.plotly.v1+json": {
       "config": {
        "plotlyServerURL": "https://plot.ly"
       },
       "data": [
        {
         "colorbar": {
          "title": {
           "text": "Average number of flights"
          }
         },
         "colorscale": [
          [
           0,
           "#440154"
          ],
          [
           0.1111111111111111,
           "#482878"
          ],
          [
           0.2222222222222222,
           "#3e4989"
          ],
          [
           0.3333333333333333,
           "#31688e"
          ],
          [
           0.4444444444444444,
           "#26828e"
          ],
          [
           0.5555555555555556,
           "#1f9e89"
          ],
          [
           0.6666666666666666,
           "#35b779"
          ],
          [
           0.7777777777777778,
           "#6ece58"
          ],
          [
           0.8888888888888888,
           "#b5de2b"
          ],
          [
           1,
           "#fde725"
          ]
         ],
         "type": "heatmap",
         "x": [
          "female",
          "male"
         ],
         "y": [
          "AU",
          "EU",
          "GB",
          "USA"
         ],
         "z": [
          [
           1.98,
           2.28125
          ],
          [
           2.5046728971962615,
           1.7738095238095237
          ],
          [
           2.0384615384615383,
           1.9024390243902438
          ],
          [
           2.3412322274881516,
           1.76
          ]
         ]
        }
       ],
       "layout": {
        "template": {
         "data": {
          "bar": [
           {
            "error_x": {
             "color": "#2a3f5f"
            },
            "error_y": {
             "color": "#2a3f5f"
            },
            "marker": {
             "line": {
              "color": "#E5ECF6",
              "width": 0.5
             },
             "pattern": {
              "fillmode": "overlay",
              "size": 10,
              "solidity": 0.2
             }
            },
            "type": "bar"
           }
          ],
          "barpolar": [
           {
            "marker": {
             "line": {
              "color": "#E5ECF6",
              "width": 0.5
             },
             "pattern": {
              "fillmode": "overlay",
              "size": 10,
              "solidity": 0.2
             }
            },
            "type": "barpolar"
           }
          ],
          "carpet": [
           {
            "aaxis": {
             "endlinecolor": "#2a3f5f",
             "gridcolor": "white",
             "linecolor": "white",
             "minorgridcolor": "white",
             "startlinecolor": "#2a3f5f"
            },
            "baxis": {
             "endlinecolor": "#2a3f5f",
             "gridcolor": "white",
             "linecolor": "white",
             "minorgridcolor": "white",
             "startlinecolor": "#2a3f5f"
            },
            "type": "carpet"
           }
          ],
          "choropleth": [
           {
            "colorbar": {
             "outlinewidth": 0,
             "ticks": ""
            },
            "type": "choropleth"
           }
          ],
          "contour": [
           {
            "colorbar": {
             "outlinewidth": 0,
             "ticks": ""
            },
            "colorscale": [
             [
              0,
              "#0d0887"
             ],
             [
              0.1111111111111111,
              "#46039f"
             ],
             [
              0.2222222222222222,
              "#7201a8"
             ],
             [
              0.3333333333333333,
              "#9c179e"
             ],
             [
              0.4444444444444444,
              "#bd3786"
             ],
             [
              0.5555555555555556,
              "#d8576b"
             ],
             [
              0.6666666666666666,
              "#ed7953"
             ],
             [
              0.7777777777777778,
              "#fb9f3a"
             ],
             [
              0.8888888888888888,
              "#fdca26"
             ],
             [
              1,
              "#f0f921"
             ]
            ],
            "type": "contour"
           }
          ],
          "contourcarpet": [
           {
            "colorbar": {
             "outlinewidth": 0,
             "ticks": ""
            },
            "type": "contourcarpet"
           }
          ],
          "heatmap": [
           {
            "colorbar": {
             "outlinewidth": 0,
             "ticks": ""
            },
            "colorscale": [
             [
              0,
              "#0d0887"
             ],
             [
              0.1111111111111111,
              "#46039f"
             ],
             [
              0.2222222222222222,
              "#7201a8"
             ],
             [
              0.3333333333333333,
              "#9c179e"
             ],
             [
              0.4444444444444444,
              "#bd3786"
             ],
             [
              0.5555555555555556,
              "#d8576b"
             ],
             [
              0.6666666666666666,
              "#ed7953"
             ],
             [
              0.7777777777777778,
              "#fb9f3a"
             ],
             [
              0.8888888888888888,
              "#fdca26"
             ],
             [
              1,
              "#f0f921"
             ]
            ],
            "type": "heatmap"
           }
          ],
          "heatmapgl": [
           {
            "colorbar": {
             "outlinewidth": 0,
             "ticks": ""
            },
            "colorscale": [
             [
              0,
              "#0d0887"
             ],
             [
              0.1111111111111111,
              "#46039f"
             ],
             [
              0.2222222222222222,
              "#7201a8"
             ],
             [
              0.3333333333333333,
              "#9c179e"
             ],
             [
              0.4444444444444444,
              "#bd3786"
             ],
             [
              0.5555555555555556,
              "#d8576b"
             ],
             [
              0.6666666666666666,
              "#ed7953"
             ],
             [
              0.7777777777777778,
              "#fb9f3a"
             ],
             [
              0.8888888888888888,
              "#fdca26"
             ],
             [
              1,
              "#f0f921"
             ]
            ],
            "type": "heatmapgl"
           }
          ],
          "histogram": [
           {
            "marker": {
             "pattern": {
              "fillmode": "overlay",
              "size": 10,
              "solidity": 0.2
             }
            },
            "type": "histogram"
           }
          ],
          "histogram2d": [
           {
            "colorbar": {
             "outlinewidth": 0,
             "ticks": ""
            },
            "colorscale": [
             [
              0,
              "#0d0887"
             ],
             [
              0.1111111111111111,
              "#46039f"
             ],
             [
              0.2222222222222222,
              "#7201a8"
             ],
             [
              0.3333333333333333,
              "#9c179e"
             ],
             [
              0.4444444444444444,
              "#bd3786"
             ],
             [
              0.5555555555555556,
              "#d8576b"
             ],
             [
              0.6666666666666666,
              "#ed7953"
             ],
             [
              0.7777777777777778,
              "#fb9f3a"
             ],
             [
              0.8888888888888888,
              "#fdca26"
             ],
             [
              1,
              "#f0f921"
             ]
            ],
            "type": "histogram2d"
           }
          ],
          "histogram2dcontour": [
           {
            "colorbar": {
             "outlinewidth": 0,
             "ticks": ""
            },
            "colorscale": [
             [
              0,
              "#0d0887"
             ],
             [
              0.1111111111111111,
              "#46039f"
             ],
             [
              0.2222222222222222,
              "#7201a8"
             ],
             [
              0.3333333333333333,
              "#9c179e"
             ],
             [
              0.4444444444444444,
              "#bd3786"
             ],
             [
              0.5555555555555556,
              "#d8576b"
             ],
             [
              0.6666666666666666,
              "#ed7953"
             ],
             [
              0.7777777777777778,
              "#fb9f3a"
             ],
             [
              0.8888888888888888,
              "#fdca26"
             ],
             [
              1,
              "#f0f921"
             ]
            ],
            "type": "histogram2dcontour"
           }
          ],
          "mesh3d": [
           {
            "colorbar": {
             "outlinewidth": 0,
             "ticks": ""
            },
            "type": "mesh3d"
           }
          ],
          "parcoords": [
           {
            "line": {
             "colorbar": {
              "outlinewidth": 0,
              "ticks": ""
             }
            },
            "type": "parcoords"
           }
          ],
          "pie": [
           {
            "automargin": true,
            "type": "pie"
           }
          ],
          "scatter": [
           {
            "fillpattern": {
             "fillmode": "overlay",
             "size": 10,
             "solidity": 0.2
            },
            "type": "scatter"
           }
          ],
          "scatter3d": [
           {
            "line": {
             "colorbar": {
              "outlinewidth": 0,
              "ticks": ""
             }
            },
            "marker": {
             "colorbar": {
              "outlinewidth": 0,
              "ticks": ""
             }
            },
            "type": "scatter3d"
           }
          ],
          "scattercarpet": [
           {
            "marker": {
             "colorbar": {
              "outlinewidth": 0,
              "ticks": ""
             }
            },
            "type": "scattercarpet"
           }
          ],
          "scattergeo": [
           {
            "marker": {
             "colorbar": {
              "outlinewidth": 0,
              "ticks": ""
             }
            },
            "type": "scattergeo"
           }
          ],
          "scattergl": [
           {
            "marker": {
             "colorbar": {
              "outlinewidth": 0,
              "ticks": ""
             }
            },
            "type": "scattergl"
           }
          ],
          "scattermapbox": [
           {
            "marker": {
             "colorbar": {
              "outlinewidth": 0,
              "ticks": ""
             }
            },
            "type": "scattermapbox"
           }
          ],
          "scatterpolar": [
           {
            "marker": {
             "colorbar": {
              "outlinewidth": 0,
              "ticks": ""
             }
            },
            "type": "scatterpolar"
           }
          ],
          "scatterpolargl": [
           {
            "marker": {
             "colorbar": {
              "outlinewidth": 0,
              "ticks": ""
             }
            },
            "type": "scatterpolargl"
           }
          ],
          "scatterternary": [
           {
            "marker": {
             "colorbar": {
              "outlinewidth": 0,
              "ticks": ""
             }
            },
            "type": "scatterternary"
           }
          ],
          "surface": [
           {
            "colorbar": {
             "outlinewidth": 0,
             "ticks": ""
            },
            "colorscale": [
             [
              0,
              "#0d0887"
             ],
             [
              0.1111111111111111,
              "#46039f"
             ],
             [
              0.2222222222222222,
              "#7201a8"
             ],
             [
              0.3333333333333333,
              "#9c179e"
             ],
             [
              0.4444444444444444,
              "#bd3786"
             ],
             [
              0.5555555555555556,
              "#d8576b"
             ],
             [
              0.6666666666666666,
              "#ed7953"
             ],
             [
              0.7777777777777778,
              "#fb9f3a"
             ],
             [
              0.8888888888888888,
              "#fdca26"
             ],
             [
              1,
              "#f0f921"
             ]
            ],
            "type": "surface"
           }
          ],
          "table": [
           {
            "cells": {
             "fill": {
              "color": "#EBF0F8"
             },
             "line": {
              "color": "white"
             }
            },
            "header": {
             "fill": {
              "color": "#C8D4E3"
             },
             "line": {
              "color": "white"
             }
            },
            "type": "table"
           }
          ]
         },
         "layout": {
          "annotationdefaults": {
           "arrowcolor": "#2a3f5f",
           "arrowhead": 0,
           "arrowwidth": 1
          },
          "autotypenumbers": "strict",
          "coloraxis": {
           "colorbar": {
            "outlinewidth": 0,
            "ticks": ""
           }
          },
          "colorscale": {
           "diverging": [
            [
             0,
             "#8e0152"
            ],
            [
             0.1,
             "#c51b7d"
            ],
            [
             0.2,
             "#de77ae"
            ],
            [
             0.3,
             "#f1b6da"
            ],
            [
             0.4,
             "#fde0ef"
            ],
            [
             0.5,
             "#f7f7f7"
            ],
            [
             0.6,
             "#e6f5d0"
            ],
            [
             0.7,
             "#b8e186"
            ],
            [
             0.8,
             "#7fbc41"
            ],
            [
             0.9,
             "#4d9221"
            ],
            [
             1,
             "#276419"
            ]
           ],
           "sequential": [
            [
             0,
             "#0d0887"
            ],
            [
             0.1111111111111111,
             "#46039f"
            ],
            [
             0.2222222222222222,
             "#7201a8"
            ],
            [
             0.3333333333333333,
             "#9c179e"
            ],
            [
             0.4444444444444444,
             "#bd3786"
            ],
            [
             0.5555555555555556,
             "#d8576b"
            ],
            [
             0.6666666666666666,
             "#ed7953"
            ],
            [
             0.7777777777777778,
             "#fb9f3a"
            ],
            [
             0.8888888888888888,
             "#fdca26"
            ],
            [
             1,
             "#f0f921"
            ]
           ],
           "sequentialminus": [
            [
             0,
             "#0d0887"
            ],
            [
             0.1111111111111111,
             "#46039f"
            ],
            [
             0.2222222222222222,
             "#7201a8"
            ],
            [
             0.3333333333333333,
             "#9c179e"
            ],
            [
             0.4444444444444444,
             "#bd3786"
            ],
            [
             0.5555555555555556,
             "#d8576b"
            ],
            [
             0.6666666666666666,
             "#ed7953"
            ],
            [
             0.7777777777777778,
             "#fb9f3a"
            ],
            [
             0.8888888888888888,
             "#fdca26"
            ],
            [
             1,
             "#f0f921"
            ]
           ]
          },
          "colorway": [
           "#636efa",
           "#EF553B",
           "#00cc96",
           "#ab63fa",
           "#FFA15A",
           "#19d3f3",
           "#FF6692",
           "#B6E880",
           "#FF97FF",
           "#FECB52"
          ],
          "font": {
           "color": "#2a3f5f"
          },
          "geo": {
           "bgcolor": "white",
           "lakecolor": "white",
           "landcolor": "#E5ECF6",
           "showlakes": true,
           "showland": true,
           "subunitcolor": "white"
          },
          "hoverlabel": {
           "align": "left"
          },
          "hovermode": "closest",
          "mapbox": {
           "style": "light"
          },
          "paper_bgcolor": "white",
          "plot_bgcolor": "#E5ECF6",
          "polar": {
           "angularaxis": {
            "gridcolor": "white",
            "linecolor": "white",
            "ticks": ""
           },
           "bgcolor": "#E5ECF6",
           "radialaxis": {
            "gridcolor": "white",
            "linecolor": "white",
            "ticks": ""
           }
          },
          "scene": {
           "xaxis": {
            "backgroundcolor": "#E5ECF6",
            "gridcolor": "white",
            "gridwidth": 2,
            "linecolor": "white",
            "showbackground": true,
            "ticks": "",
            "zerolinecolor": "white"
           },
           "yaxis": {
            "backgroundcolor": "#E5ECF6",
            "gridcolor": "white",
            "gridwidth": 2,
            "linecolor": "white",
            "showbackground": true,
            "ticks": "",
            "zerolinecolor": "white"
           },
           "zaxis": {
            "backgroundcolor": "#E5ECF6",
            "gridcolor": "white",
            "gridwidth": 2,
            "linecolor": "white",
            "showbackground": true,
            "ticks": "",
            "zerolinecolor": "white"
           }
          },
          "shapedefaults": {
           "line": {
            "color": "#2a3f5f"
           }
          },
          "ternary": {
           "aaxis": {
            "gridcolor": "white",
            "linecolor": "white",
            "ticks": ""
           },
           "baxis": {
            "gridcolor": "white",
            "linecolor": "white",
            "ticks": ""
           },
           "bgcolor": "#E5ECF6",
           "caxis": {
            "gridcolor": "white",
            "linecolor": "white",
            "ticks": ""
           }
          },
          "title": {
           "x": 0.05
          },
          "xaxis": {
           "automargin": true,
           "gridcolor": "white",
           "linecolor": "white",
           "ticks": "",
           "title": {
            "standoff": 15
           },
           "zerolinecolor": "white",
           "zerolinewidth": 2
          },
          "yaxis": {
           "automargin": true,
           "gridcolor": "white",
           "linecolor": "white",
           "ticks": "",
           "title": {
            "standoff": 15
           },
           "zerolinecolor": "white",
           "zerolinewidth": 2
          }
         }
        }
       }
      }
     },
     "metadata": {},
     "output_type": "display_data"
    }
   ],
   "source": [
    "df7 = df.groupby(['geo', 'sex'])['flights'].mean().reset_index()\n",
    "df7 = df7.pivot('geo', 'sex', 'flights')\n",
    "fig = go.Figure(data=go.Heatmap(z = df7.values, x = df7.columns, y = df7.index, \n",
    "                                colorscale='Viridis', colorbar=dict(title='Average number of flights')))\n",
    "fig.show()"
   ]
  },
  {
   "cell_type": "markdown",
   "metadata": {},
   "source": [
    "## 8. Using plotly.graph_objects, construct a chart showing the change in the number of flights and income as a function of the respondent's age (linear graph with two axes)."
   ]
  },
  {
   "cell_type": "code",
   "execution_count": 8,
   "metadata": {},
   "outputs": [
    {
     "data": {
      "application/vnd.plotly.v1+json": {
       "config": {
        "plotlyServerURL": "https://plot.ly"
       },
       "data": [
        {
         "name": "Number of flights",
         "type": "scatter",
         "x": [
          14,
          20,
          21,
          24,
          25,
          26,
          27,
          28,
          29,
          30,
          31,
          32,
          33,
          34,
          35,
          36,
          37,
          38,
          39,
          40,
          41,
          42,
          43,
          44,
          45,
          46,
          47,
          48,
          49,
          50,
          51,
          52,
          53,
          54,
          55,
          56,
          57,
          58,
          59,
          60,
          61,
          62,
          63,
          64,
          65,
          66,
          67,
          70
         ],
         "xaxis": "x",
         "y": [
          0,
          1,
          0.5,
          0.5,
          0.6666666666666666,
          0.75,
          0.5,
          0.3333333333333333,
          0.2222222222222222,
          0.5714285714285714,
          0.5,
          0.46153846153846156,
          0.375,
          0.5,
          0.42857142857142855,
          0.34782608695652173,
          0.6086956521739131,
          0.48484848484848486,
          0.375,
          2.3513513513513513,
          2.1025641025641026,
          2.3461538461538463,
          2.466666666666667,
          2.64,
          3.6538461538461537,
          3.4,
          3.15,
          3.7777777777777777,
          3.4054054054054053,
          3.2222222222222223,
          3.4523809523809526,
          3.369565217391304,
          3.2758620689655173,
          3.6216216216216215,
          0.4642857142857143,
          0.5,
          0.5833333333333334,
          0.45454545454545453,
          0.5,
          0.5384615384615384,
          0.7142857142857143,
          0.3333333333333333,
          0.25,
          0.3333333333333333,
          1,
          0,
          1,
          0
         ],
         "yaxis": "y"
        },
        {
         "name": "Income",
         "type": "scatter",
         "x": [
          14,
          20,
          21,
          24,
          25,
          26,
          27,
          28,
          29,
          30,
          31,
          32,
          33,
          34,
          35,
          36,
          37,
          38,
          39,
          40,
          41,
          42,
          43,
          44,
          45,
          46,
          47,
          48,
          49,
          50,
          51,
          52,
          53,
          54,
          55,
          56,
          57,
          58,
          59,
          60,
          61,
          62,
          63,
          64,
          65,
          66,
          67,
          70
         ],
         "xaxis": "x",
         "y": [
          67282,
          41098,
          52217,
          38790,
          48987.333333333336,
          49415.25,
          48585.333333333336,
          51250.333333333336,
          54042,
          49210.21428571428,
          48799.4,
          49296.46153846154,
          48508.208333333336,
          50444.61111111111,
          53318.19047619047,
          49726.913043478264,
          49631.086956521736,
          49978.78787878788,
          51134.583333333336,
          71325.32432432432,
          68423.28205128205,
          69254.59615384616,
          71498.28888888888,
          69847.78,
          92501.11538461539,
          89711.64444444445,
          89934.85,
          93060.25925925926,
          87800.13513513513,
          93199.4,
          90274.5,
          90533.84782608696,
          95519.31034482758,
          89925.45945945945,
          88554.28571428571,
          91377.9,
          87061.5,
          93559.81818181818,
          89451.125,
          95604,
          99694,
          96265.33333333333,
          96349.25,
          89324.33333333333,
          94864,
          30679,
          30950,
          30469
         ],
         "yaxis": "y2"
        }
       ],
       "layout": {
        "height": 400,
        "template": {
         "data": {
          "bar": [
           {
            "error_x": {
             "color": "#2a3f5f"
            },
            "error_y": {
             "color": "#2a3f5f"
            },
            "marker": {
             "line": {
              "color": "#E5ECF6",
              "width": 0.5
             },
             "pattern": {
              "fillmode": "overlay",
              "size": 10,
              "solidity": 0.2
             }
            },
            "type": "bar"
           }
          ],
          "barpolar": [
           {
            "marker": {
             "line": {
              "color": "#E5ECF6",
              "width": 0.5
             },
             "pattern": {
              "fillmode": "overlay",
              "size": 10,
              "solidity": 0.2
             }
            },
            "type": "barpolar"
           }
          ],
          "carpet": [
           {
            "aaxis": {
             "endlinecolor": "#2a3f5f",
             "gridcolor": "white",
             "linecolor": "white",
             "minorgridcolor": "white",
             "startlinecolor": "#2a3f5f"
            },
            "baxis": {
             "endlinecolor": "#2a3f5f",
             "gridcolor": "white",
             "linecolor": "white",
             "minorgridcolor": "white",
             "startlinecolor": "#2a3f5f"
            },
            "type": "carpet"
           }
          ],
          "choropleth": [
           {
            "colorbar": {
             "outlinewidth": 0,
             "ticks": ""
            },
            "type": "choropleth"
           }
          ],
          "contour": [
           {
            "colorbar": {
             "outlinewidth": 0,
             "ticks": ""
            },
            "colorscale": [
             [
              0,
              "#0d0887"
             ],
             [
              0.1111111111111111,
              "#46039f"
             ],
             [
              0.2222222222222222,
              "#7201a8"
             ],
             [
              0.3333333333333333,
              "#9c179e"
             ],
             [
              0.4444444444444444,
              "#bd3786"
             ],
             [
              0.5555555555555556,
              "#d8576b"
             ],
             [
              0.6666666666666666,
              "#ed7953"
             ],
             [
              0.7777777777777778,
              "#fb9f3a"
             ],
             [
              0.8888888888888888,
              "#fdca26"
             ],
             [
              1,
              "#f0f921"
             ]
            ],
            "type": "contour"
           }
          ],
          "contourcarpet": [
           {
            "colorbar": {
             "outlinewidth": 0,
             "ticks": ""
            },
            "type": "contourcarpet"
           }
          ],
          "heatmap": [
           {
            "colorbar": {
             "outlinewidth": 0,
             "ticks": ""
            },
            "colorscale": [
             [
              0,
              "#0d0887"
             ],
             [
              0.1111111111111111,
              "#46039f"
             ],
             [
              0.2222222222222222,
              "#7201a8"
             ],
             [
              0.3333333333333333,
              "#9c179e"
             ],
             [
              0.4444444444444444,
              "#bd3786"
             ],
             [
              0.5555555555555556,
              "#d8576b"
             ],
             [
              0.6666666666666666,
              "#ed7953"
             ],
             [
              0.7777777777777778,
              "#fb9f3a"
             ],
             [
              0.8888888888888888,
              "#fdca26"
             ],
             [
              1,
              "#f0f921"
             ]
            ],
            "type": "heatmap"
           }
          ],
          "heatmapgl": [
           {
            "colorbar": {
             "outlinewidth": 0,
             "ticks": ""
            },
            "colorscale": [
             [
              0,
              "#0d0887"
             ],
             [
              0.1111111111111111,
              "#46039f"
             ],
             [
              0.2222222222222222,
              "#7201a8"
             ],
             [
              0.3333333333333333,
              "#9c179e"
             ],
             [
              0.4444444444444444,
              "#bd3786"
             ],
             [
              0.5555555555555556,
              "#d8576b"
             ],
             [
              0.6666666666666666,
              "#ed7953"
             ],
             [
              0.7777777777777778,
              "#fb9f3a"
             ],
             [
              0.8888888888888888,
              "#fdca26"
             ],
             [
              1,
              "#f0f921"
             ]
            ],
            "type": "heatmapgl"
           }
          ],
          "histogram": [
           {
            "marker": {
             "pattern": {
              "fillmode": "overlay",
              "size": 10,
              "solidity": 0.2
             }
            },
            "type": "histogram"
           }
          ],
          "histogram2d": [
           {
            "colorbar": {
             "outlinewidth": 0,
             "ticks": ""
            },
            "colorscale": [
             [
              0,
              "#0d0887"
             ],
             [
              0.1111111111111111,
              "#46039f"
             ],
             [
              0.2222222222222222,
              "#7201a8"
             ],
             [
              0.3333333333333333,
              "#9c179e"
             ],
             [
              0.4444444444444444,
              "#bd3786"
             ],
             [
              0.5555555555555556,
              "#d8576b"
             ],
             [
              0.6666666666666666,
              "#ed7953"
             ],
             [
              0.7777777777777778,
              "#fb9f3a"
             ],
             [
              0.8888888888888888,
              "#fdca26"
             ],
             [
              1,
              "#f0f921"
             ]
            ],
            "type": "histogram2d"
           }
          ],
          "histogram2dcontour": [
           {
            "colorbar": {
             "outlinewidth": 0,
             "ticks": ""
            },
            "colorscale": [
             [
              0,
              "#0d0887"
             ],
             [
              0.1111111111111111,
              "#46039f"
             ],
             [
              0.2222222222222222,
              "#7201a8"
             ],
             [
              0.3333333333333333,
              "#9c179e"
             ],
             [
              0.4444444444444444,
              "#bd3786"
             ],
             [
              0.5555555555555556,
              "#d8576b"
             ],
             [
              0.6666666666666666,
              "#ed7953"
             ],
             [
              0.7777777777777778,
              "#fb9f3a"
             ],
             [
              0.8888888888888888,
              "#fdca26"
             ],
             [
              1,
              "#f0f921"
             ]
            ],
            "type": "histogram2dcontour"
           }
          ],
          "mesh3d": [
           {
            "colorbar": {
             "outlinewidth": 0,
             "ticks": ""
            },
            "type": "mesh3d"
           }
          ],
          "parcoords": [
           {
            "line": {
             "colorbar": {
              "outlinewidth": 0,
              "ticks": ""
             }
            },
            "type": "parcoords"
           }
          ],
          "pie": [
           {
            "automargin": true,
            "type": "pie"
           }
          ],
          "scatter": [
           {
            "fillpattern": {
             "fillmode": "overlay",
             "size": 10,
             "solidity": 0.2
            },
            "type": "scatter"
           }
          ],
          "scatter3d": [
           {
            "line": {
             "colorbar": {
              "outlinewidth": 0,
              "ticks": ""
             }
            },
            "marker": {
             "colorbar": {
              "outlinewidth": 0,
              "ticks": ""
             }
            },
            "type": "scatter3d"
           }
          ],
          "scattercarpet": [
           {
            "marker": {
             "colorbar": {
              "outlinewidth": 0,
              "ticks": ""
             }
            },
            "type": "scattercarpet"
           }
          ],
          "scattergeo": [
           {
            "marker": {
             "colorbar": {
              "outlinewidth": 0,
              "ticks": ""
             }
            },
            "type": "scattergeo"
           }
          ],
          "scattergl": [
           {
            "marker": {
             "colorbar": {
              "outlinewidth": 0,
              "ticks": ""
             }
            },
            "type": "scattergl"
           }
          ],
          "scattermapbox": [
           {
            "marker": {
             "colorbar": {
              "outlinewidth": 0,
              "ticks": ""
             }
            },
            "type": "scattermapbox"
           }
          ],
          "scatterpolar": [
           {
            "marker": {
             "colorbar": {
              "outlinewidth": 0,
              "ticks": ""
             }
            },
            "type": "scatterpolar"
           }
          ],
          "scatterpolargl": [
           {
            "marker": {
             "colorbar": {
              "outlinewidth": 0,
              "ticks": ""
             }
            },
            "type": "scatterpolargl"
           }
          ],
          "scatterternary": [
           {
            "marker": {
             "colorbar": {
              "outlinewidth": 0,
              "ticks": ""
             }
            },
            "type": "scatterternary"
           }
          ],
          "surface": [
           {
            "colorbar": {
             "outlinewidth": 0,
             "ticks": ""
            },
            "colorscale": [
             [
              0,
              "#0d0887"
             ],
             [
              0.1111111111111111,
              "#46039f"
             ],
             [
              0.2222222222222222,
              "#7201a8"
             ],
             [
              0.3333333333333333,
              "#9c179e"
             ],
             [
              0.4444444444444444,
              "#bd3786"
             ],
             [
              0.5555555555555556,
              "#d8576b"
             ],
             [
              0.6666666666666666,
              "#ed7953"
             ],
             [
              0.7777777777777778,
              "#fb9f3a"
             ],
             [
              0.8888888888888888,
              "#fdca26"
             ],
             [
              1,
              "#f0f921"
             ]
            ],
            "type": "surface"
           }
          ],
          "table": [
           {
            "cells": {
             "fill": {
              "color": "#EBF0F8"
             },
             "line": {
              "color": "white"
             }
            },
            "header": {
             "fill": {
              "color": "#C8D4E3"
             },
             "line": {
              "color": "white"
             }
            },
            "type": "table"
           }
          ]
         },
         "layout": {
          "annotationdefaults": {
           "arrowcolor": "#2a3f5f",
           "arrowhead": 0,
           "arrowwidth": 1
          },
          "autotypenumbers": "strict",
          "coloraxis": {
           "colorbar": {
            "outlinewidth": 0,
            "ticks": ""
           }
          },
          "colorscale": {
           "diverging": [
            [
             0,
             "#8e0152"
            ],
            [
             0.1,
             "#c51b7d"
            ],
            [
             0.2,
             "#de77ae"
            ],
            [
             0.3,
             "#f1b6da"
            ],
            [
             0.4,
             "#fde0ef"
            ],
            [
             0.5,
             "#f7f7f7"
            ],
            [
             0.6,
             "#e6f5d0"
            ],
            [
             0.7,
             "#b8e186"
            ],
            [
             0.8,
             "#7fbc41"
            ],
            [
             0.9,
             "#4d9221"
            ],
            [
             1,
             "#276419"
            ]
           ],
           "sequential": [
            [
             0,
             "#0d0887"
            ],
            [
             0.1111111111111111,
             "#46039f"
            ],
            [
             0.2222222222222222,
             "#7201a8"
            ],
            [
             0.3333333333333333,
             "#9c179e"
            ],
            [
             0.4444444444444444,
             "#bd3786"
            ],
            [
             0.5555555555555556,
             "#d8576b"
            ],
            [
             0.6666666666666666,
             "#ed7953"
            ],
            [
             0.7777777777777778,
             "#fb9f3a"
            ],
            [
             0.8888888888888888,
             "#fdca26"
            ],
            [
             1,
             "#f0f921"
            ]
           ],
           "sequentialminus": [
            [
             0,
             "#0d0887"
            ],
            [
             0.1111111111111111,
             "#46039f"
            ],
            [
             0.2222222222222222,
             "#7201a8"
            ],
            [
             0.3333333333333333,
             "#9c179e"
            ],
            [
             0.4444444444444444,
             "#bd3786"
            ],
            [
             0.5555555555555556,
             "#d8576b"
            ],
            [
             0.6666666666666666,
             "#ed7953"
            ],
            [
             0.7777777777777778,
             "#fb9f3a"
            ],
            [
             0.8888888888888888,
             "#fdca26"
            ],
            [
             1,
             "#f0f921"
            ]
           ]
          },
          "colorway": [
           "#636efa",
           "#EF553B",
           "#00cc96",
           "#ab63fa",
           "#FFA15A",
           "#19d3f3",
           "#FF6692",
           "#B6E880",
           "#FF97FF",
           "#FECB52"
          ],
          "font": {
           "color": "#2a3f5f"
          },
          "geo": {
           "bgcolor": "white",
           "lakecolor": "white",
           "landcolor": "#E5ECF6",
           "showlakes": true,
           "showland": true,
           "subunitcolor": "white"
          },
          "hoverlabel": {
           "align": "left"
          },
          "hovermode": "closest",
          "mapbox": {
           "style": "light"
          },
          "paper_bgcolor": "white",
          "plot_bgcolor": "#E5ECF6",
          "polar": {
           "angularaxis": {
            "gridcolor": "white",
            "linecolor": "white",
            "ticks": ""
           },
           "bgcolor": "#E5ECF6",
           "radialaxis": {
            "gridcolor": "white",
            "linecolor": "white",
            "ticks": ""
           }
          },
          "scene": {
           "xaxis": {
            "backgroundcolor": "#E5ECF6",
            "gridcolor": "white",
            "gridwidth": 2,
            "linecolor": "white",
            "showbackground": true,
            "ticks": "",
            "zerolinecolor": "white"
           },
           "yaxis": {
            "backgroundcolor": "#E5ECF6",
            "gridcolor": "white",
            "gridwidth": 2,
            "linecolor": "white",
            "showbackground": true,
            "ticks": "",
            "zerolinecolor": "white"
           },
           "zaxis": {
            "backgroundcolor": "#E5ECF6",
            "gridcolor": "white",
            "gridwidth": 2,
            "linecolor": "white",
            "showbackground": true,
            "ticks": "",
            "zerolinecolor": "white"
           }
          },
          "shapedefaults": {
           "line": {
            "color": "#2a3f5f"
           }
          },
          "ternary": {
           "aaxis": {
            "gridcolor": "white",
            "linecolor": "white",
            "ticks": ""
           },
           "baxis": {
            "gridcolor": "white",
            "linecolor": "white",
            "ticks": ""
           },
           "bgcolor": "#E5ECF6",
           "caxis": {
            "gridcolor": "white",
            "linecolor": "white",
            "ticks": ""
           }
          },
          "title": {
           "x": 0.05
          },
          "xaxis": {
           "automargin": true,
           "gridcolor": "white",
           "linecolor": "white",
           "ticks": "",
           "title": {
            "standoff": 15
           },
           "zerolinecolor": "white",
           "zerolinewidth": 2
          },
          "yaxis": {
           "automargin": true,
           "gridcolor": "white",
           "linecolor": "white",
           "ticks": "",
           "title": {
            "standoff": 15
           },
           "zerolinecolor": "white",
           "zerolinewidth": 2
          }
         }
        },
        "title": {
         "text": "Number of flights and income as a function of age",
         "x": 0.5
        },
        "width": 700,
        "xaxis": {
         "anchor": "y",
         "domain": [
          0,
          0.94
         ]
        },
        "yaxis": {
         "anchor": "x",
         "domain": [
          0,
          1
         ],
         "title": {
          "text": "Flights"
         }
        },
        "yaxis2": {
         "anchor": "x",
         "overlaying": "y",
         "side": "right",
         "title": {
          "text": "Income"
         }
        }
       }
      }
     },
     "metadata": {},
     "output_type": "display_data"
    }
   ],
   "source": [
    "df9 = df.groupby('age')[['income', 'flights']].mean().reset_index()\n",
    "fig = sp.make_subplots(specs=[[{\"secondary_y\": True}]])\n",
    "fig.add_trace(go.Scatter(x=df9['age'], y=df9['flights'], name='Number of flights'), secondary_y=False)\n",
    "fig.add_trace(go.Scatter(x=df9['age'], y=df9['income'], name='Income'), secondary_y=True)\n",
    "fig.update_yaxes(title_text=\"Flights\", secondary_y=False)\n",
    "fig.update_yaxes(title_text=\"Income\", secondary_y=True)\n",
    "fig.update_layout(title_text='Number of flights and income as a function of age',\n",
    "                  width=700, height=400, title_x=0.5)\n",
    "fig.show()"
   ]
  },
  {
   "cell_type": "markdown",
   "metadata": {},
   "source": [
    "## 9. Construct a grid of size 2 rows x 2 columns, and inscribe three graphs into it (the first graph takes up the entire first column, the other two graphs take up two rows in the second column). The first graph is the kernel of income density, the second graph is the number of people of different sexes in the pie chart, the third graph is the dependence of the number of flights on age (scatter plot)"
   ]
  },
  {
   "cell_type": "code",
   "execution_count": 9,
   "metadata": {},
   "outputs": [
    {
     "data": {
      "application/vnd.plotly.v1+json": {
       "config": {
        "plotlyServerURL": "https://plot.ly"
       },
       "data": [
        {
         "autobinx": false,
         "histnorm": "probability density",
         "legendgroup": "income",
         "marker": {
          "color": "rgb(31, 119, 180)"
         },
         "name": "income",
         "opacity": 0.7,
         "showlegend": false,
         "type": "histogram",
         "x": [
          66888,
          42718,
          57517,
          83789,
          75878,
          51524,
          31977,
          84700,
          43887,
          74680,
          112495,
          71707,
          46795,
          51061,
          46445,
          62941,
          79194,
          41715,
          37472,
          70467,
          116797,
          79385,
          36030,
          72190,
          87337,
          57982,
          48702,
          42437,
          76381,
          74940,
          82314,
          72961,
          112062,
          41365,
          47024,
          63981,
          72109,
          83531,
          78237,
          121219,
          85248,
          56215,
          46248,
          72111,
          106069,
          78948,
          63559,
          110538,
          104502,
          48083,
          39890,
          55284,
          68071,
          112567,
          76970,
          73323,
          79917,
          116470,
          35099,
          107456,
          54721,
          109397,
          86783,
          86723,
          73919,
          113588,
          35874,
          80392,
          79473,
          116315,
          66939,
          47731,
          77492,
          78119,
          81469,
          81885,
          84567,
          72031,
          78582,
          115641,
          36657,
          85136,
          53469,
          84316,
          51874,
          83906,
          110285,
          79376,
          108078,
          85557,
          76771,
          56585,
          79050,
          82547,
          76236,
          76894,
          82017,
          73691,
          51115,
          108052,
          108610,
          63488,
          65124,
          81613,
          81644,
          83711,
          67550,
          114612,
          79312,
          78183,
          80775,
          84547,
          74637,
          64176,
          74002,
          55978,
          64655,
          81119,
          41362,
          40798,
          87845,
          41740,
          29664,
          108104,
          53908,
          82491,
          87401,
          50874,
          80844,
          83970,
          77845,
          32897,
          54692,
          72776,
          77043,
          80859,
          87261,
          88166,
          109347,
          70471,
          81433,
          116775,
          45184,
          71073,
          104309,
          42054,
          82200,
          55110,
          112470,
          41398,
          87808,
          49166,
          75861,
          110434,
          83902,
          80338,
          83627,
          85926,
          49091,
          47163,
          102345,
          114312,
          63514,
          82861,
          45831,
          60485,
          113026,
          63611,
          31475,
          49655,
          73159,
          73104,
          92767,
          108331,
          76274,
          83307,
          105666,
          107670,
          72215,
          110797,
          50571,
          108061,
          113970,
          117335,
          88535,
          62005,
          105900,
          44303,
          44293,
          106743,
          42217,
          72841,
          111723,
          80649,
          34251,
          70046,
          55817,
          58064,
          46960,
          59562,
          78135,
          81019,
          117447,
          80844,
          82298,
          71094,
          107513,
          82532,
          75339,
          79385,
          74584,
          109702,
          79626,
          106681,
          106758,
          86022,
          108103,
          77809,
          110981,
          49652,
          113452,
          44443,
          57422,
          75519,
          83872,
          59679,
          105380,
          77712,
          49417,
          48227,
          79224,
          42332,
          106022,
          81795,
          72900,
          86262,
          80376,
          103795,
          50547,
          50957,
          66778,
          105572,
          109164,
          83939,
          79805,
          73658,
          62370,
          107603,
          79441,
          47090,
          105915,
          73983,
          76014,
          112582,
          83583,
          26094,
          77883,
          78477,
          79295,
          61132,
          38438,
          74561,
          112908,
          75011,
          77806,
          111758,
          84161,
          81621,
          91252,
          47906,
          79878,
          78213,
          78454,
          109700,
          85963,
          50890,
          109534,
          73422,
          81700,
          62226,
          68966,
          59703,
          103073,
          106480,
          113548,
          64184,
          43553,
          106204,
          52074,
          86745,
          53427,
          39968,
          105366,
          38760,
          54178,
          109191,
          77214,
          82590,
          83863,
          78917,
          84871,
          79239,
          56732,
          80521,
          77237,
          40395,
          30484,
          79106,
          72866,
          74777,
          80568,
          84604,
          82675,
          38893,
          81673,
          79172,
          111877,
          81699,
          106849,
          82337,
          79781,
          107506,
          54931,
          82918,
          46541,
          117621,
          80174,
          54881,
          28903,
          87503,
          63890,
          88863,
          72643,
          83681,
          66446,
          80602,
          76852,
          107276,
          105247,
          99943,
          113955,
          75622,
          76663,
          108560,
          85666,
          120409,
          75562,
          48489,
          107585,
          107592,
          76506,
          77403,
          76437,
          56531,
          51210,
          78377,
          106340,
          76326,
          85125,
          50248,
          80260,
          38204,
          105876,
          54465,
          95387,
          39484,
          46085,
          84551,
          45866,
          69866,
          73066,
          109429,
          46899,
          50523,
          79231,
          46009,
          98264,
          68095,
          35258,
          58957,
          76344,
          54579,
          81853,
          75065,
          66942,
          63085,
          80962,
          81251,
          82677,
          55678,
          58063,
          110964,
          54147,
          83129,
          77388,
          73913,
          85207,
          30950,
          110868,
          45798,
          118910,
          85110,
          36545,
          111592,
          105298,
          83305,
          81371,
          112433,
          103611,
          73167,
          57435,
          60389,
          53655,
          84506,
          80311,
          62826,
          87201,
          91109,
          47330,
          75449,
          71692,
          83980,
          82733,
          72688,
          105149,
          90447,
          80994,
          47612,
          87281,
          87659,
          46922,
          92921,
          27886,
          77400,
          115193,
          80144,
          110754,
          71604,
          78959,
          104022,
          75055,
          79427,
          81190,
          110321,
          55315,
          77662,
          74302,
          45018,
          64643,
          82866,
          85769,
          76018,
          80188,
          83548,
          82238,
          78673,
          113444,
          77746,
          86719,
          73957,
          83649,
          79533,
          56598,
          79577,
          41397,
          37723,
          111928,
          62405,
          65276,
          72170,
          114958,
          114452,
          77899,
          84188,
          83174,
          58426,
          42662,
          52575,
          79842,
          62453,
          45493,
          81923,
          29564,
          47323,
          37162,
          110419,
          81170,
          107393,
          110710,
          79172,
          81483,
          73545,
          113689,
          107060,
          91664,
          61934,
          73211,
          86317,
          51289,
          67789,
          61507,
          37796,
          80369,
          77090,
          114585,
          104294,
          69861,
          84159,
          84362,
          68965,
          117001,
          109228,
          85710,
          78301,
          72311,
          86132,
          26613,
          84271,
          53344,
          77852,
          78320,
          49811,
          50696,
          35310,
          112241,
          77393,
          86620,
          82458,
          106368,
          77908,
          108877,
          69511,
          77806,
          71921,
          77014,
          76030,
          47897,
          47144,
          78907,
          82782,
          82332,
          72715,
          119037,
          108557,
          40188,
          51624,
          86061,
          41504,
          62209,
          81599,
          109387,
          61668,
          80583,
          74431,
          55308,
          42016,
          71906,
          109998,
          82211,
          80821,
          76050,
          66957,
          116024,
          105325,
          59499,
          76808,
          72575,
          79966,
          59226,
          55479,
          79006,
          89924,
          45972,
          74063,
          54508,
          54916,
          85817,
          78778,
          106764,
          55244,
          53754,
          72843,
          114805,
          78310,
          79767,
          61639,
          83495,
          47524,
          79080,
          83862,
          47259,
          116820,
          75914,
          51349,
          49686,
          71907,
          83797,
          50773,
          71349,
          81503,
          77183,
          74003,
          78876,
          32304,
          45628,
          106419,
          77392,
          107178,
          87020,
          73078,
          94398,
          58677,
          50077,
          74607,
          56794,
          60722,
          104756,
          55304,
          105842,
          77377,
          40873,
          77382,
          47578,
          89226,
          77905,
          71802,
          69376,
          110750,
          108666,
          108565,
          73339,
          46643,
          79019,
          48981,
          112170,
          103966,
          76706,
          78530,
          108837,
          84169,
          54750,
          83448,
          56875,
          37613,
          79818,
          41367,
          52404,
          83831,
          113166,
          37668,
          83098,
          46948,
          82663,
          82801,
          41243,
          110196,
          77576,
          68589,
          83782,
          43528,
          83251,
          73910,
          38865,
          39974,
          102763,
          79481,
          110476,
          41208,
          111567,
          126635,
          84309,
          78942,
          49787,
          85357,
          115597,
          32316,
          87349,
          76409,
          84786,
          79798,
          49479,
          78739,
          80958,
          52801,
          46535,
          78745,
          57952,
          104815,
          84413,
          86385,
          55513,
          78614,
          48842,
          75411,
          50718,
          81375,
          42228,
          85177,
          75763,
          60753,
          90377,
          76337,
          52414,
          55709,
          78425,
          74165,
          24096,
          56871,
          58020,
          47988,
          78252,
          79756,
          111122,
          39708,
          104878,
          50934,
          78546,
          82917,
          55476,
          112539,
          51234,
          107458,
          78491,
          78463,
          89538,
          86758,
          82672,
          75347,
          75502,
          57971,
          40193,
          31981,
          58770,
          76172,
          82714,
          76849,
          54413,
          87943,
          83239,
          36136,
          31454,
          43373,
          83106,
          54609,
          79237,
          69294,
          62530,
          75091,
          55195,
          75254,
          31127,
          106594,
          68896,
          91896,
          115967,
          117397,
          81489,
          55476,
          113376,
          82304,
          112970,
          32682,
          78199,
          41643,
          84845,
          52303,
          108892,
          69638,
          79990,
          81726,
          42071,
          78414,
          43840,
          115160,
          77751,
          50293,
          49870,
          101941,
          115807,
          108892,
          84348,
          112627,
          85098,
          106328,
          30469,
          43266,
          84268,
          76528,
          80287,
          114311,
          111630,
          112727,
          30231,
          82686,
          86469,
          106373,
          37134,
          81993,
          76804,
          83089,
          105853,
          112894,
          78303,
          113795,
          102305,
          59122,
          82049,
          61266,
          43362,
          70912,
          70747,
          80618,
          81891,
          88927,
          113556,
          43099,
          99907,
          111931,
          79777,
          72820,
          109939,
          104853,
          80131,
          77062,
          63450,
          81927,
          87007,
          81770,
          81872,
          114938,
          80652,
          108147,
          58148,
          78736,
          41599,
          81514,
          59152,
          79278,
          55425,
          47370,
          114213,
          78393,
          79558,
          114910,
          81396,
          84138,
          108657,
          52953,
          67241,
          82833,
          75416,
          112832,
          83270,
          72200,
          57281,
          87723,
          111451,
          84019,
          85594,
          69251,
          83076,
          91006,
          86822,
          51633,
          78872,
          83226,
          81023,
          79325,
          82670,
          62269,
          50663,
          45049,
          74292,
          73836,
          38682,
          84149,
          75653,
          81047,
          63082,
          76442,
          86335,
          83810,
          81294,
          58971,
          78701,
          76161,
          79271,
          79873,
          46797,
          105804,
          81711,
          49873,
          105931,
          109788,
          56947,
          112246,
          43318,
          58817,
          115360,
          75879,
          100270,
          89066,
          107880,
          49197,
          105004,
          57827,
          56918,
          82058,
          105994,
          111608,
          81637,
          110828,
          73545,
          109078,
          82096,
          81055,
          116734,
          103820,
          78420,
          37496,
          55850,
          76681,
          81521,
          50431,
          74678,
          56691,
          79853,
          79164,
          43033,
          82529,
          38279,
          47968,
          114820,
          81852,
          82377,
          76141,
          53398,
          112895,
          86664,
          74654,
          109827,
          73610,
          113965,
          77148,
          29235,
          73369,
          73643,
          104501,
          109483,
          105673,
          110716,
          33104,
          72984,
          38147,
          88896,
          23923,
          82557,
          108574,
          104244,
          60046,
          103918,
          96240,
          71245,
          78895,
          37734,
          72083,
          70767,
          48570,
          82775,
          112064,
          45455,
          79785,
          78095,
          51069,
          108234,
          109008,
          113884,
          105374,
          106871,
          117947,
          80490,
          78362,
          58552,
          79965,
          59974,
          111001,
          61935,
          87702,
          113841,
          67282,
          22664,
          46613,
          90000,
          80535,
          81729,
          66813,
          60017,
          83015,
          112497,
          83419
         ],
         "xaxis": "x",
         "xbins": {
          "end": 126635,
          "size": 1000,
          "start": 22664
         },
         "yaxis": "y"
        },
        {
         "legendgroup": "income",
         "line": {
          "color": "blue",
          "width": 1
         },
         "marker": {
          "color": "rgb(31, 119, 180)"
         },
         "mode": "lines",
         "name": "income",
         "showlegend": false,
         "type": "scatter",
         "x": [
          22664,
          22871.942,
          23079.884,
          23287.826,
          23495.768,
          23703.71,
          23911.652000000002,
          24119.594,
          24327.536,
          24535.478,
          24743.42,
          24951.362,
          25159.304,
          25367.246,
          25575.188000000002,
          25783.13,
          25991.072,
          26199.014,
          26406.956,
          26614.898,
          26822.84,
          27030.782,
          27238.724000000002,
          27446.666,
          27654.608,
          27862.55,
          28070.492,
          28278.434,
          28486.376,
          28694.318,
          28902.260000000002,
          29110.202,
          29318.144,
          29526.086,
          29734.028,
          29941.97,
          30149.912,
          30357.854,
          30565.796000000002,
          30773.738,
          30981.68,
          31189.622,
          31397.564,
          31605.506,
          31813.448,
          32021.39,
          32229.332000000002,
          32437.273999999998,
          32645.216,
          32853.157999999996,
          33061.1,
          33269.042,
          33476.984,
          33684.926,
          33892.868,
          34100.81,
          34308.752,
          34516.694,
          34724.636,
          34932.578,
          35140.520000000004,
          35348.462,
          35556.404,
          35764.346,
          35972.288,
          36180.229999999996,
          36388.172,
          36596.114,
          36804.056,
          37011.998,
          37219.94,
          37427.882,
          37635.824,
          37843.766,
          38051.708,
          38259.65,
          38467.592000000004,
          38675.534,
          38883.476,
          39091.418000000005,
          39299.36,
          39507.301999999996,
          39715.244,
          39923.186,
          40131.128,
          40339.07,
          40547.012,
          40754.954,
          40962.896,
          41170.838,
          41378.78,
          41586.722,
          41794.664000000004,
          42002.606,
          42210.547999999995,
          42418.490000000005,
          42626.432,
          42834.373999999996,
          43042.316,
          43250.258,
          43458.2,
          43666.142,
          43874.084,
          44082.026,
          44289.968,
          44497.91,
          44705.852,
          44913.794,
          45121.736000000004,
          45329.678,
          45537.619999999995,
          45745.562000000005,
          45953.504,
          46161.445999999996,
          46369.388,
          46577.33,
          46785.272,
          46993.214,
          47201.156,
          47409.098,
          47617.04,
          47824.982,
          48032.924,
          48240.866,
          48448.808000000005,
          48656.75,
          48864.691999999995,
          49072.634,
          49280.576,
          49488.518,
          49696.46,
          49904.402,
          50112.344,
          50320.286,
          50528.228,
          50736.17,
          50944.112,
          51152.054000000004,
          51359.996,
          51567.937999999995,
          51775.880000000005,
          51983.822,
          52191.763999999996,
          52399.706,
          52607.648,
          52815.59,
          53023.532,
          53231.474,
          53439.416,
          53647.358,
          53855.3,
          54063.242,
          54271.184,
          54479.126000000004,
          54687.068,
          54895.009999999995,
          55102.952000000005,
          55310.894,
          55518.836,
          55726.778,
          55934.72,
          56142.662,
          56350.604,
          56558.546,
          56766.488,
          56974.43,
          57182.372,
          57390.314,
          57598.256,
          57806.198,
          58014.14,
          58222.082,
          58430.024,
          58637.966,
          58845.908,
          59053.85,
          59261.792,
          59469.734,
          59677.676,
          59885.618,
          60093.56,
          60301.502,
          60509.444,
          60717.386,
          60925.328,
          61133.27,
          61341.212,
          61549.154,
          61757.096,
          61965.038,
          62172.98,
          62380.922,
          62588.864,
          62796.806,
          63004.748,
          63212.69,
          63420.632,
          63628.574,
          63836.516,
          64044.458,
          64252.4,
          64460.342,
          64668.284,
          64876.226,
          65084.168,
          65292.11,
          65500.052,
          65707.994,
          65915.936,
          66123.878,
          66331.82,
          66539.762,
          66747.704,
          66955.64600000001,
          67163.588,
          67371.53,
          67579.47200000001,
          67787.41399999999,
          67995.356,
          68203.29800000001,
          68411.23999999999,
          68619.182,
          68827.12400000001,
          69035.06599999999,
          69243.008,
          69450.95,
          69658.89199999999,
          69866.834,
          70074.776,
          70282.718,
          70490.66,
          70698.602,
          70906.544,
          71114.486,
          71322.428,
          71530.37,
          71738.312,
          71946.254,
          72154.196,
          72362.138,
          72570.08,
          72778.022,
          72985.964,
          73193.906,
          73401.848,
          73609.79000000001,
          73817.732,
          74025.674,
          74233.61600000001,
          74441.55799999999,
          74649.5,
          74857.44200000001,
          75065.38399999999,
          75273.326,
          75481.268,
          75689.20999999999,
          75897.152,
          76105.094,
          76313.036,
          76520.978,
          76728.92,
          76936.862,
          77144.804,
          77352.746,
          77560.688,
          77768.63,
          77976.572,
          78184.514,
          78392.456,
          78600.398,
          78808.34,
          79016.282,
          79224.224,
          79432.166,
          79640.10800000001,
          79848.05,
          80055.992,
          80263.93400000001,
          80471.87599999999,
          80679.818,
          80887.76000000001,
          81095.70199999999,
          81303.644,
          81511.58600000001,
          81719.52799999999,
          81927.47,
          82135.412,
          82343.35399999999,
          82551.296,
          82759.238,
          82967.18,
          83175.122,
          83383.064,
          83591.006,
          83798.948,
          84006.89,
          84214.832,
          84422.774,
          84630.716,
          84838.658,
          85046.6,
          85254.542,
          85462.484,
          85670.426,
          85878.368,
          86086.31,
          86294.25200000001,
          86502.194,
          86710.136,
          86918.07800000001,
          87126.01999999999,
          87333.962,
          87541.90400000001,
          87749.84599999999,
          87957.788,
          88165.73000000001,
          88373.672,
          88581.614,
          88789.556,
          88997.498,
          89205.44,
          89413.382,
          89621.324,
          89829.266,
          90037.208,
          90245.15,
          90453.092,
          90661.034,
          90868.976,
          91076.918,
          91284.86,
          91492.802,
          91700.744,
          91908.686,
          92116.628,
          92324.57,
          92532.512,
          92740.454,
          92948.396,
          93156.338,
          93364.28,
          93572.222,
          93780.164,
          93988.106,
          94196.048,
          94403.99,
          94611.932,
          94819.874,
          95027.816,
          95235.758,
          95443.7,
          95651.642,
          95859.584,
          96067.526,
          96275.468,
          96483.41,
          96691.352,
          96899.294,
          97107.236,
          97315.178,
          97523.12,
          97731.062,
          97939.004,
          98146.946,
          98354.888,
          98562.83,
          98770.772,
          98978.714,
          99186.656,
          99394.598,
          99602.54,
          99810.482,
          100018.424,
          100226.366,
          100434.308,
          100642.25,
          100850.192,
          101058.134,
          101266.076,
          101474.018,
          101681.96,
          101889.902,
          102097.844,
          102305.786,
          102513.728,
          102721.67,
          102929.612,
          103137.554,
          103345.496,
          103553.438,
          103761.38,
          103969.322,
          104177.264,
          104385.206,
          104593.148,
          104801.09,
          105009.032,
          105216.974,
          105424.916,
          105632.858,
          105840.8,
          106048.742,
          106256.684,
          106464.626,
          106672.568,
          106880.51,
          107088.452,
          107296.394,
          107504.336,
          107712.278,
          107920.22,
          108128.162,
          108336.104,
          108544.046,
          108751.988,
          108959.93,
          109167.872,
          109375.814,
          109583.756,
          109791.698,
          109999.64,
          110207.582,
          110415.524,
          110623.466,
          110831.408,
          111039.35,
          111247.292,
          111455.234,
          111663.176,
          111871.118,
          112079.06,
          112287.002,
          112494.944,
          112702.886,
          112910.828,
          113118.77,
          113326.712,
          113534.654,
          113742.596,
          113950.538,
          114158.48,
          114366.422,
          114574.364,
          114782.306,
          114990.248,
          115198.19,
          115406.132,
          115614.074,
          115822.016,
          116029.958,
          116237.9,
          116445.842,
          116653.784,
          116861.726,
          117069.668,
          117277.61,
          117485.552,
          117693.494,
          117901.436,
          118109.378,
          118317.32,
          118525.262,
          118733.204,
          118941.146,
          119149.088,
          119357.03,
          119564.972,
          119772.914,
          119980.856,
          120188.798,
          120396.74,
          120604.682,
          120812.624,
          121020.566,
          121228.508,
          121436.45,
          121644.392,
          121852.334,
          122060.276,
          122268.218,
          122476.16,
          122684.102,
          122892.044,
          123099.986,
          123307.928,
          123515.87,
          123723.812,
          123931.754,
          124139.696,
          124347.638,
          124555.58,
          124763.522,
          124971.464,
          125179.406,
          125387.348,
          125595.29,
          125803.232,
          126011.174,
          126219.116,
          126427.058
         ],
         "xaxis": "x",
         "y": [
          8.8224526642937e-7,
          9.189058940183462e-7,
          9.56511717442167e-7,
          9.950638642568011e-7,
          0.000001034562854907719,
          0.0000010750086405520345,
          0.0000011164006453270643,
          0.0000011587378128976427,
          0.00000120201865705676,
          0.0000012462413160938813,
          0.000001291403610583565,
          0.0000013375031041843802,
          0.0000013845371669756375,
          0.0000014325030407980986,
          0.0000014813979060055258,
          0.0000015312189489779573,
          0.0000015819634296959297,
          0.0000016336287486286854,
          0.0000016862125121497748,
          0.0000017397125956616616,
          0.0000017941272035875673,
          0.0000018494549253753733,
          0.0000019056947866551287,
          0.0000019628462946998335,
          0.000002020909477358951,
          0.0000020798849146659347,
          0.0000021397737623653322,
          0.000002200577766661593,
          0.0000022622992695603565,
          0.000002324941204253536,
          0.0000023885070800910496,
          0.0000024530009567838436,
          0.000002518427407594032,
          0.0000025847914713869106,
          0.000002652098593545242,
          0.0000027203545558767674,
          0.000002789565395779425,
          0.00000285973731506394,
          0.000002930876578967707,
          0.0000030029894060255086,
          0.000003076081849589586,
          0.000003150159671911919,
          0.0000032252282118126112,
          0.0000033012922470596506,
          0.000003378355852673098,
          0.0000034564222564416446,
          0.000003535493692997914,
          0.0000036155712578414065,
          0.0000036966547627223587,
          0.000003778742593806106,
          0.000003861831574025011,
          0.000003945916830993817,
          0.000004030991671814195,
          0.000004117047466026538,
          0.00000420407353788158,
          0.000004292057069003247,
          0.000004380983012398279,
          0.000004470834018638846,
          0.00000456159037490479,
          0.000004653229957422746,
          0.000004745728197683949,
          0.000004839058062662622,
          0.000004933190049095224,
          0.000005028092191719907,
          0.0000051237300852182045,
          0.000005220066919449348,
          0.0000053170635274238695,
          0.000005414678445330654,
          0.000005512867983810653,
          0.000005611586309564642,
          0.000005710785536291925,
          0.000005810415823884081,
          0.000005910425484742608,
          0.00000601076109605344,
          0.000006111367616834135,
          0.000006212188508571204,
          0.0000063131658582859105,
          0.0000064142405029049066,
          0.0000065153521538670465,
          0.000006616439520968394,
          0.000006717440434531064,
          0.000006818291965077961,
          0.000006918930539800607,
          0.000007019292055220307,
          0.000007119311985561288,
          0.0000072189254864747086,
          0.0000073180674938733155,
          0.000007416672817755498,
          0.000007514676231010744,
          0.000007612012553306379,
          0.000007708616730253185,
          0.000007804423908135658,
          0.000007899369504567689,
          0.000007993389275497062,
          0.000008086419379029334,
          0.000008178396436574227,
          0.000008269257591835598,
          0.00000835894056816732,
          0.000008447383724805297,
          0.000008534526112458442,
          0.000008620307528702316,
          0.000008704668573566707,
          0.000008787550705647843,
          0.00000886889629900518,
          0.000008948648701027641,
          0.000009026752291373459,
          0.000009103152542006003,
          0.000009177796078267379,
          0.000009250630740851807,
          0.00000932160564846798,
          0.000009390671260912537,
          0.000009457779442219361,
          0.000009522883523502179,
          0.00000958593836507321,
          0.000009646900417399025,
          0.000009705727780447673,
          0.000009762380260988237,
          0.000009816819427427375,
          0.000009869008661803749,
          0.000009918913208613915,
          0.000009966500220207997,
          0.000010011738798572397,
          0.000010054600033403776,
          0.000010095057036478585,
          0.000010133084972426057,
          0.000010168661086124426,
          0.000010201764727052207,
          0.00001023237737104046,
          0.000010260482639983885,
          0.00001028606632017445,
          0.00001030911638002198,
          0.00001032962298801609,
          0.000010347578531862459,
          0.000010362977639792438,
          0.000010375817205093032,
          0.00001038609641493905,
          0.000010393816784621726,
          0.000010398982198264674,
          0.00001040159895709298,
          0.000010401675836276756,
          0.000010399224151306277,
          0.000010394257834771356,
          0.000010386793524315503,
          0.0000103768506624144,
          0.000010364451608492177,
          0.000010349621763736997,
          0.000010332389708813638,
          0.000010312787354496382,
          0.00001029085010506081,
          0.0000102666170340852,
          0.00001024013107211806,
          0.000010211439205473591,
          0.000010180592685224222,
          0.000010147647245269226,
          0.000010112663328174016,
          0.000010075706317299649,
          0.000010036846773575522,
          0.000009996160675114797,
          0.000009953729657731928,
          0.000009909641254296658,
          0.000009863989130749702,
          0.000009816873316514781,
          0.000009768400426968219,
          0.000009718683875572327,
          0.000009667844073244526,
          0.000009616008612516878,
          0.000009563312434044199,
          0.00000950989797304016,
          0.000009455915283260985,
          0.000009401522136214417,
          0.000009346884093345872,
          0.000009292174549046105,
          0.00000923757474242981,
          0.0000091832737359576,
          0.00000912946835910711,
          0.000009076363115446695,
          0.000009024170051623723,
          0.000008973108586948614,
          0.000008923405302433612,
          0.00000887529368833278,
          0.000008829013849422575,
          0.000008784812167463769,
          0.0000087429409204898,
          0.00000870365785877774,
          0.000008667225737570321,
          0.000008633911806833406,
          0.0000086039872585508,
          0.000008577726632274949,
          0.000008555407179870037,
          0.000008537308190599244,
          0.000008523710277920843,
          0.000008514894629568147,
          0.000008511142222693223,
          0.000008512733006054179,
          0.000008519945051419341,
          0.000008533053676547429,
          0.000008552330542280045,
          0.000008578042726451226,
          0.00000861045177747551,
          0.000008649812750622982,
          0.000008696373230123403,
          0.000008750372340362863,
          0.000008812039749544173,
          0.000008881594669276073,
          0.000008959244853635258,
          0.000009045185601310156,
          0.00000913959876448476,
          0.00000924265176815585,
          0.000009354496643596684,
          0.000009475269079686479,
          0.000009605087495816121,
          0.00000974405214005963,
          0.000009892244216265948,
          0.000010049725043680503,
          0.000010216535252648197,
          0.000010392694019883737,
          0.000010578198346718769,
          0.00001077302238365258,
          0.000010977116804443467,
          0.00001119040823288074,
          0.00001141279872527917,
          0.000011644165311631004,
          0.000011884359598244638,
          0.000012133207434588055,
          0.000012390508646943116,
          0.0000126560368413602,
          0.000012929539278288316,
          0.000013210736821133172,
          0.000013499323960874613,
          0.000013794968918747117,
          0.000014097313828855285,
          0.000014405975002458014,
          0.000014720543275509377,
          0.000015040584440888915,
          0.00001536563976658782,
          0.00001569522660093889,
          0.00001602883906578315,
          0.000016365948838256968,
          0.00001670600602165311,
          0.000017048440105560082,
          0.000017392661015213386,
          0.000017738060249696598,
          0.000018084012108312137,
          0.000018429875004097657,
          0.000018774992863093085,
          0.000019118696607570332,
          0.000019460305721015706,
          0.000019799129892214028,
          0.00002013447073531372,
          0.000020465623582269807,
          0.000020791879343555095,
          0.000021112526432512874,
          0.000021426852748196293,
          0.00002173414771100425,
          0.000022033704344886662,
          0.000022324821399361555,
          0.000022606805504061025,
          0.00002287897334801791,
          0.000023140653875415813,
          0.000023391190489070407,
          0.000023629943252483032,
          0.00002385629108092641,
          0.00002406963391168703,
          0.000024269394843302342,
          0.000024455022233415015,
          0.000024625991744700637,
          0.0000247818083282409,
          0.00002492200813369981,
          0.000025046160335722167,
          0.000025153868866119485,
          0.000025244774041637305,
          0.000025318554077408253,
          0.000025374926476595767,
          0.00002541364928721418,
          0.000025434522217677434,
          0.0000254373876032769,
          0.00002542213121651184,
          0.000025388682914993583,
          0.000025337017121514196,
          0.00002526715313179289,
          0.000025179155246402103,
          0.000025073132724401296,
          0.000024949239557278858,
          0.000024807674062901004,
          0.00002464867830028719,
          0.000024472537307162168,
          0.000024279578163368807,
          0.00002407016888434529,
          0.00002384471714997742,
          0.000023603668875205376,
          0.000023347506629801803,
          0.000023076747915719365,
          0.00002279194331133245,
          0.000022493674492754194,
          0.000022182552143194788,
          0.00002185921376202336,
          0.000021524321385808824,
          0.000021178559234129507,
          0.000020822631293356367,
          0.000020457258851927497,
          0.00002008317800083923,
          0.000019701137113175966,
          0.000019311894316492205,
          0.000018916214971744927,
          0.00001851486917224872,
          0.000018108629275801572,
          0.000017698267482702612,
          0.000017284553471861518,
          0.000016868252106587375,
          0.00001645012122095087,
          0.000016030909496841687,
          0.00001561135444100131,
          0.00001519218047041334,
          0.00001477409711347586,
          0.000014357797333388026,
          0.000013943955979151667,
          0.000013533228368534167,
          0.000013126249006273037,
          0.000012723630439727612,
          0.000012325962253117093,
          0.000011933810200429303,
          0.000011547715476054169,
          0.000011168194121198263,
          0.000010795736563176934,
          0.000010430807283770584,
          0.000010073844611976609,
          0.000009725260635693645,
          0.00000938544122614905,
          0.000009054746168225848,
          0.000008733509389269227,
          0.000008422039278455803,
          0.000008120619088395711,
          0.000007829507410310564,
          0.0000075489387138893,
          0.000007279123942769488,
          0.0000070202511565260115,
          0.0000067724862100666095,
          0.000006535973461436364,
          0.000006310836499217576,
          0.000006097178880972344,
          0.000005895084874511775,
          0.000005704620194179844,
          0.000005525832724812082,
          0.000005358753226556136,
          0.000005203396014324645,
          0.000005059759606279734,
          0.000004927827336416936,
          0.000004807567927018168,
          0.000004698936017471601,
          0.000004601872646701974,
          0.000004516305687211868,
          0.0000044421502294957195,
          0.000004379308916344386,
          0.000004327672227303943,
          0.000004287118714279145,
          0.0000042575151899737154,
          0.000004238716871529172,
          0.000004230567482354834,
          0.000004232899315728942,
          0.000004245533264287528,
          0.000004268278820000541,
          0.000004300934049657878,
          0.000004343285551248918,
          0.0000043951083969134395,
          0.000004456166068368588,
          0.000004526210390871946,
          0.000004604981471866618,
          0.0000046922076504666205,
          0.000004787605463883915,
          0.000004890879636770609,
          0.000005001723099254219,
          0.000005119817039182918,
          0.000005244830993774911,
          0.000005376422985484666,
          0.000005514239706463886,
          0.000005657916755512131,
          0.000005807078930885636,
          0.000005961340581769792,
          0.000006120306020627261,
          0.000006283569998016772,
          0.000006450718240842701,
          0.000006621328054351961,
          0.000006794968987547941,
          0.000006971203561047437,
          0.000007149588055775917,
          0.000007329673360281203,
          0.0000075110058738563725,
          0.000007693128462101583,
          0.000007875581461030608,
          0.000008057903725343259,
          0.000008239633716045907,
          0.000008420310622211316,
          0.000008599475511332045,
          0.000008776672502435741,
          0.000008951449955904876,
          0.00000912336167377235,
          0.000009291968104151486,
          0.000009456837543404636,
          0.000009617547329655639,
          0.000009773685021306433,
          0.000009924849554328111,
          0.00001007065237225346,
          0.000010210718523003674,
          0.000010344687716928638,
          0.00001047221534072588,
          0.000010592973422224509,
          0.000010706651541369185,
          0.000010812957683114764,
          0.000010911619028337622,
          0.000011002382679279918,
          0.00001108501631646504,
          0.000011159308784450489,
          0.00001122507060421486,
          0.00001128213441040339,
          0.000011330355312079585,
          0.000011369611176044636,
          0.000011399802832187608,
          0.000011420854200717154,
          0.000011432712341497595,
          0.000011435347426063057,
          0.000011428752633218904,
          0.000011412943969451193,
          0.000011387960015657732,
          0.000011353861601985467,
          0.000011310731412809276,
          0.000011258673524117437,
          0.000011197812875779364,
          0.000011128294681363898,
          0.000011050283778350012,
          0.000010963963921729977,
          0.000010869537024148355,
          0.00001076722234584861,
          0.000010657255637815015,
          0.00001053988824160346,
          0.000010415386149446865,
          0.000010284029028307056,
          0.00001014610921161917,
          0.000010001930662542268,
          0.000009851807912588138,
          0.000009696064979551852,
          0.00000953503426870995,
          0.000009369055461287196,
          0.000009198474394218635,
          0.000009023641935250326,
          0.000008844912857429047,
          0.00000866264471702662,
          0.000008477196738929064,
          0.000008288928713491037,
          0.000008098199908814697,
          0.000007905368002353147,
          0.000007710788035666595,
          0.000007514811396068973,
          0.000007317784828796007,
          0.0000071200494831999375,
          0.000006921939996333794,
          0.0000067237836171254135,
          0.000006525899374161023,
          0.0000063285972898999,
          0.000006132177643924897,
          0.000005936930287599553,
          0.000005743134012254068,
          0.00000555105597275663,
          0.000005360951168049504,
          0.000005173061979939919,
          0.00000498761777113574,
          0.000004804834543209857,
          0.000004624914654863818,
          0.0000044480466005464625,
          0.0000042744048491664236,
          0.000004104149742322904,
          0.000003937427451169501,
          0.000003774369990722049,
          0.0000036150952901277135,
          0.0000034597073171307762,
          0.0000033082962547023164,
          0.00000316093872754911,
          0.0000030176980759841653,
          0.000002878624674427633,
          0.00000274375629161518,
          0.0000026131184894228643,
          0.000002486725057072877,
          0.0000023645784773658225,
          0.0000022466704214914474,
          0.00000213298226890309,
          0.0000020234856486996266,
          0.000001918142998943914,
          0.00000181690814035743,
          0.0000017197268608663218,
          0.0000016265375075334542,
          0.000001537271582493891,
          0.0000014518543396150275,
          0.0000013702053787266207,
          0.0000012922392344089104,
          0.000001217865956485746,
          0.0000011469916795437352,
          0.000001079519178985225,
          0.0000010153484113200467,
          9.543770366072574e-7,
          8.965009211704626e-7,
          8.416146189277492e-7
         ],
         "yaxis": "y"
        },
        {
         "domain": {
          "x": [
           0.64,
           1
          ],
          "y": [
           0.575,
           1
          ]
         },
         "labels": [
          "female",
          "male"
         ],
         "showlegend": true,
         "type": "pie",
         "values": [
          634,
          366
         ]
        },
        {
         "name": "Number of flights",
         "showlegend": false,
         "type": "scatter",
         "x": [
          14,
          20,
          21,
          24,
          25,
          26,
          27,
          28,
          29,
          30,
          31,
          32,
          33,
          34,
          35,
          36,
          37,
          38,
          39,
          40,
          41,
          42,
          43,
          44,
          45,
          46,
          47,
          48,
          49,
          50,
          51,
          52,
          53,
          54,
          55,
          56,
          57,
          58,
          59,
          60,
          61,
          62,
          63,
          64,
          65,
          66,
          67,
          70
         ],
         "xaxis": "x2",
         "y": [
          0,
          1,
          0.5,
          0.5,
          0.6666666666666666,
          0.75,
          0.5,
          0.3333333333333333,
          0.2222222222222222,
          0.5714285714285714,
          0.5,
          0.46153846153846156,
          0.375,
          0.5,
          0.42857142857142855,
          0.34782608695652173,
          0.6086956521739131,
          0.48484848484848486,
          0.375,
          2.3513513513513513,
          2.1025641025641026,
          2.3461538461538463,
          2.466666666666667,
          2.64,
          3.6538461538461537,
          3.4,
          3.15,
          3.7777777777777777,
          3.4054054054054053,
          3.2222222222222223,
          3.4523809523809526,
          3.369565217391304,
          3.2758620689655173,
          3.6216216216216215,
          0.4642857142857143,
          0.5,
          0.5833333333333334,
          0.45454545454545453,
          0.5,
          0.5384615384615384,
          0.7142857142857143,
          0.3333333333333333,
          0.25,
          0.3333333333333333,
          1,
          0,
          1,
          0
         ],
         "yaxis": "y2"
        }
       ],
       "layout": {
        "height": 400,
        "template": {
         "data": {
          "bar": [
           {
            "error_x": {
             "color": "#2a3f5f"
            },
            "error_y": {
             "color": "#2a3f5f"
            },
            "marker": {
             "line": {
              "color": "#E5ECF6",
              "width": 0.5
             },
             "pattern": {
              "fillmode": "overlay",
              "size": 10,
              "solidity": 0.2
             }
            },
            "type": "bar"
           }
          ],
          "barpolar": [
           {
            "marker": {
             "line": {
              "color": "#E5ECF6",
              "width": 0.5
             },
             "pattern": {
              "fillmode": "overlay",
              "size": 10,
              "solidity": 0.2
             }
            },
            "type": "barpolar"
           }
          ],
          "carpet": [
           {
            "aaxis": {
             "endlinecolor": "#2a3f5f",
             "gridcolor": "white",
             "linecolor": "white",
             "minorgridcolor": "white",
             "startlinecolor": "#2a3f5f"
            },
            "baxis": {
             "endlinecolor": "#2a3f5f",
             "gridcolor": "white",
             "linecolor": "white",
             "minorgridcolor": "white",
             "startlinecolor": "#2a3f5f"
            },
            "type": "carpet"
           }
          ],
          "choropleth": [
           {
            "colorbar": {
             "outlinewidth": 0,
             "ticks": ""
            },
            "type": "choropleth"
           }
          ],
          "contour": [
           {
            "colorbar": {
             "outlinewidth": 0,
             "ticks": ""
            },
            "colorscale": [
             [
              0,
              "#0d0887"
             ],
             [
              0.1111111111111111,
              "#46039f"
             ],
             [
              0.2222222222222222,
              "#7201a8"
             ],
             [
              0.3333333333333333,
              "#9c179e"
             ],
             [
              0.4444444444444444,
              "#bd3786"
             ],
             [
              0.5555555555555556,
              "#d8576b"
             ],
             [
              0.6666666666666666,
              "#ed7953"
             ],
             [
              0.7777777777777778,
              "#fb9f3a"
             ],
             [
              0.8888888888888888,
              "#fdca26"
             ],
             [
              1,
              "#f0f921"
             ]
            ],
            "type": "contour"
           }
          ],
          "contourcarpet": [
           {
            "colorbar": {
             "outlinewidth": 0,
             "ticks": ""
            },
            "type": "contourcarpet"
           }
          ],
          "heatmap": [
           {
            "colorbar": {
             "outlinewidth": 0,
             "ticks": ""
            },
            "colorscale": [
             [
              0,
              "#0d0887"
             ],
             [
              0.1111111111111111,
              "#46039f"
             ],
             [
              0.2222222222222222,
              "#7201a8"
             ],
             [
              0.3333333333333333,
              "#9c179e"
             ],
             [
              0.4444444444444444,
              "#bd3786"
             ],
             [
              0.5555555555555556,
              "#d8576b"
             ],
             [
              0.6666666666666666,
              "#ed7953"
             ],
             [
              0.7777777777777778,
              "#fb9f3a"
             ],
             [
              0.8888888888888888,
              "#fdca26"
             ],
             [
              1,
              "#f0f921"
             ]
            ],
            "type": "heatmap"
           }
          ],
          "heatmapgl": [
           {
            "colorbar": {
             "outlinewidth": 0,
             "ticks": ""
            },
            "colorscale": [
             [
              0,
              "#0d0887"
             ],
             [
              0.1111111111111111,
              "#46039f"
             ],
             [
              0.2222222222222222,
              "#7201a8"
             ],
             [
              0.3333333333333333,
              "#9c179e"
             ],
             [
              0.4444444444444444,
              "#bd3786"
             ],
             [
              0.5555555555555556,
              "#d8576b"
             ],
             [
              0.6666666666666666,
              "#ed7953"
             ],
             [
              0.7777777777777778,
              "#fb9f3a"
             ],
             [
              0.8888888888888888,
              "#fdca26"
             ],
             [
              1,
              "#f0f921"
             ]
            ],
            "type": "heatmapgl"
           }
          ],
          "histogram": [
           {
            "marker": {
             "pattern": {
              "fillmode": "overlay",
              "size": 10,
              "solidity": 0.2
             }
            },
            "type": "histogram"
           }
          ],
          "histogram2d": [
           {
            "colorbar": {
             "outlinewidth": 0,
             "ticks": ""
            },
            "colorscale": [
             [
              0,
              "#0d0887"
             ],
             [
              0.1111111111111111,
              "#46039f"
             ],
             [
              0.2222222222222222,
              "#7201a8"
             ],
             [
              0.3333333333333333,
              "#9c179e"
             ],
             [
              0.4444444444444444,
              "#bd3786"
             ],
             [
              0.5555555555555556,
              "#d8576b"
             ],
             [
              0.6666666666666666,
              "#ed7953"
             ],
             [
              0.7777777777777778,
              "#fb9f3a"
             ],
             [
              0.8888888888888888,
              "#fdca26"
             ],
             [
              1,
              "#f0f921"
             ]
            ],
            "type": "histogram2d"
           }
          ],
          "histogram2dcontour": [
           {
            "colorbar": {
             "outlinewidth": 0,
             "ticks": ""
            },
            "colorscale": [
             [
              0,
              "#0d0887"
             ],
             [
              0.1111111111111111,
              "#46039f"
             ],
             [
              0.2222222222222222,
              "#7201a8"
             ],
             [
              0.3333333333333333,
              "#9c179e"
             ],
             [
              0.4444444444444444,
              "#bd3786"
             ],
             [
              0.5555555555555556,
              "#d8576b"
             ],
             [
              0.6666666666666666,
              "#ed7953"
             ],
             [
              0.7777777777777778,
              "#fb9f3a"
             ],
             [
              0.8888888888888888,
              "#fdca26"
             ],
             [
              1,
              "#f0f921"
             ]
            ],
            "type": "histogram2dcontour"
           }
          ],
          "mesh3d": [
           {
            "colorbar": {
             "outlinewidth": 0,
             "ticks": ""
            },
            "type": "mesh3d"
           }
          ],
          "parcoords": [
           {
            "line": {
             "colorbar": {
              "outlinewidth": 0,
              "ticks": ""
             }
            },
            "type": "parcoords"
           }
          ],
          "pie": [
           {
            "automargin": true,
            "type": "pie"
           }
          ],
          "scatter": [
           {
            "fillpattern": {
             "fillmode": "overlay",
             "size": 10,
             "solidity": 0.2
            },
            "type": "scatter"
           }
          ],
          "scatter3d": [
           {
            "line": {
             "colorbar": {
              "outlinewidth": 0,
              "ticks": ""
             }
            },
            "marker": {
             "colorbar": {
              "outlinewidth": 0,
              "ticks": ""
             }
            },
            "type": "scatter3d"
           }
          ],
          "scattercarpet": [
           {
            "marker": {
             "colorbar": {
              "outlinewidth": 0,
              "ticks": ""
             }
            },
            "type": "scattercarpet"
           }
          ],
          "scattergeo": [
           {
            "marker": {
             "colorbar": {
              "outlinewidth": 0,
              "ticks": ""
             }
            },
            "type": "scattergeo"
           }
          ],
          "scattergl": [
           {
            "marker": {
             "colorbar": {
              "outlinewidth": 0,
              "ticks": ""
             }
            },
            "type": "scattergl"
           }
          ],
          "scattermapbox": [
           {
            "marker": {
             "colorbar": {
              "outlinewidth": 0,
              "ticks": ""
             }
            },
            "type": "scattermapbox"
           }
          ],
          "scatterpolar": [
           {
            "marker": {
             "colorbar": {
              "outlinewidth": 0,
              "ticks": ""
             }
            },
            "type": "scatterpolar"
           }
          ],
          "scatterpolargl": [
           {
            "marker": {
             "colorbar": {
              "outlinewidth": 0,
              "ticks": ""
             }
            },
            "type": "scatterpolargl"
           }
          ],
          "scatterternary": [
           {
            "marker": {
             "colorbar": {
              "outlinewidth": 0,
              "ticks": ""
             }
            },
            "type": "scatterternary"
           }
          ],
          "surface": [
           {
            "colorbar": {
             "outlinewidth": 0,
             "ticks": ""
            },
            "colorscale": [
             [
              0,
              "#0d0887"
             ],
             [
              0.1111111111111111,
              "#46039f"
             ],
             [
              0.2222222222222222,
              "#7201a8"
             ],
             [
              0.3333333333333333,
              "#9c179e"
             ],
             [
              0.4444444444444444,
              "#bd3786"
             ],
             [
              0.5555555555555556,
              "#d8576b"
             ],
             [
              0.6666666666666666,
              "#ed7953"
             ],
             [
              0.7777777777777778,
              "#fb9f3a"
             ],
             [
              0.8888888888888888,
              "#fdca26"
             ],
             [
              1,
              "#f0f921"
             ]
            ],
            "type": "surface"
           }
          ],
          "table": [
           {
            "cells": {
             "fill": {
              "color": "#EBF0F8"
             },
             "line": {
              "color": "white"
             }
            },
            "header": {
             "fill": {
              "color": "#C8D4E3"
             },
             "line": {
              "color": "white"
             }
            },
            "type": "table"
           }
          ]
         },
         "layout": {
          "annotationdefaults": {
           "arrowcolor": "#2a3f5f",
           "arrowhead": 0,
           "arrowwidth": 1
          },
          "autotypenumbers": "strict",
          "coloraxis": {
           "colorbar": {
            "outlinewidth": 0,
            "ticks": ""
           }
          },
          "colorscale": {
           "diverging": [
            [
             0,
             "#8e0152"
            ],
            [
             0.1,
             "#c51b7d"
            ],
            [
             0.2,
             "#de77ae"
            ],
            [
             0.3,
             "#f1b6da"
            ],
            [
             0.4,
             "#fde0ef"
            ],
            [
             0.5,
             "#f7f7f7"
            ],
            [
             0.6,
             "#e6f5d0"
            ],
            [
             0.7,
             "#b8e186"
            ],
            [
             0.8,
             "#7fbc41"
            ],
            [
             0.9,
             "#4d9221"
            ],
            [
             1,
             "#276419"
            ]
           ],
           "sequential": [
            [
             0,
             "#0d0887"
            ],
            [
             0.1111111111111111,
             "#46039f"
            ],
            [
             0.2222222222222222,
             "#7201a8"
            ],
            [
             0.3333333333333333,
             "#9c179e"
            ],
            [
             0.4444444444444444,
             "#bd3786"
            ],
            [
             0.5555555555555556,
             "#d8576b"
            ],
            [
             0.6666666666666666,
             "#ed7953"
            ],
            [
             0.7777777777777778,
             "#fb9f3a"
            ],
            [
             0.8888888888888888,
             "#fdca26"
            ],
            [
             1,
             "#f0f921"
            ]
           ],
           "sequentialminus": [
            [
             0,
             "#0d0887"
            ],
            [
             0.1111111111111111,
             "#46039f"
            ],
            [
             0.2222222222222222,
             "#7201a8"
            ],
            [
             0.3333333333333333,
             "#9c179e"
            ],
            [
             0.4444444444444444,
             "#bd3786"
            ],
            [
             0.5555555555555556,
             "#d8576b"
            ],
            [
             0.6666666666666666,
             "#ed7953"
            ],
            [
             0.7777777777777778,
             "#fb9f3a"
            ],
            [
             0.8888888888888888,
             "#fdca26"
            ],
            [
             1,
             "#f0f921"
            ]
           ]
          },
          "colorway": [
           "#636efa",
           "#EF553B",
           "#00cc96",
           "#ab63fa",
           "#FFA15A",
           "#19d3f3",
           "#FF6692",
           "#B6E880",
           "#FF97FF",
           "#FECB52"
          ],
          "font": {
           "color": "#2a3f5f"
          },
          "geo": {
           "bgcolor": "white",
           "lakecolor": "white",
           "landcolor": "#E5ECF6",
           "showlakes": true,
           "showland": true,
           "subunitcolor": "white"
          },
          "hoverlabel": {
           "align": "left"
          },
          "hovermode": "closest",
          "mapbox": {
           "style": "light"
          },
          "paper_bgcolor": "white",
          "plot_bgcolor": "#E5ECF6",
          "polar": {
           "angularaxis": {
            "gridcolor": "white",
            "linecolor": "white",
            "ticks": ""
           },
           "bgcolor": "#E5ECF6",
           "radialaxis": {
            "gridcolor": "white",
            "linecolor": "white",
            "ticks": ""
           }
          },
          "scene": {
           "xaxis": {
            "backgroundcolor": "#E5ECF6",
            "gridcolor": "white",
            "gridwidth": 2,
            "linecolor": "white",
            "showbackground": true,
            "ticks": "",
            "zerolinecolor": "white"
           },
           "yaxis": {
            "backgroundcolor": "#E5ECF6",
            "gridcolor": "white",
            "gridwidth": 2,
            "linecolor": "white",
            "showbackground": true,
            "ticks": "",
            "zerolinecolor": "white"
           },
           "zaxis": {
            "backgroundcolor": "#E5ECF6",
            "gridcolor": "white",
            "gridwidth": 2,
            "linecolor": "white",
            "showbackground": true,
            "ticks": "",
            "zerolinecolor": "white"
           }
          },
          "shapedefaults": {
           "line": {
            "color": "#2a3f5f"
           }
          },
          "ternary": {
           "aaxis": {
            "gridcolor": "white",
            "linecolor": "white",
            "ticks": ""
           },
           "baxis": {
            "gridcolor": "white",
            "linecolor": "white",
            "ticks": ""
           },
           "bgcolor": "#E5ECF6",
           "caxis": {
            "gridcolor": "white",
            "linecolor": "white",
            "ticks": ""
           }
          },
          "title": {
           "x": 0.05
          },
          "xaxis": {
           "automargin": true,
           "gridcolor": "white",
           "linecolor": "white",
           "ticks": "",
           "title": {
            "standoff": 15
           },
           "zerolinecolor": "white",
           "zerolinewidth": 2
          },
          "yaxis": {
           "automargin": true,
           "gridcolor": "white",
           "linecolor": "white",
           "ticks": "",
           "title": {
            "standoff": 15
           },
           "zerolinecolor": "white",
           "zerolinewidth": 2
          }
         }
        },
        "title": {
         "x": 0.5
        },
        "width": 800,
        "xaxis": {
         "anchor": "y",
         "domain": [
          0,
          0.54
         ],
         "dtick": 10000,
         "tick0": 0,
         "tickmode": "linear",
         "title": {
          "text": "Income"
         }
        },
        "xaxis2": {
         "anchor": "y2",
         "domain": [
          0.64,
          1
         ],
         "title": {
          "text": "Age"
         }
        },
        "yaxis": {
         "anchor": "x",
         "domain": [
          0,
          1
         ],
         "title": {
          "text": "Density"
         }
        },
        "yaxis2": {
         "anchor": "x2",
         "domain": [
          0,
          0.425
         ],
         "title": {
          "text": "Number of flights"
         }
        }
       }
      }
     },
     "metadata": {},
     "output_type": "display_data"
    }
   ],
   "source": [
    "fig = sp.make_subplots(rows=2, cols=2, specs=[[{\"rowspan\": 2}, {\"type\": \"pie\"}], [None, {\"type\": \"scatter\"}]], column_widths=[0.6, 0.4])\n",
    "fig.update_layout(width=800, height=400, title_x=0.5)\n",
    "# The first graph is the kernel of income density\n",
    "fig1 = ff.create_distplot(hist_data=[df.income], group_labels=['income'], bin_size=1000, show_rug=False)\n",
    "fig.add_trace(go.Histogram(fig1['data'][0], showlegend=False), row=1, col=1,)\n",
    "fig.add_trace(go.Scatter(fig1['data'][1], line=dict(color='blue', width=1), showlegend=False), row=1, col=1)\n",
    "fig.update_xaxes(title_text ='Income', tickmode='linear', tick0=0, dtick=10000, row=1, col=1)\n",
    "fig.update_yaxes(title_text ='Density', row=1, col=1)\n",
    "# Gender pie chart\n",
    "df9 = df.groupby(['sex'], as_index=False)['age'].count().rename(columns={'age': 'gender_count'})\n",
    "fig.add_trace(go.Pie(labels=df9.sex, values=df9.gender_count, showlegend=True), row=1, col=2)\n",
    "# The third graph is the dependence of the number of flights on age (scatter plot)\n",
    "df9_2 = df.groupby(['age'])['flights'].mean().reset_index()\n",
    "fig.add_trace(go.Scatter(x=df9_2['age'], y=df9_2['flights'], name='Number of flights', showlegend=False), row=2, col=2)\n",
    "fig.update_xaxes(title_text='Age', row=2, col=2)\n",
    "fig.update_yaxes(title_text='Number of flights', row=2, col=2)"
   ]
  },
  {
   "cell_type": "markdown",
   "metadata": {},
   "source": [
    "## 10. Replace the pandas matlotlib graphing engine with plotly, and construct a bar diagram of the average number of incomes within social status, using the tools of pandas DataFrame."
   ]
  },
  {
   "cell_type": "code",
   "execution_count": 10,
   "metadata": {},
   "outputs": [
    {
     "data": {
      "application/vnd.plotly.v1+json": {
       "config": {
        "plotlyServerURL": "https://plot.ly"
       },
       "data": [
        {
         "alignmentgroup": "True",
         "hovertemplate": "variable=income<br>status=%{x}<br>value=%{y}<extra></extra>",
         "legendgroup": "income",
         "marker": {
          "color": "#636efa",
          "pattern": {
           "shape": ""
          }
         },
         "name": "income",
         "offsetgroup": "income",
         "orientation": "v",
         "showlegend": true,
         "textposition": "auto",
         "texttemplate": "%{y}",
         "type": "bar",
         "x": [
          "divorced",
          "married",
          "single",
          "widow"
         ],
         "xaxis": "x",
         "y": [
          76352.79475982532,
          77062.21981424149,
          76971.56565656565,
          73054.26923076923
         ],
         "yaxis": "y"
        }
       ],
       "layout": {
        "barmode": "relative",
        "legend": {
         "title": {
          "text": "variable"
         },
         "tracegroupgap": 0
        },
        "template": {
         "data": {
          "bar": [
           {
            "error_x": {
             "color": "#2a3f5f"
            },
            "error_y": {
             "color": "#2a3f5f"
            },
            "marker": {
             "line": {
              "color": "#E5ECF6",
              "width": 0.5
             },
             "pattern": {
              "fillmode": "overlay",
              "size": 10,
              "solidity": 0.2
             }
            },
            "type": "bar"
           }
          ],
          "barpolar": [
           {
            "marker": {
             "line": {
              "color": "#E5ECF6",
              "width": 0.5
             },
             "pattern": {
              "fillmode": "overlay",
              "size": 10,
              "solidity": 0.2
             }
            },
            "type": "barpolar"
           }
          ],
          "carpet": [
           {
            "aaxis": {
             "endlinecolor": "#2a3f5f",
             "gridcolor": "white",
             "linecolor": "white",
             "minorgridcolor": "white",
             "startlinecolor": "#2a3f5f"
            },
            "baxis": {
             "endlinecolor": "#2a3f5f",
             "gridcolor": "white",
             "linecolor": "white",
             "minorgridcolor": "white",
             "startlinecolor": "#2a3f5f"
            },
            "type": "carpet"
           }
          ],
          "choropleth": [
           {
            "colorbar": {
             "outlinewidth": 0,
             "ticks": ""
            },
            "type": "choropleth"
           }
          ],
          "contour": [
           {
            "colorbar": {
             "outlinewidth": 0,
             "ticks": ""
            },
            "colorscale": [
             [
              0,
              "#0d0887"
             ],
             [
              0.1111111111111111,
              "#46039f"
             ],
             [
              0.2222222222222222,
              "#7201a8"
             ],
             [
              0.3333333333333333,
              "#9c179e"
             ],
             [
              0.4444444444444444,
              "#bd3786"
             ],
             [
              0.5555555555555556,
              "#d8576b"
             ],
             [
              0.6666666666666666,
              "#ed7953"
             ],
             [
              0.7777777777777778,
              "#fb9f3a"
             ],
             [
              0.8888888888888888,
              "#fdca26"
             ],
             [
              1,
              "#f0f921"
             ]
            ],
            "type": "contour"
           }
          ],
          "contourcarpet": [
           {
            "colorbar": {
             "outlinewidth": 0,
             "ticks": ""
            },
            "type": "contourcarpet"
           }
          ],
          "heatmap": [
           {
            "colorbar": {
             "outlinewidth": 0,
             "ticks": ""
            },
            "colorscale": [
             [
              0,
              "#0d0887"
             ],
             [
              0.1111111111111111,
              "#46039f"
             ],
             [
              0.2222222222222222,
              "#7201a8"
             ],
             [
              0.3333333333333333,
              "#9c179e"
             ],
             [
              0.4444444444444444,
              "#bd3786"
             ],
             [
              0.5555555555555556,
              "#d8576b"
             ],
             [
              0.6666666666666666,
              "#ed7953"
             ],
             [
              0.7777777777777778,
              "#fb9f3a"
             ],
             [
              0.8888888888888888,
              "#fdca26"
             ],
             [
              1,
              "#f0f921"
             ]
            ],
            "type": "heatmap"
           }
          ],
          "heatmapgl": [
           {
            "colorbar": {
             "outlinewidth": 0,
             "ticks": ""
            },
            "colorscale": [
             [
              0,
              "#0d0887"
             ],
             [
              0.1111111111111111,
              "#46039f"
             ],
             [
              0.2222222222222222,
              "#7201a8"
             ],
             [
              0.3333333333333333,
              "#9c179e"
             ],
             [
              0.4444444444444444,
              "#bd3786"
             ],
             [
              0.5555555555555556,
              "#d8576b"
             ],
             [
              0.6666666666666666,
              "#ed7953"
             ],
             [
              0.7777777777777778,
              "#fb9f3a"
             ],
             [
              0.8888888888888888,
              "#fdca26"
             ],
             [
              1,
              "#f0f921"
             ]
            ],
            "type": "heatmapgl"
           }
          ],
          "histogram": [
           {
            "marker": {
             "pattern": {
              "fillmode": "overlay",
              "size": 10,
              "solidity": 0.2
             }
            },
            "type": "histogram"
           }
          ],
          "histogram2d": [
           {
            "colorbar": {
             "outlinewidth": 0,
             "ticks": ""
            },
            "colorscale": [
             [
              0,
              "#0d0887"
             ],
             [
              0.1111111111111111,
              "#46039f"
             ],
             [
              0.2222222222222222,
              "#7201a8"
             ],
             [
              0.3333333333333333,
              "#9c179e"
             ],
             [
              0.4444444444444444,
              "#bd3786"
             ],
             [
              0.5555555555555556,
              "#d8576b"
             ],
             [
              0.6666666666666666,
              "#ed7953"
             ],
             [
              0.7777777777777778,
              "#fb9f3a"
             ],
             [
              0.8888888888888888,
              "#fdca26"
             ],
             [
              1,
              "#f0f921"
             ]
            ],
            "type": "histogram2d"
           }
          ],
          "histogram2dcontour": [
           {
            "colorbar": {
             "outlinewidth": 0,
             "ticks": ""
            },
            "colorscale": [
             [
              0,
              "#0d0887"
             ],
             [
              0.1111111111111111,
              "#46039f"
             ],
             [
              0.2222222222222222,
              "#7201a8"
             ],
             [
              0.3333333333333333,
              "#9c179e"
             ],
             [
              0.4444444444444444,
              "#bd3786"
             ],
             [
              0.5555555555555556,
              "#d8576b"
             ],
             [
              0.6666666666666666,
              "#ed7953"
             ],
             [
              0.7777777777777778,
              "#fb9f3a"
             ],
             [
              0.8888888888888888,
              "#fdca26"
             ],
             [
              1,
              "#f0f921"
             ]
            ],
            "type": "histogram2dcontour"
           }
          ],
          "mesh3d": [
           {
            "colorbar": {
             "outlinewidth": 0,
             "ticks": ""
            },
            "type": "mesh3d"
           }
          ],
          "parcoords": [
           {
            "line": {
             "colorbar": {
              "outlinewidth": 0,
              "ticks": ""
             }
            },
            "type": "parcoords"
           }
          ],
          "pie": [
           {
            "automargin": true,
            "type": "pie"
           }
          ],
          "scatter": [
           {
            "fillpattern": {
             "fillmode": "overlay",
             "size": 10,
             "solidity": 0.2
            },
            "type": "scatter"
           }
          ],
          "scatter3d": [
           {
            "line": {
             "colorbar": {
              "outlinewidth": 0,
              "ticks": ""
             }
            },
            "marker": {
             "colorbar": {
              "outlinewidth": 0,
              "ticks": ""
             }
            },
            "type": "scatter3d"
           }
          ],
          "scattercarpet": [
           {
            "marker": {
             "colorbar": {
              "outlinewidth": 0,
              "ticks": ""
             }
            },
            "type": "scattercarpet"
           }
          ],
          "scattergeo": [
           {
            "marker": {
             "colorbar": {
              "outlinewidth": 0,
              "ticks": ""
             }
            },
            "type": "scattergeo"
           }
          ],
          "scattergl": [
           {
            "marker": {
             "colorbar": {
              "outlinewidth": 0,
              "ticks": ""
             }
            },
            "type": "scattergl"
           }
          ],
          "scattermapbox": [
           {
            "marker": {
             "colorbar": {
              "outlinewidth": 0,
              "ticks": ""
             }
            },
            "type": "scattermapbox"
           }
          ],
          "scatterpolar": [
           {
            "marker": {
             "colorbar": {
              "outlinewidth": 0,
              "ticks": ""
             }
            },
            "type": "scatterpolar"
           }
          ],
          "scatterpolargl": [
           {
            "marker": {
             "colorbar": {
              "outlinewidth": 0,
              "ticks": ""
             }
            },
            "type": "scatterpolargl"
           }
          ],
          "scatterternary": [
           {
            "marker": {
             "colorbar": {
              "outlinewidth": 0,
              "ticks": ""
             }
            },
            "type": "scatterternary"
           }
          ],
          "surface": [
           {
            "colorbar": {
             "outlinewidth": 0,
             "ticks": ""
            },
            "colorscale": [
             [
              0,
              "#0d0887"
             ],
             [
              0.1111111111111111,
              "#46039f"
             ],
             [
              0.2222222222222222,
              "#7201a8"
             ],
             [
              0.3333333333333333,
              "#9c179e"
             ],
             [
              0.4444444444444444,
              "#bd3786"
             ],
             [
              0.5555555555555556,
              "#d8576b"
             ],
             [
              0.6666666666666666,
              "#ed7953"
             ],
             [
              0.7777777777777778,
              "#fb9f3a"
             ],
             [
              0.8888888888888888,
              "#fdca26"
             ],
             [
              1,
              "#f0f921"
             ]
            ],
            "type": "surface"
           }
          ],
          "table": [
           {
            "cells": {
             "fill": {
              "color": "#EBF0F8"
             },
             "line": {
              "color": "white"
             }
            },
            "header": {
             "fill": {
              "color": "#C8D4E3"
             },
             "line": {
              "color": "white"
             }
            },
            "type": "table"
           }
          ]
         },
         "layout": {
          "annotationdefaults": {
           "arrowcolor": "#2a3f5f",
           "arrowhead": 0,
           "arrowwidth": 1
          },
          "autotypenumbers": "strict",
          "coloraxis": {
           "colorbar": {
            "outlinewidth": 0,
            "ticks": ""
           }
          },
          "colorscale": {
           "diverging": [
            [
             0,
             "#8e0152"
            ],
            [
             0.1,
             "#c51b7d"
            ],
            [
             0.2,
             "#de77ae"
            ],
            [
             0.3,
             "#f1b6da"
            ],
            [
             0.4,
             "#fde0ef"
            ],
            [
             0.5,
             "#f7f7f7"
            ],
            [
             0.6,
             "#e6f5d0"
            ],
            [
             0.7,
             "#b8e186"
            ],
            [
             0.8,
             "#7fbc41"
            ],
            [
             0.9,
             "#4d9221"
            ],
            [
             1,
             "#276419"
            ]
           ],
           "sequential": [
            [
             0,
             "#0d0887"
            ],
            [
             0.1111111111111111,
             "#46039f"
            ],
            [
             0.2222222222222222,
             "#7201a8"
            ],
            [
             0.3333333333333333,
             "#9c179e"
            ],
            [
             0.4444444444444444,
             "#bd3786"
            ],
            [
             0.5555555555555556,
             "#d8576b"
            ],
            [
             0.6666666666666666,
             "#ed7953"
            ],
            [
             0.7777777777777778,
             "#fb9f3a"
            ],
            [
             0.8888888888888888,
             "#fdca26"
            ],
            [
             1,
             "#f0f921"
            ]
           ],
           "sequentialminus": [
            [
             0,
             "#0d0887"
            ],
            [
             0.1111111111111111,
             "#46039f"
            ],
            [
             0.2222222222222222,
             "#7201a8"
            ],
            [
             0.3333333333333333,
             "#9c179e"
            ],
            [
             0.4444444444444444,
             "#bd3786"
            ],
            [
             0.5555555555555556,
             "#d8576b"
            ],
            [
             0.6666666666666666,
             "#ed7953"
            ],
            [
             0.7777777777777778,
             "#fb9f3a"
            ],
            [
             0.8888888888888888,
             "#fdca26"
            ],
            [
             1,
             "#f0f921"
            ]
           ]
          },
          "colorway": [
           "#636efa",
           "#EF553B",
           "#00cc96",
           "#ab63fa",
           "#FFA15A",
           "#19d3f3",
           "#FF6692",
           "#B6E880",
           "#FF97FF",
           "#FECB52"
          ],
          "font": {
           "color": "#2a3f5f"
          },
          "geo": {
           "bgcolor": "white",
           "lakecolor": "white",
           "landcolor": "#E5ECF6",
           "showlakes": true,
           "showland": true,
           "subunitcolor": "white"
          },
          "hoverlabel": {
           "align": "left"
          },
          "hovermode": "closest",
          "mapbox": {
           "style": "light"
          },
          "paper_bgcolor": "white",
          "plot_bgcolor": "#E5ECF6",
          "polar": {
           "angularaxis": {
            "gridcolor": "white",
            "linecolor": "white",
            "ticks": ""
           },
           "bgcolor": "#E5ECF6",
           "radialaxis": {
            "gridcolor": "white",
            "linecolor": "white",
            "ticks": ""
           }
          },
          "scene": {
           "xaxis": {
            "backgroundcolor": "#E5ECF6",
            "gridcolor": "white",
            "gridwidth": 2,
            "linecolor": "white",
            "showbackground": true,
            "ticks": "",
            "zerolinecolor": "white"
           },
           "yaxis": {
            "backgroundcolor": "#E5ECF6",
            "gridcolor": "white",
            "gridwidth": 2,
            "linecolor": "white",
            "showbackground": true,
            "ticks": "",
            "zerolinecolor": "white"
           },
           "zaxis": {
            "backgroundcolor": "#E5ECF6",
            "gridcolor": "white",
            "gridwidth": 2,
            "linecolor": "white",
            "showbackground": true,
            "ticks": "",
            "zerolinecolor": "white"
           }
          },
          "shapedefaults": {
           "line": {
            "color": "#2a3f5f"
           }
          },
          "ternary": {
           "aaxis": {
            "gridcolor": "white",
            "linecolor": "white",
            "ticks": ""
           },
           "baxis": {
            "gridcolor": "white",
            "linecolor": "white",
            "ticks": ""
           },
           "bgcolor": "#E5ECF6",
           "caxis": {
            "gridcolor": "white",
            "linecolor": "white",
            "ticks": ""
           }
          },
          "title": {
           "x": 0.05
          },
          "xaxis": {
           "automargin": true,
           "gridcolor": "white",
           "linecolor": "white",
           "ticks": "",
           "title": {
            "standoff": 15
           },
           "zerolinecolor": "white",
           "zerolinewidth": 2
          },
          "yaxis": {
           "automargin": true,
           "gridcolor": "white",
           "linecolor": "white",
           "ticks": "",
           "title": {
            "standoff": 15
           },
           "zerolinecolor": "white",
           "zerolinewidth": 2
          }
         }
        },
        "title": {
         "text": "Average income by social status"
        },
        "xaxis": {
         "anchor": "y",
         "domain": [
          0,
          1
         ],
         "title": {
          "text": "status"
         }
        },
        "yaxis": {
         "anchor": "x",
         "domain": [
          0,
          1
         ],
         "title": {
          "text": "value"
         }
        }
       }
      }
     },
     "metadata": {},
     "output_type": "display_data"
    }
   ],
   "source": [
    "pd.options.plotting.backend = \"plotly\"\n",
    "df.groupby('status')['income'].mean().plot(kind='bar', \n",
    "                                           title='Average income by social status',\n",
    "                                           text_auto=True)"
   ]
  },
  {
   "cell_type": "code",
   "execution_count": null,
   "metadata": {},
   "outputs": [],
   "source": []
  }
 ],
 "metadata": {
  "kernelspec": {
   "display_name": "Python 3.9.13 ('adv_rl')",
   "language": "python",
   "name": "python3"
  },
  "language_info": {
   "codemirror_mode": {
    "name": "ipython",
    "version": 3
   },
   "file_extension": ".py",
   "mimetype": "text/x-python",
   "name": "python",
   "nbconvert_exporter": "python",
   "pygments_lexer": "ipython3",
   "version": "3.9.13"
  },
  "orig_nbformat": 4,
  "vscode": {
   "interpreter": {
    "hash": "b56e018f216d5d9e79dda137e8a8b613ffc749612a22bd44cec590afb667c765"
   }
  }
 },
 "nbformat": 4,
 "nbformat_minor": 2
}
