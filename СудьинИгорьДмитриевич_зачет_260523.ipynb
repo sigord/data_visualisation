{
 "cells": [
  {
   "attachments": {},
   "cell_type": "markdown",
   "metadata": {},
   "source": [
    "Используя Bokeh, постройте  круговую диаграмму - количество вакансий внутри города. Выдвиньте клин, соответствующий городу Москва. Добавьте название диаграммы. В качестве источника данных используйте файл по ссылке ниже:\n",
    "\n",
    "https://disk.yandex.ru/i/yDppoT1Txpy7Fg"
   ]
  },
  {
   "cell_type": "code",
   "execution_count": null,
   "metadata": {},
   "outputs": [],
   "source": []
  },
  {
   "cell_type": "code",
   "execution_count": null,
   "metadata": {},
   "outputs": [],
   "source": []
  }
 ],
 "metadata": {
  "language_info": {
   "name": "python"
  },
  "orig_nbformat": 4
 },
 "nbformat": 4,
 "nbformat_minor": 2
}
